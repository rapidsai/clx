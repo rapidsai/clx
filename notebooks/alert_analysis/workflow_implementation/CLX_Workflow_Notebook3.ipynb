{
 "cells": [
  {
   "cell_type": "markdown",
   "metadata": {},
   "source": [
    "# CLX Packaged Workflow Example: Notable Alerts in Splunk (GTC DC 2019)\n",
    "*Notebook 3 of 3*\n",
    "\n",
    "\n",
    "## Author\n",
    " - Bianca Rhodes (NVIDIA) [brhodes@nvidia.com]\n",
    "\n",
    "## Development Notes\n",
    "* Developed using: RAPIDS v0.11.0 and CLX v0.11.0\n",
    "* Last tested using: RAPIDS v0.11.0 and CLX v0.11.0 on Nov 5, 2019\n",
    "\n",
    "\n",
    "## Introduction to Using a CLX Packaged Workflow\n",
    "\n",
    "[CLX](https://github.com/rapidsai/clx) provides an off-the-shelf version of this workflow, with an option to configure your `threshold` value.\n",
    "Here we show how to use the splunk alert workflow built into CLX.  \n",
    "\n",
    "https://github.com/rapidsai/clx/blob/branch-0.11/clx/workflow/splunk_alert_workflow.py  "
   ]
  },
  {
   "cell_type": "code",
   "execution_count": 2,
   "metadata": {},
   "outputs": [],
   "source": [
    "from clx.workflow.splunk_alert_workflow import SplunkAlertWorkflow"
   ]
  },
  {
   "cell_type": "markdown",
   "metadata": {},
   "source": [
    "Define your source and destination locations"
   ]
  },
  {
   "cell_type": "code",
   "execution_count": 3,
   "metadata": {},
   "outputs": [],
   "source": [
    "source = {\n",
    "    \"type\": \"kafka\",\n",
    "    \"kafka_brokers\": \"kafka:9092\",\n",
    "    \"group_id\": \"gtcdc2\",\n",
    "    \"batch_size\": 24,\n",
    "    \"consumer_kafka_topics\": [\"gtcdemo_raw\"],\n",
    "    \"time_window\": 5,\n",
    "}\n",
    "dest = {\n",
    "    \"type\": \"kafka\",\n",
    "    \"kafka_brokers\": \"kafka:9092\",\n",
    "    \"batch_size\": 24,\n",
    "    \"publisher_kafka_topic\": \"gtcdemo_enriched\",\n",
    "    \"output_delimiter\": \",\",\n",
    "}"
   ]
  },
  {
   "cell_type": "markdown",
   "metadata": {},
   "source": [
    "Instantiate your new workflow and run it"
   ]
  },
  {
   "cell_type": "code",
   "execution_count": 3,
   "metadata": {},
   "outputs": [
    {
     "name": "stdout",
     "output_type": "stream",
     "text": [
      "Assignment: [TopicPartition{topic=gtcdemo_raw,partition=0,offset=-1001,error=None}]\n"
     ]
    }
   ],
   "source": [
    "workflow = SplunkAlertWorkflow(name=\"splunk_workflow\", source=source, destination=dest,\n",
    "                               threshold=2.0, raw_data_col_name=\"Raw\")\n",
    "workflow.run_workflow()"
   ]
  },
  {
   "cell_type": "markdown",
   "metadata": {},
   "source": [
    "We have encapsulated all code inside of package. It allows for code to be highly transportable cross environment. Eliminated the work of re-engineering and debugging the workflow."
   ]
  },
  {
   "cell_type": "markdown",
   "metadata": {},
   "source": [
    "![Visualization](./image4.png)"
   ]
  },
  {
   "cell_type": "markdown",
   "metadata": {},
   "source": [
    "![Visualization](./image5.png)"
   ]
  },
  {
   "cell_type": "markdown",
   "metadata": {},
   "source": [
    "To get data out of Splunk you can use:    \n",
    "* Splunk REST API (https://www.splunk.com/blog/2011/08/02/splunk-rest-api-is-easy-to-use.html) \n",
    "* CLX Siem Integration - Splunk2Kafka App (https://github.com/rapidsai/clx/tree/branch-0.11/siem_integrations)"
   ]
  },
  {
   "cell_type": "markdown",
   "metadata": {},
   "source": [
    "# Splunk Alert Analysis - Output Data in Splunk"
   ]
  },
  {
   "cell_type": "markdown",
   "metadata": {},
   "source": [
    "![Visualization](./image8.png)"
   ]
  },
  {
   "cell_type": "code",
   "execution_count": null,
   "metadata": {},
   "outputs": [],
   "source": []
  }
 ],
 "metadata": {
  "kernelspec": {
   "display_name": "Python 3",
   "language": "python",
   "name": "python3"
  },
  "language_info": {
   "codemirror_mode": {
    "name": "ipython",
    "version": 3
   },
   "file_extension": ".py",
   "mimetype": "text/x-python",
   "name": "python",
   "nbconvert_exporter": "python",
   "pygments_lexer": "ipython3",
   "version": "3.7.3"
  }
 },
 "nbformat": 4,
 "nbformat_minor": 4
}
