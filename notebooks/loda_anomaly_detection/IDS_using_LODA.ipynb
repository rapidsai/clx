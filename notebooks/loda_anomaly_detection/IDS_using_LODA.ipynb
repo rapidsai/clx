{
 "cells": [
  {
   "cell_type": "markdown",
   "metadata": {},
   "source": [
    "## Intrusion detection using anomaly detection algorithm"
   ]
  },
  {
   "cell_type": "code",
   "execution_count": 67,
   "metadata": {},
   "outputs": [],
   "source": [
    "%config IPCompleter.use_jedi = False\n",
    "import pandas as pd \n",
    "import cupy as cp \n",
    "import cudf\n",
    "import cuml\n",
    "import matplotlib.pylab as plt \n",
    "import os \n",
    "import numpy as np\n",
    "from cuml.decomposition import PCA as cu_pca\n",
    "import cuml.metrics as mt \n",
    "from itertools import permutations\n",
    "import sklearn.metrics as sk_mt\n",
    "from clx.analytics.loda import Loda"
   ]
  },
  {
   "cell_type": "code",
   "execution_count": null,
   "metadata": {},
   "outputs": [],
   "source": []
  },
  {
   "cell_type": "code",
   "execution_count": 5,
   "metadata": {},
   "outputs": [],
   "source": [
    "%matplotlib inline\n",
    "cp.random.seed(101)"
   ]
  },
  {
   "cell_type": "markdown",
   "metadata": {},
   "source": [
    "## Introduction \n",
    "\n",
    "In this workflow we show how to use Loda anomaly detector for intrusion detection usecase. We train LODA to identify attacks in the form of bots in netflow data. The benchmark dataset is taken from [cic_ids2017](https://www.unb.ca/cic/datasets/ids-2017.html). For training we use the activity collected from Monday flow data to train the detector without supervision and evaluate on Friday flow data for bots datection. Monday dat are all benign, while Friday data consists of large proportion of benign and small proportion of attacks in the form of bots. "
   ]
  },
  {
   "cell_type": "markdown",
   "metadata": {},
   "source": [
    "#### Load and preprocessing dataset"
   ]
  },
  {
   "cell_type": "code",
   "execution_count": 6,
   "metadata": {},
   "outputs": [],
   "source": [
    "dir_path = \"/cybermount/datasets/cic_ids2017/generated_labeled_flow_data\"\n",
    "datasets = os.listdir(dir_path)"
   ]
  },
  {
   "cell_type": "code",
   "execution_count": 7,
   "metadata": {},
   "outputs": [
    {
     "name": "stdout",
     "output_type": "stream",
     "text": [
      "['Wednesday-workingHours.pcap_ISCX.csv', 'Tuesday-WorkingHours.pcap_ISCX.csv', 'Thursday-WorkingHours-Morning-WebAttacks.pcap_ISCX.csv', 'Thursday-WorkingHours-Afternoon-Infilteration.pcap_ISCX.csv', 'Monday-WorkingHours.pcap_ISCX.csv', 'Friday-WorkingHours-Morning.pcap_ISCX.csv', 'Friday-WorkingHours-Afternoon-DDos.pcap_ISCX.csv', 'Friday-WorkingHours-Afternoon-PortScan.pcap_ISCX.csv']\n"
     ]
    }
   ],
   "source": [
    "print(datasets)"
   ]
  },
  {
   "cell_type": "code",
   "execution_count": 8,
   "metadata": {},
   "outputs": [],
   "source": [
    "def load_dataset(dir_path):\n",
    "    df = cudf.read_csv(dir_path) \n",
    "    df.columns = [ '_'.join(col.split()) for col in df.columns.str.strip()]\n",
    "    return df\n",
    "def drop_nonunique_features(df, nunique=1):\n",
    "    # drop features with less than 2 unique variables. \n",
    "    var_col = []\n",
    "    for i in df.columns:\n",
    "        if df[i].value_counts().nunique() <= nunique:\n",
    "            var_col.append(i)\n",
    "    return df.drop(var_col, axis=1, inplace=False)\n",
    "def remove_naninf(df):\n",
    "    # Remove nan, inf rows. \n",
    "    temp_df = df.select_dtypes('float64')\n",
    "    na_rows = temp_df.isin([cp.inf, cp.nan, -cp.inf]).any(1)\n",
    "    return df[~na_rows]\n",
    "    "
   ]
  },
  {
   "cell_type": "markdown",
   "metadata": {},
   "source": [
    "We use `Monday-WorkingHours` dataset for fitting `Loda` model, this flow dataset doesn't have any attacks. For evaluation we test the trained `Loda` model on activities that contains both benign and attacks. We use `Friday-WorkingHours-Morning` that have attack in the form of bots."
   ]
  },
  {
   "cell_type": "code",
   "execution_count": 9,
   "metadata": {},
   "outputs": [],
   "source": [
    "# Training days\n",
    "mon_df = load_dataset(os.path.join(dir_path, \"Monday-WorkingHours.pcap_ISCX.csv\")).pipe(drop_nonunique_features).pipe(remove_naninf).to_pandas()\n",
    "\n",
    "# Testing days \n",
    "frid_df = load_dataset(os.path.join(dir_path, \"Friday-WorkingHours-Morning.pcap_ISCX.csv\")).pipe(drop_nonunique_features).pipe(remove_naninf).to_pandas()\n"
   ]
  },
  {
   "cell_type": "code",
   "execution_count": 10,
   "metadata": {},
   "outputs": [
    {
     "name": "stdout",
     "output_type": "stream",
     "text": [
      "Proportion of Benign to Bots class in the evaluation dataset\n",
      " BENIGN    0.989754\n",
      "Bot       0.010246\n",
      "Name: Label, dtype: float64\n"
     ]
    }
   ],
   "source": [
    "# Proportion of anomalies in test data \n",
    "print(f\"Proportion of Benign to Bots class in the evaluation dataset\\n {frid_df.Label.value_counts() / frid_df.shape[0]}\")"
   ]
  },
  {
   "cell_type": "markdown",
   "metadata": {},
   "source": [
    "Encode categorical columns."
   ]
  },
  {
   "cell_type": "markdown",
   "metadata": {},
   "source": [
    "#### Feature extraction and transformation methods.\n",
    "\n",
    "We tried two approach to transform the categorical features, such as `Source_IP`, `Destination_IP`, `Source_Port`, `Destination_Port` into numerical features, so that can easily be used from Loda algorithm.\n",
    "1. Transform categorical features into count/frequency format."
   ]
  },
  {
   "cell_type": "code",
   "execution_count": 11,
   "metadata": {},
   "outputs": [],
   "source": [
    "def frequent_encoding(features, df):\n",
    "    \n",
    "    # Econde the categorical values based on the frequency of usage normalized over all rows.\n",
    "    for feature in features:\n",
    "        num_unique = df[feature].nunique()\n",
    "        freq_count = df.groupby(feature)[feature].count()/ num_unique\n",
    "        df[feature] = df[feature].map(freq_count)\n",
    "        df[feature]  = (df[feature] - df[feature].min())/(df[feature].max() - df[feature].min())\n",
    "    return onehot_encode('Protocol', df)\n",
    "\n",
    "def onehot_encode(feature, df):\n",
    "    dum_protocol = cudf.get_dummies(df, columns=[feature], prefix=[feature])\n",
    "    protocol = dum_protocol.iloc[:, -3:] # hard coded. \n",
    "    df = cudf.concat([df, protocol], axis=1)\n",
    "    return df.drop(feature, inplace=False, axis=1)"
   ]
  },
  {
   "cell_type": "markdown",
   "metadata": {},
   "source": [
    "2. Compute entropy of categorical values based on subgroups\n",
    "\n",
    "$H(X) = -\\sum_{x_i \\in X} p(x_i) \\log p(x_i)$ Where $p(x_i) = \\frac{count(x_i)}{count(X)}$\n",
    "\n",
    "We compute the entropy of sub-groups formed from `['Source_IP', 'Destination_IP', 'Source_Port', 'Destination_Port']` and compute all pairwise pairwise entropy among each other. Once computed append the new numeric features to the original dataframe and remove the original categorical features. "
   ]
  },
  {
   "cell_type": "code",
   "execution_count": 12,
   "metadata": {},
   "outputs": [],
   "source": [
    "def entropy(series, base=None):\n",
    "    vc = series.value_counts(normalize=True, sort=False)\n",
    "    return -(vc * np.log(vc)/np.log(series.shape[0])).sum()\n",
    "def encode_entropy(df, feature , target):\n",
    "    feature_entropy = df.groupby(feature).agg(**{\n",
    "        target+\"_\"+feature: (target, entropy)\n",
    "        })\n",
    "    return df.join(feature_entropy, on=feature, rsuffix=\"r_\")"
   ]
  },
  {
   "cell_type": "code",
   "execution_count": 13,
   "metadata": {},
   "outputs": [],
   "source": [
    "cat_features = ['Source_IP', 'Destination_IP', 'Source_Port', 'Destination_Port']"
   ]
  },
  {
   "cell_type": "code",
   "execution_count": 14,
   "metadata": {},
   "outputs": [
    {
     "name": "stdout",
     "output_type": "stream",
     "text": [
      "Source_IP Destination_IP\n",
      "Source_IP Source_Port\n",
      "Source_IP Destination_Port\n",
      "Destination_IP Source_IP\n",
      "Destination_IP Source_Port\n",
      "Destination_IP Destination_Port\n",
      "Source_Port Source_IP\n",
      "Source_Port Destination_IP\n",
      "Source_Port Destination_Port\n",
      "Destination_Port Source_IP\n",
      "Destination_Port Destination_IP\n",
      "Destination_Port Source_Port\n"
     ]
    }
   ],
   "source": [
    "# Encode based on entropy of pairwise of categorical features.\n",
    "for feature, target in permutations(cat_features,2):\n",
    "    print(feature, target)\n",
    "    mon_df = encode_entropy(mon_df, feature, target)\n",
    "    frid_df = encode_entropy(frid_df, feature, target)\n",
    "\n"
   ]
  },
  {
   "cell_type": "code",
   "execution_count": 15,
   "metadata": {},
   "outputs": [],
   "source": [
    "def remove_categorical_features(df):\n",
    "    df = df.select_dtypes(['float64','int64'])\n",
    "    return df.drop([\"Protocol\", \"Source_Port\", \"Destination_Port\"], axis=1, inplace=False)\n",
    "\n",
    "def remove_correlated_features(df):\n",
    "    \"\"\"\n",
    "    param df: pd.DataFrame\n",
    "    \"\"\"\n",
    "    corr_mat = df.corr()\n",
    "    # Select upper triangle of correlation matrix\n",
    "    upper = corr_mat.where(np.triu(np.ones(corr_mat.shape), k=1).astype(np.bool))\n",
    "    # Find features with correlation greater than 0.95\n",
    "    to_drop = [column for column in upper.columns if any(upper[column] > 0.95)]\n",
    "    return to_drop, df.drop(to_drop, inplace=False, axis=1)\n"
   ]
  },
  {
   "cell_type": "markdown",
   "metadata": {},
   "source": [
    "Now remove all highly correlated features and extract label from test data for evaluation."
   ]
  },
  {
   "cell_type": "code",
   "execution_count": 16,
   "metadata": {},
   "outputs": [],
   "source": [
    "# Training data\n",
    "X_train = remove_categorical_features(mon_df)\n",
    "removed_cols, X_train = remove_correlated_features(X_train)\n"
   ]
  },
  {
   "cell_type": "code",
   "execution_count": 17,
   "metadata": {},
   "outputs": [],
   "source": [
    "# Test data\n",
    "label = (frid_df['Label']==\"BENIGN\").astype(int)\n",
    "X_test = remove_categorical_features(frid_df)\n",
    "X_test.drop(removed_cols, inplace=True, axis=1)"
   ]
  },
  {
   "cell_type": "code",
   "execution_count": 18,
   "metadata": {},
   "outputs": [],
   "source": [
    "# Frequent_encoding \n",
    "#X_test = frequent_encoding(['Source IP', 'Destination IP', 'Source Port', 'Destination Port'], X_test.copy())"
   ]
  },
  {
   "cell_type": "code",
   "execution_count": 19,
   "metadata": {},
   "outputs": [],
   "source": [
    "# Normalize if needed. \n",
    "normalize = lambda x : (x - x.min()) /(x.max() - x.min() + 0.0000001)\n"
   ]
  },
  {
   "cell_type": "code",
   "execution_count": 20,
   "metadata": {},
   "outputs": [],
   "source": [
    "# Transform back from pandas to cudf to work with Loda. \n",
    "X_train = cudf.from_pandas(X_train)\n",
    "X_test = cudf.from_pandas(X_test)"
   ]
  },
  {
   "cell_type": "markdown",
   "metadata": {},
   "source": [
    "### Train and test anomaly detector."
   ]
  },
  {
   "cell_type": "markdown",
   "metadata": {},
   "source": [
    "Now we fit `Loda` to the training dataset. We can simply train the anomaly detector and generate score from the trained model. For this experiment we will fit the clean data from `Monday working hours` and generate score for the `Friday working hours`\n",
    "\n",
    "We train `Loda` algorithm with `number_random_cuts=1000`."
   ]
  },
  {
   "cell_type": "code",
   "execution_count": 21,
   "metadata": {},
   "outputs": [],
   "source": [
    "ld = Loda(n_random_cuts=1000)"
   ]
  },
  {
   "cell_type": "code",
   "execution_count": 22,
   "metadata": {},
   "outputs": [
    {
     "data": {
      "text/plain": [
       "<loda.Loda at 0x7f3259e8dc50>"
      ]
     },
     "execution_count": 22,
     "metadata": {},
     "output_type": "execute_result"
    }
   ],
   "source": [
    "ld.fit(X_train.values)"
   ]
  },
  {
   "cell_type": "code",
   "execution_count": 23,
   "metadata": {},
   "outputs": [],
   "source": [
    "x_scores = ld.score(X_test.values)"
   ]
  },
  {
   "cell_type": "markdown",
   "metadata": {},
   "source": [
    "### Evaluation"
   ]
  },
  {
   "cell_type": "code",
   "execution_count": 55,
   "metadata": {},
   "outputs": [],
   "source": [
    "# Compute metrics \n",
    "def average_precision_score(y_true, y_score):\n",
    "    \"\"\"\n",
    "    Compute average precision score using precision and recall computed from cuml. \n",
    "    \"\"\"\n",
    "    precision, recall, _ = mt.precision_recall_curve(y_true, y_score) \n",
    "    # return step function integral \n",
    "    return -cp.sum(cp.diff(recall) * cp.array(precision)[:-1])\n",
    "\n",
    "def metrics(y_true, y_score):\n",
    "    auc = mt.roc_auc_score(y_true=y_true, y_score=y_score)\n",
    "    ap = average_precision_score(y_true, y_score)\n",
    "    return [auc, ap]\n",
    "\n",
    "def plot_roc(label, y_scores):\n",
    "    fpr, tpr, _ = sk_mt.roc_curve(y_true=label.values.tolist(), y_score=y_scores.tolist())    \n",
    "    auc = metrics(label, y_scores)[0]\n",
    "    plt.plot(fpr, tpr, label=\"ROC = \" + str(np.round(auc,2)))\n",
    "    plt.plot(np.arange(0,1.1,0.1), np.arange(0,1.1,0.1), 'r-')\n",
    "    plt.ylabel('tpr')\n",
    "    plt.xlabel('fpr')\n",
    "    plt.legend(loc='best')\n",
    "    plt.title('Area under AUC curve')\n",
    "def plot_pr(label, y_scores):\n",
    "    \n",
    "    ap = metrics(label, y_scores)[1]\n",
    "    precision, recall, _ = mt.precision_recall_curve( label, y_scores)\n",
    "    plt.plot(recall, precision, label='AP = ' + str(np.round(ap,2)))\n",
    "    plt.ylabel('Precision')\n",
    "    plt.xlabel('Recall')\n",
    "    plt.legend(loc='best')\n",
    "    plt.title('Area under PR curve')"
   ]
  },
  {
   "cell_type": "code",
   "execution_count": 25,
   "metadata": {},
   "outputs": [],
   "source": [
    "auc, ap = metrics(label, x_scores)"
   ]
  },
  {
   "cell_type": "code",
   "execution_count": 26,
   "metadata": {},
   "outputs": [
    {
     "name": "stdout",
     "output_type": "stream",
     "text": [
      "AUC: 0.544910728931427 and Average precision (AP): 0.9919086747870547\n"
     ]
    }
   ],
   "source": [
    "print(f\"AUC: {auc} and Average precision (AP): {ap}\")"
   ]
  },
  {
   "cell_type": "markdown",
   "metadata": {},
   "source": [
    "AP is good but AUC is poor, we can improve this by reducing some of the noisey features. One way is to use PCA to remove irrelevant features."
   ]
  },
  {
   "cell_type": "markdown",
   "metadata": {},
   "source": [
    "### Removing redundant features using PCA\n",
    "We use `cudf` pca implementation as follows. "
   ]
  },
  {
   "cell_type": "code",
   "execution_count": 57,
   "metadata": {},
   "outputs": [],
   "source": [
    "# Reduce dimension. \n",
    "def pca_loda(x_train, x_test, variance=0.99):\n",
    "    \n",
    "#     if pca:\n",
    "#         pca = cu_pca(n_components=n_comp, whiten=False)\n",
    "#         x_train, x_test = pca.fit_transform(x_train), pca.fit_transform(x_test)\n",
    "    # Fit pca and preseve percentage variance. \n",
    "    x_train, n_component = pca_transform(x_train, variance=variance)\n",
    "    x_test  = cu_pca(n_components=n_component, whiten=False).fit_transform(x_test)\n",
    "    \n",
    "    loda_pca = Loda(n_random_cuts=500)\n",
    "    loda_pca.fit(x_train)\n",
    "    loda_score = loda_pca.score(x_test)\n",
    "    return metrics(label, loda_score), loda_score, n_component\n",
    "\n",
    "def pca_transform(df, variance=0.99):\n",
    "    pca = cu_pca(n_components=df.shape[1])\n",
    "    pca_xtrain = pca.fit_transform(df)\n",
    "    variance_exp = cp.cumsum(pca.explained_variance_ratio_)\n",
    "    n_components = variance_exp<=variance\n",
    "    return pca_xtrain[:,n_components], sum(n_components)"
   ]
  },
  {
   "cell_type": "code",
   "execution_count": null,
   "metadata": {},
   "outputs": [],
   "source": [
    "ap_auc, pca_scores, n_components_used = pca_loda(X_train.values, X_test.values, variance=0.999) "
   ]
  },
  {
   "cell_type": "code",
   "execution_count": 66,
   "metadata": {},
   "outputs": [
    {
     "data": {
      "image/png": "[encoded data removed]",
      "text/plain": [
       "<Figure size 864x360 with 2 Axes>"
      ]
     },
     "metadata": {
      "needs_background": "light"
     },
     "output_type": "display_data"
    }
   ],
   "source": [
    "fig = plt.figure(figsize=(12,5))\n",
    "plt.subplot(1,2,1)\n",
    "plot_pr(label, pca_scores)\n",
    "plt.subplot(1,2,2)\n",
    "plot_roc(label, pca_scores)"
   ]
  },
  {
   "cell_type": "code",
   "execution_count": 64,
   "metadata": {},
   "outputs": [
    {
     "name": "stdout",
     "output_type": "stream",
     "text": [
      "Total number features used 15\n"
     ]
    }
   ],
   "source": [
    "print(f\"Total number features used {n_components_used}\")"
   ]
  },
  {
   "cell_type": "code",
   "execution_count": null,
   "metadata": {},
   "outputs": [],
   "source": []
  }
 ],
 "metadata": {
  "kernelspec": {
   "display_name": "Python 3",
   "language": "python",
   "name": "python3"
  },
  "language_info": {
   "codemirror_mode": {
    "name": "ipython",
    "version": 3
   },
   "file_extension": ".py",
   "mimetype": "text/x-python",
   "name": "python",
   "nbconvert_exporter": "python",
   "pygments_lexer": "ipython3",
   "version": "3.7.8"
  },
  "toc-autonumbering": false,
  "toc-showcode": true,
  "toc-showmarkdowntxt": true
 },
 "nbformat": 4,
 "nbformat_minor": 4
}
