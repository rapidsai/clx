{
 "metadata": {
  "language_info": {
   "codemirror_mode": {
    "name": "ipython",
    "version": 3
   },
   "file_extension": ".py",
   "mimetype": "text/x-python",
   "name": "python",
   "nbconvert_exporter": "python",
   "pygments_lexer": "ipython3",
   "version": "3.7.8-final"
  },
  "orig_nbformat": 2,
  "kernelspec": {
   "name": "python3",
   "display_name": "Python 3",
   "language": "python"
  }
 },
 "nbformat": 4,
 "nbformat_minor": 2,
 "cells": [
  {
   "source": [
<<<<<<< HEAD
    "## Anomaly detection using Lightweight Online Detector of Anomalies (LODA) with CuPy and RAPDIS. \n",
    "\n",
    "### Authors:\n",
    "Tadesse ZeMicheal (nvidia)\n",
    "### Introduction\n",
    "\n",
    "Anomaly detection is an important problem that has been studied within wide areas and application domains. Several anomaly detection algorithms are generic in nature, while many are developed specific to the domain of interest. In practice several ensemble-based anomaly detection algorithms has been shown to have superior performance many benchmark dataset, namely Isolation Forest, Loda and ensemble of Guassian mixture models ...etc.\n",
    "\n",
    "The Loda algorithm is one of highly performing generic anomaly detection algorithm. Loda approximate the join probability using an ensemble of one-dimensional histograms build from sparse random projections. Loda is computationally fast being linear with respect to training sample $n$ and dimension $d$. Additionally, Loda is also able be updated in real-time from stream of data, this makes attractive in domain of concept drifts, such as sensor outages, cybersecurity ...etc.\n",
    "\n",
    "Loda constructs $k$ one-dimensional histograms ${h_i}^k_{i=1}$, each approximate probability density ($p$) of input data projected into one-dimensional sparse projection vector $\\{w_i \\in R^d\\}^k_{i=1}$. The algorithm works as follows, first it constructs projection vector $w_i$ by starting all-zero vector, selecting $k=\\sqrt{d}$ features at random, and replacing this with random number generated from standard normal distribution.  Then a training example $X$ is projected to the real lines as $w^T_iX$, and a fixed-width histogram density estimator pipi is estimated heuristically or set from hyperparameter\n",
    "\n",
    "To compute anomaly score of a query point $X_q$, Loda computes the average log density as follows: $$f(X_q) = \\frac{1}{k}\\sum_i^k -\\log p_i(w_i^TX_q)$$\n",
    "Large score indicates anomalies of the data point. "
=======
    "## Anomaly detection using Lightweight Online Detector of Anomalies (LODA). \n",
    "\n",
    "The LODA algorithm consturcts $k$ one-dimensional histograms ${h_i}^k_{i=1}$, each approximate probablity density ($p$) of input data projected into one-dimenional sparse projection vector $\\{w_i \\in R^d\\}^k_{i=1}$. The algorithm works as follows, first it constructs projection vector $w_i$ by starting all-zero vector, selecting $k=\\sqrt{d}$ features at random, and replacing this with random number generated from standard normal distribution.  Then a training example $X$ is projected to the real lines as $w^T_iX$, and a fixed-width histogram density estimator $p_i$ is estimated viam method of []. \n",
    "\n",
    "To compute anomaly score of a query point $X_q$, LODA computes the average log density as follows: $$f(X_q) = \\frac{1}{k}\\sum_i^k -\\log p_i(w_i^TX_q)$$\n",
    "Large score idicates anomalies of the data point. "
>>>>>>> de0385846f131c563b18e248880fe07f6f233b17
   ],
   "cell_type": "markdown",
   "metadata": {}
  },
  {
   "source": [
    "## Implementation\n",
<<<<<<< HEAD
    "The nature of Loda being a projection based algorithm makes it appealing to parallelize and adopt into GPU. For both training and inference the ensemble of random projection vectors $w^T_iX$ can be implemented effectively using `cupy`. On top of Loda being fast algorithm the matrix operations are further accelerated due to the efficiency of running matrix operation on GPU. \n"
=======
    "The nature of LODA being projection based algorithm makes it appealing to parallelize and adopt into GPU. For both training and inference the ensemble of random projection vectors $w^T_iX$ can be implemented effectively using `cupy`. On top of LODA being fast algorithm the matrix operation are further accelerated due to the efficiency of running matrix operation on GPU. \n"
>>>>>>> de0385846f131c563b18e248880fe07f6f233b17
   ],
   "cell_type": "markdown",
   "metadata": {}
  },
  {
   "cell_type": "code",
<<<<<<< HEAD
   "execution_count": 1,
=======
   "execution_count": 3,
>>>>>>> de0385846f131c563b18e248880fe07f6f233b17
   "metadata": {},
   "outputs": [],
   "source": [
    "import cupy as cp \n",
    "import cudf, cuml \n",
    "import numpy as np \n",
    "import matplotlib.pylab as plt \n",
    "import cuxfilter as cf \n",
    "import cuml.metrics as mt \n",
    "%matplotlib inline "
   ]
  },
  {
   "cell_type": "code",
<<<<<<< HEAD
   "execution_count": 2,
=======
   "execution_count": 1,
>>>>>>> de0385846f131c563b18e248880fe07f6f233b17
   "metadata": {},
   "outputs": [],
   "source": [
    "class Loda(object):\n",
    "\n",
    "    def __init__(self,  n_bins=None, n_random_cuts=100):\n",
    "        \"\"\"\n",
    "        n_bins (int): Number of bins for each histogram. If None a heurstic is used to compute the number of bins. \n",
    "        n_random_cuts (int): Number of projection to use. \n",
    "        \"\"\"\n",
    "        self.n_bins = n_bins\n",
    "        self.n_random_cuts = n_random_cuts\n",
    "        self.weights = cp.ones(n_random_cuts) / n_random_cuts\n",
    "        self.projections = None \n",
    "        self.histograms = None \n",
    "        self.limits = None \n",
    "\n",
    "    def fit(self, X, y=None):\n",
    "\n",
    "        \"\"\" Fit training data and  construct histogram.\n",
    "        \n",
    "        The type of histogram is 'regular', and right-open\n",
    "        Note: If n_bins=None, the number of breaks is being computed as in:\n",
    "        L. Birge, Y. Rozenholc, How many bins should be put in a regular histogram? 2006\n",
    "        \"\"\"\n",
    "        nrows, n_components = X.shape \n",
    "        \n",
    "        # number of bins to use. \n",
    "        if not self.n_bins:\n",
    "            self.n_bins = int(1 * (nrows ** 1) * (cp.log(nrows) ** -1))\n",
    "        n_nonzero_components = cp.sqrt(n_components)\n",
    "        n_zero_components = n_components - cp.int(n_nonzero_components)\n",
    "\n",
    "        self.projections = cp.random.randn(self.n_random_cuts, n_components)\n",
    "        self.histograms = cp.zeros([self.n_random_cuts, self.n_bins])\n",
    "        self.limits = cp.zeros((self.n_random_cuts, self.n_bins + 1))\n",
    "        for i in range(self.n_random_cuts):\n",
    "            rands = cp.random.permutation(n_components)[:n_zero_components]\n",
    "            self.projections[i, rands] = 0.\n",
    "            projected_data = self.projections[i, :].dot(X.T)\n",
    "            self.histograms[i, :], self.limits[i, :] = cp.histogram(projected_data, bins=self.n_bins, density=False)\n",
    "            self.histograms[i, :] += 1e-12\n",
    "            self.histograms[i, :] /= cp.sum(self.histograms[i, :])\n",
    "        return self\n",
    "\n",
    "    def score(self, X):\n",
    "        \n",
    "        if cp.ndim(X) < 2:\n",
    "            X = X.reshape(1,-1)\n",
    "        pred_scores = cp.zeros([X.shape[0], 1])\n",
    "        for i in range(self.n_random_cuts):\n",
    "            projected_data = self.projections[i, :].dot(X.T)\n",
    "            inds = cp.searchsorted(self.limits[i, :self.n_bins - 1], projected_data, side='left')\n",
    "            pred_scores[:, 0] += -self.weights[i] * cp.log(self.histograms[i, inds])\n",
    "        pred_scores /= self.n_random_cuts\n",
    "        return pred_scores.ravel()\n",
    "\n",
    "    def instance_score(self, x, projection_index):\n",
    "        \"\"\"\n",
    "            Return scores from selected projection index. \n",
    "            x (cupy.ndarray) : D x 1 feature instance. \n",
    "\n",
    "        \"\"\"\n",
    "        if cp.ndim(x) < 2:\n",
    "            x = x.reshape(1,-1)\n",
    "        pred_scores = cp.zeros([x.shape[0], len(projection_index)])\n",
    "        for i in projection_index:\n",
    "            projected_data = self.projections[i, :].dot(x.T)\n",
    "            inds = cp.searchsorted(self.limits[i, :self.n_bins - 1], projected_data, side='left')\n",
    "            pred_scores[:, i] = -self.weights[i] * cp.log(self.histograms[i, inds])\n",
    "        \n",
    "        return pred_scores\n",
    "\n",
    "\n",
    "    def t_test(self, with_sample, without_sample):\n",
    "        \"\"\"\n",
    "        compute one-tailed two-sample t-test with a test statistics according to\n",
    "            t_j: \\frac{\\mu_j - \\bar{\\mu_j}}{\\sqrt{\\frac{s^2_j}{\\norm{I_j}} + \\frac{\\bar{s^2_j}}{\\norm{\\bar{I_j}}}}}\n",
    "        \"\"\"\n",
    "        \n",
    "        return (cp.mean(with_sample) - cp.mean(without_sample)) / cp.sqrt(cp.var(with_sample)**2 / len(with_sample) + cp.var(without_sample)**2 / len(without_sample))\n",
    "\n",
    "    def explain(self, x, scaled=True):\n",
    "        # Return explanation of the anomalies based on the projection vectors. \n",
    "     \n",
    "        # iterate each features and compare the score. \n",
    "        '''\n",
    "        Let v_j : vector scores from projections that only involves feature j.\n",
    "        Let v_nj: vector scores from projections that don't include feature j.\n",
    "              \n",
    "        Order the score of each feature based on the scores, the higher the score is the more important the feature it is. \n",
    "        \n",
    "        '''\n",
    "        if cp.ndim(x) < 2:\n",
    "            x = x.reshape(1, -1)\n",
    "        ranked_feature_importance = cp.zeros([x.shape[1],1])\n",
    "        \n",
    "        for feature in range(x.shape[1]):\n",
    "            # find all projections without the feature j and with feature j\n",
    "            index_selected_feature = cp.where(self.projections[:,feature] != 0)[0]\n",
    "            index_not_selected_feature = cp.where(self.projections[:, feature] == 0)[0]\n",
    "            #print(f\"selected index {index_selected_feature}\")\n",
    "            scores_with_feature = self.instance_score(x, index_selected_feature)\n",
    "            scores_without_feature = self.instance_score(x, index_not_selected_feature)\n",
    "            ranked_feature_importance[feature, 0] = self.t_test(scores_with_feature, scores_without_feature)\n",
    "        \n",
    "        if scaled:\n",
    "            assert cp.max(ranked_feature_importance) != cp.min(ranked_feature_importance)\n",
    "            normalized_score = (ranked_feature_importance - cp.min(ranked_feature_importance)) / (cp.max(ranked_feature_importance) - cp.min(ranked_feature_importance))\n",
    "            return  normalized_score\n",
    "        else:\n",
    "            return ranked_feature_importance\n"
   ]
  },
  {
   "source": [
    "Utility function to compute metrics. "
   ],
   "cell_type": "markdown",
   "metadata": {}
  },
  {
   "cell_type": "code",
<<<<<<< HEAD
   "execution_count": 3,
=======
   "execution_count": 19,
>>>>>>> de0385846f131c563b18e248880fe07f6f233b17
   "metadata": {},
   "outputs": [],
   "source": [
    "def average_precision_score(y_true, y_score):\n",
    "    \"\"\"\n",
    "    compute average precision score using precision and recall computed from cuml. \n",
    "    \"\"\"\n",
    "    precision, recall, _ = mt.precision_recall_curve(y_true, y_score) #, pos_label=pos_label, sample_weight=sample_weight)\n",
    "    # return step function integral \n",
    "    return -cp.sum(cp.diff(recall) * cp.array(precision)[:-1])\n",
    "\n",
    "def metrics(y_true, y_score):\n",
    "    auc = mt.roc_auc_score(y_true=y_true, y_score=y_score)\n",
    "    ap = average_precision_score(y_true, y_score)\n",
    "    # ap = mt.average_precision_score(y_true, y_score) # future implementation. \n",
    "    return [auc, ap]"
   ]
  },
  {
   "source": [
<<<<<<< HEAD
    "To test the implementation of the algorithm we use anomaly dataset benchmark from UCI dataset (https://archive.ics.uci.edu/ml/datasets.php) . For this particular example we use the Statlog (shuttle) dataset. The dataset consistst of 9 features with approximately 80\\% belong to nominal class and remaining to anomaly class. In the following experiment we evaluate the Loda algorithm how good is in ranking the anomalies over the nominal class.  \n"
=======
    "To test the implementation of the algorithm we use anomaly dataset benchmark from UCI. For this particular example we use shuttle dataset. "
>>>>>>> de0385846f131c563b18e248880fe07f6f233b17
   ],
   "cell_type": "markdown",
   "metadata": {}
  },
  {
   "cell_type": "code",
   "execution_count": 4,
   "metadata": {},
   "outputs": [
    {
     "output_type": "execute_result",
     "data": {
      "text/plain": [
       "     label  v1  v2  v3  v4  v5  v6  v7  v8  v9\n",
       "0  nominal  49  -1  77   0  50   5  28  28   0\n",
       "1  nominal  40   1  88   0  38   0  47  49   2\n",
       "2  nominal  37   0  77   0  -2 -17  41  80  40\n",
       "3  nominal  37   0  83   0   2  18  46  80  34\n",
       "4  nominal  55   0  83   0  56  25  27  26   0"
      ],
      "text/html": "<div>\n<style scoped>\n    .dataframe tbody tr th:only-of-type {\n        vertical-align: middle;\n    }\n\n    .dataframe tbody tr th {\n        vertical-align: top;\n    }\n\n    .dataframe thead th {\n        text-align: right;\n    }\n</style>\n<table border=\"1\" class=\"dataframe\">\n  <thead>\n    <tr style=\"text-align: right;\">\n      <th></th>\n      <th>label</th>\n      <th>v1</th>\n      <th>v2</th>\n      <th>v3</th>\n      <th>v4</th>\n      <th>v5</th>\n      <th>v6</th>\n      <th>v7</th>\n      <th>v8</th>\n      <th>v9</th>\n    </tr>\n  </thead>\n  <tbody>\n    <tr>\n      <th>0</th>\n      <td>nominal</td>\n      <td>49</td>\n      <td>-1</td>\n      <td>77</td>\n      <td>0</td>\n      <td>50</td>\n      <td>5</td>\n      <td>28</td>\n      <td>28</td>\n      <td>0</td>\n    </tr>\n    <tr>\n      <th>1</th>\n      <td>nominal</td>\n      <td>40</td>\n      <td>1</td>\n      <td>88</td>\n      <td>0</td>\n      <td>38</td>\n      <td>0</td>\n      <td>47</td>\n      <td>49</td>\n      <td>2</td>\n    </tr>\n    <tr>\n      <th>2</th>\n      <td>nominal</td>\n      <td>37</td>\n      <td>0</td>\n      <td>77</td>\n      <td>0</td>\n      <td>-2</td>\n      <td>-17</td>\n      <td>41</td>\n      <td>80</td>\n      <td>40</td>\n    </tr>\n    <tr>\n      <th>3</th>\n      <td>nominal</td>\n      <td>37</td>\n      <td>0</td>\n      <td>83</td>\n      <td>0</td>\n      <td>2</td>\n      <td>18</td>\n      <td>46</td>\n      <td>80</td>\n      <td>34</td>\n    </tr>\n    <tr>\n      <th>4</th>\n      <td>nominal</td>\n      <td>55</td>\n      <td>0</td>\n      <td>83</td>\n      <td>0</td>\n      <td>56</td>\n      <td>25</td>\n      <td>27</td>\n      <td>26</td>\n      <td>0</td>\n    </tr>\n  </tbody>\n</table>\n</div>"
     },
     "metadata": {},
     "execution_count": 4
    }
   ],
   "source": [
    "df = cudf.read_csv('shuttle.txt')\n",
    "df.head(5)"
   ]
  },
  {
   "cell_type": "code",
<<<<<<< HEAD
=======
   "execution_count": null,
   "metadata": {},
   "outputs": [],
   "source": []
  },
  {
   "cell_type": "code",
>>>>>>> de0385846f131c563b18e248880fe07f6f233b17
   "execution_count": 5,
   "metadata": {},
   "outputs": [
    {
     "output_type": "stream",
     "name": "stdout",
     "text": [
      "Size of the dataset (12345, 10)\n"
     ]
    }
   ],
   "source": [
    "print(f\"Size of the dataset {df.shape}\")"
   ]
  },
  {
   "cell_type": "code",
<<<<<<< HEAD
   "execution_count": 5,
=======
   "execution_count": 6,
>>>>>>> de0385846f131c563b18e248880fe07f6f233b17
   "metadata": {},
   "outputs": [],
   "source": [
    "y, x = (df.iloc[:, 0] == \"anomaly\").astype('int'), df.iloc[:, 1:].values"
   ]
  },
  {
<<<<<<< HEAD
   "source": [
    "#### Training and scoring loda\n",
    "Training LODA object involves two steps, first projecting training sample into $|w|$ projections and fitting the projected data ($W^TX$) into $k$ histograms crossponding to each vector without any supervision. We set the parameter for the number of projections (`n_random_cuts`) and the number of bins (equil width bins) or optionally use heuristic to determine the number of bins.\n",
    "\n",
    "Once the histograms are fitted (LODA is trained), these  histogram serve as an ensemble of weak anomaly detectors by estimating the density of the random projected vectors. Combining these `n_random_cuts` histograms leads to a strong anomlay detector where the negative likelihood across the histograms serves as anomaly scores. "
   ],
   "cell_type": "markdown",
   "metadata": {}
  },
  {
   "cell_type": "code",
   "execution_count": 6,
   "metadata": {},
   "outputs": [],
   "source": [
    "# Fit loda with 500 random projections and number of bins are computed heuristically\n",
    "ld = Loda(n_random_cuts=500, n_bins=None) \n",
=======
   "cell_type": "code",
   "execution_count": 7,
   "metadata": {},
   "outputs": [],
   "source": [
    "ld = Loda(n_random_cuts=500)"
   ]
  },
  {
   "cell_type": "code",
   "execution_count": 8,
   "metadata": {},
   "outputs": [],
   "source": [
    "\n",
>>>>>>> de0385846f131c563b18e248880fe07f6f233b17
    "ld = ld.fit(x) # train the detector"
   ]
  },
  {
<<<<<<< HEAD
   "source": [
    "#### Evaluate benchmark dataset\n",
    "We compute AUC and average precision score to evaluate the performance of the detector. We use  `cuml.metrics` to compute both AUC and average precision score (AP)."
   ],
   "cell_type": "markdown",
   "metadata": {}
  },
  {
   "cell_type": "code",
   "execution_count": 7,
   "metadata": {},
   "outputs": [
    {
     "output_type": "stream",
     "name": "stdout",
     "text": [
      "[0.00787357 0.00796648 0.01117218 ... 0.00868871 0.0126402  0.00797583]\n"
     ]
    }
   ],
   "source": [
    "score = ld.score(x) #generate nll scores\n",
    "print(score)"
   ]
  },
  {
   "cell_type": "code",
   "execution_count": 8,
=======
   "cell_type": "code",
   "execution_count": 9,
   "metadata": {},
   "outputs": [],
   "source": [
    "score = ld.score(x)"
   ]
  },
  {
   "cell_type": "code",
   "execution_count": 10,
   "metadata": {},
   "outputs": [
    {
     "output_type": "execute_result",
     "data": {
      "text/plain": [
       "array([0.00824856, 0.00747136, 0.01134461, ..., 0.00921378, 0.01295899,\n",
       "       0.00902758])"
      ]
     },
     "metadata": {},
     "execution_count": 10
    }
   ],
   "source": [
    "score "
   ]
  },
  {
   "source": [
    "#### Evaluate benchmark dataset\n",
    "We compute AUC and average precision score to evaluate the performance of the detector. We use  `cuml.metrics` to compute both AUC and average precision score (AP)."
   ],
   "cell_type": "markdown",
   "metadata": {}
  },
  {
   "cell_type": "code",
   "execution_count": 27,
>>>>>>> de0385846f131c563b18e248880fe07f6f233b17
   "metadata": {},
   "outputs": [
    {
     "output_type": "stream",
     "name": "stdout",
     "text": [
<<<<<<< HEAD
      "AUC and Average precision [0.9915255904197693, array(0.81029754)]\n"
=======
      "AUC and Average precision [0.9899930953979492, array(0.77502457)]\n"
>>>>>>> de0385846f131c563b18e248880fe07f6f233b17
     ]
    }
   ],
   "source": [
    "print(f\"AUC and Average precision {metrics(y, score)}\") # compute auc and pr "
   ]
  },
  {
   "source": [
    "### Explanation of anomalies. \n",
    "\n",
    "To explain the cause of anomalies Loda utilize contributions of each feature across the histograms. Recognize that each histogram $H$ are made with sparse projections $w$, this method can be used to rank each features according to their contributions to the instance anomalousness. To measure the importance of a particular feature, the anomaly score difference is computed from all histograms when the feature is selected in the projection from all the histograms when the feature is not selected. This allows to measure how influential the feature is in isolating an instance as anomaly. \n",
    "\n",
<<<<<<< HEAD
    "Let $I_j$ denotes a vector score of histograms that use feature $j$, and let $\\bar{I}_j$ be the vector score of histograms that don't use feature $j$ and suppose the corresponding mean and variance of the scores are denoted as ($\\mu_j, s^2_j$)and $(\\bar{\\mu_j},\\bar{s^2_j})$ respectively.  Then anomaly explanation of a feature is given by one-tailed two-sample $t$ test with a test statistics given as follows. \n",
    "$$t_j: \\frac{\\mu_j - \\bar{\\mu}_j}{\\sqrt{\\frac{s^2_j}{I_j} + \\frac{\\bar{s}^2_j}{\\bar{I}_j}}}$$\n",
    "\n",
    "The purpose of this score function is to assert if the contribution of a feature $j$ is statistically significant on isolating the instance as anomalies. Larger t-score indicates the more influence the feature has on identifying the instance as anomaly. We rank each feature based on their $t_{score}$ to output the most influential features for the anomalousness of the instance.  \n"
=======
    "Let $I_j$ denotes a vector score of histograms that use feature $j$, and let $\\bar{I}_j$ be the vector score of histograms that don't use feature $j$ and suppose the corresponding mean and variance of the scores are denoted as ($\\mu_j, s^2_j$)and $(\\bar{\\mu_j},\\bar{s^2_j})$ respectively.  Then anomaly explanation a feature is given by one-tailed two-sample $t$ test with a test statistics given as follows. \n",
    "$$t_j: \\frac{\\mu_j - \\bar{\\mu_j}}{\\sqrt{\\frac{s^2_j}{I_j} + \\frac{\\bar{s^2_j}}{\\bar{I_j}}}}$$\n",
    "\n",
    "The purpose of this score function is to assert if the contribution of feature $j$ is statistically significant, a higher score score indicates the more influence the feature has on identifying the instance as anomaly. We rank each feature based on their $t_{score}$ to output the most influential features for the anomalousness of the instance.  \n"
>>>>>>> de0385846f131c563b18e248880fe07f6f233b17
   ],
   "cell_type": "markdown",
   "metadata": {}
  },
  {
   "source": [
    "Sort top instance based on their anomaly scores."
   ],
   "cell_type": "markdown",
   "metadata": {}
  },
  {
   "cell_type": "code",
   "execution_count": 40,
   "metadata": {},
   "outputs": [],
   "source": [
    "ordered_score = cudf.DataFrame() \n",
    "ordered_score['label'] = df.label\n",
    "ordered_score['score'] = score\n",
    "ordered_score = ordered_score.sort_values( by='score', ascending=False)\n",
    "#ordered_score = ordered_score.sort_values(column = 'score')"
   ]
  },
  {
   "cell_type": "code",
   "execution_count": 41,
   "metadata": {},
   "outputs": [
    {
     "output_type": "execute_result",
     "data": {
      "text/plain": [
       "         label     score\n",
       "780    anomaly  0.053102\n",
       "3680   anomaly  0.043688\n",
       "10874  anomaly  0.040742\n",
       "3066   anomaly  0.038639\n",
       "12013  anomaly  0.037807"
      ],
      "text/html": "<div>\n<style scoped>\n    .dataframe tbody tr th:only-of-type {\n        vertical-align: middle;\n    }\n\n    .dataframe tbody tr th {\n        vertical-align: top;\n    }\n\n    .dataframe thead th {\n        text-align: right;\n    }\n</style>\n<table border=\"1\" class=\"dataframe\">\n  <thead>\n    <tr style=\"text-align: right;\">\n      <th></th>\n      <th>label</th>\n      <th>score</th>\n    </tr>\n  </thead>\n  <tbody>\n    <tr>\n      <th>780</th>\n      <td>anomaly</td>\n      <td>0.053102</td>\n    </tr>\n    <tr>\n      <th>3680</th>\n      <td>anomaly</td>\n      <td>0.043688</td>\n    </tr>\n    <tr>\n      <th>10874</th>\n      <td>anomaly</td>\n      <td>0.040742</td>\n    </tr>\n    <tr>\n      <th>3066</th>\n      <td>anomaly</td>\n      <td>0.038639</td>\n    </tr>\n    <tr>\n      <th>12013</th>\n      <td>anomaly</td>\n      <td>0.037807</td>\n    </tr>\n  </tbody>\n</table>\n</div>"
     },
     "metadata": {},
     "execution_count": 41
    }
   ],
   "source": [
    "ordered_score.head(5)"
   ]
  },
  {
   "source": [
<<<<<<< HEAD
    "To generate an explanation we will take one particular instance. In this case lets check the explanation of instance index 781"
=======
    "To generate an explanation we will take one particular instance. In this case lets check the explanation of example 781"
>>>>>>> de0385846f131c563b18e248880fe07f6f233b17
   ],
   "cell_type": "markdown",
   "metadata": {}
  },
  {
   "cell_type": "code",
   "execution_count": 20,
   "metadata": {},
   "outputs": [],
   "source": [
    "feature_explanation = ld.explain(df.iloc[780,1:].values)"
   ]
  },
  {
   "cell_type": "code",
   "execution_count": 24,
   "metadata": {},
   "outputs": [
    {
     "output_type": "stream",
     "name": "stdout",
     "text": [
      "Feature importance scores: [[0.15594141]\n [0.        ]\n [0.22360064]\n [0.0458356 ]\n [0.51062404]\n [1.        ]\n [0.29152774]\n [0.27686797]\n [0.21118652]]\n"
     ]
    }
   ],
   "source": [
    "print(f\"Feature importance scores: {feature_explanation}\")"
   ]
  },
  {
<<<<<<< HEAD
   "source": [
    "The t-score values are normalized between 0 and 1, the plot below shows comparison of each features influence for instance index 780. Clearly, feature $v6$ has higher influence followed by feature $v5$. "
   ],
   "cell_type": "markdown",
   "metadata": {}
  },
  {
=======
>>>>>>> de0385846f131c563b18e248880fe07f6f233b17
   "cell_type": "code",
   "execution_count": 26,
   "metadata": {},
   "outputs": [
    {
     "output_type": "execute_result",
     "data": {
      "text/plain": [
       "<BarContainer object of 9 artists>"
      ]
     },
     "metadata": {},
     "execution_count": 26
    },
    {
     "output_type": "display_data",
     "data": {
      "text/plain": "<Figure size 432x288 with 1 Axes>",
      "image/svg+xml": "<?xml version=\"1.0\" encoding=\"utf-8\" standalone=\"no\"?>\n<!DOCTYPE svg PUBLIC \"-//W3C//DTD SVG 1.1//EN\"\n  \"http://www.w3.org/Graphics/SVG/1.1/DTD/svg11.dtd\">\n<!-- Created with matplotlib (https://matplotlib.org/) -->\n<svg height=\"248.518125pt\" version=\"1.1\" viewBox=\"0 0 372.103125 248.518125\" width=\"372.103125pt\" xmlns=\"http://www.w3.org/2000/svg\" xmlns:xlink=\"http://www.w3.org/1999/xlink\">\n <metadata>\n  <rdf:RDF xmlns:cc=\"http://creativecommons.org/ns#\" xmlns:dc=\"http://purl.org/dc/elements/1.1/\" xmlns:rdf=\"http://www.w3.org/1999/02/22-rdf-syntax-ns#\">\n   <cc:Work>\n    <dc:type rdf:resource=\"http://purl.org/dc/dcmitype/StillImage\"/>\n    <dc:date>2020-12-17T15:47:19.986686</dc:date>\n    <dc:format>image/svg+xml</dc:format>\n    <dc:creator>\n     <cc:Agent>\n      <dc:title>Matplotlib v3.3.3, https://matplotlib.org/</dc:title>\n     </cc:Agent>\n    </dc:creator>\n   </cc:Work>\n  </rdf:RDF>\n </metadata>\n <defs>\n  <style type=\"text/css\">*{stroke-linecap:butt;stroke-linejoin:round;}</style>\n </defs>\n <g id=\"figure_1\">\n  <g id=\"patch_1\">\n   <path d=\"M 0 248.518125 \nL 372.103125 248.518125 \nL 372.103125 0 \nL 0 0 \nz\n\" style=\"fill:none;\"/>\n  </g>\n  <g id=\"axes_1\">\n   <g id=\"patch_2\">\n    <path d=\"M 30.103125 224.64 \nL 364.903125 224.64 \nL 364.903125 7.2 \nL 30.103125 7.2 \nz\n\" style=\"fill:#ffffff;\"/>\n   </g>\n   <g id=\"patch_3\">\n    <path clip-path=\"url(#pc342d55497)\" d=\"M 45.321307 224.64 \nL 72.990728 224.64 \nL 72.990728 192.346762 \nL 45.321307 192.346762 \nz\n\" style=\"fill:#1f77b4;\"/>\n   </g>\n   <g id=\"patch_4\">\n    <path clip-path=\"url(#pc342d55497)\" d=\"M 79.908084 224.64 \nL 107.577505 224.64 \nL 107.577505 224.64 \nL 79.908084 224.64 \nz\n\" style=\"fill:#1f77b4;\"/>\n   </g>\n   <g id=\"patch_5\">\n    <path clip-path=\"url(#pc342d55497)\" d=\"M 114.494861 224.64 \nL 142.164282 224.64 \nL 142.164282 178.335503 \nL 114.494861 178.335503 \nz\n\" style=\"fill:#1f77b4;\"/>\n   </g>\n   <g id=\"patch_6\">\n    <path clip-path=\"url(#pc342d55497)\" d=\"M 149.081637 224.64 \nL 176.751059 224.64 \nL 176.751059 215.148103 \nL 149.081637 215.148103 \nz\n\" style=\"fill:#1f77b4;\"/>\n   </g>\n   <g id=\"patch_7\">\n    <path clip-path=\"url(#pc342d55497)\" d=\"M 183.668414 224.64 \nL 211.337836 224.64 \nL 211.337836 118.897056 \nL 183.668414 118.897056 \nz\n\" style=\"fill:#1f77b4;\"/>\n   </g>\n   <g id=\"patch_8\">\n    <path clip-path=\"url(#pc342d55497)\" d=\"M 218.255191 224.64 \nL 245.924613 224.64 \nL 245.924613 17.554286 \nL 218.255191 17.554286 \nz\n\" style=\"fill:#1f77b4;\"/>\n   </g>\n   <g id=\"patch_9\">\n    <path clip-path=\"url(#pc342d55497)\" d=\"M 252.841968 224.64 \nL 280.511389 224.64 \nL 280.511389 164.26877 \nL 252.841968 164.26877 \nz\n\" style=\"fill:#1f77b4;\"/>\n   </g>\n   <g id=\"patch_10\">\n    <path clip-path=\"url(#pc342d55497)\" d=\"M 287.428745 224.64 \nL 315.098166 224.64 \nL 315.098166 167.3046 \nL 287.428745 167.3046 \nz\n\" style=\"fill:#1f77b4;\"/>\n   </g>\n   <g id=\"patch_11\">\n    <path clip-path=\"url(#pc342d55497)\" d=\"M 322.015522 224.64 \nL 349.684943 224.64 \nL 349.684943 180.906288 \nL 322.015522 180.906288 \nz\n\" style=\"fill:#1f77b4;\"/>\n   </g>\n   <g id=\"matplotlib.axis_1\">\n    <g id=\"xtick_1\">\n     <g id=\"line2d_1\">\n      <defs>\n       <path d=\"M 0 0 \nL 0 3.5 \n\" id=\"m170cb32d6b\" style=\"stroke:#000000;stroke-width:0.8;\"/>\n      </defs>\n      <g>\n       <use style=\"stroke:#000000;stroke-width:0.8;\" x=\"59.156018\" xlink:href=\"#m170cb32d6b\" y=\"224.64\"/>\n      </g>\n     </g>\n     <g id=\"text_1\">\n      <!-- v1 -->\n      <g transform=\"translate(53.015393 239.238437)scale(0.1 -0.1)\">\n       <defs>\n        <path d=\"M 2.984375 54.6875 \nL 12.5 54.6875 \nL 29.59375 8.796875 \nL 46.6875 54.6875 \nL 56.203125 54.6875 \nL 35.6875 0 \nL 23.484375 0 \nz\n\" id=\"DejaVuSans-118\"/>\n        <path d=\"M 12.40625 8.296875 \nL 28.515625 8.296875 \nL 28.515625 63.921875 \nL 10.984375 60.40625 \nL 10.984375 69.390625 \nL 28.421875 72.90625 \nL 38.28125 72.90625 \nL 38.28125 8.296875 \nL 54.390625 8.296875 \nL 54.390625 0 \nL 12.40625 0 \nz\n\" id=\"DejaVuSans-49\"/>\n       </defs>\n       <use xlink:href=\"#DejaVuSans-118\"/>\n       <use x=\"59.179688\" xlink:href=\"#DejaVuSans-49\"/>\n      </g>\n     </g>\n    </g>\n    <g id=\"xtick_2\">\n     <g id=\"line2d_2\">\n      <g>\n       <use style=\"stroke:#000000;stroke-width:0.8;\" x=\"93.742794\" xlink:href=\"#m170cb32d6b\" y=\"224.64\"/>\n      </g>\n     </g>\n     <g id=\"text_2\">\n      <!-- v2 -->\n      <g transform=\"translate(87.602169 239.238437)scale(0.1 -0.1)\">\n       <defs>\n        <path d=\"M 19.1875 8.296875 \nL 53.609375 8.296875 \nL 53.609375 0 \nL 7.328125 0 \nL 7.328125 8.296875 \nQ 12.9375 14.109375 22.625 23.890625 \nQ 32.328125 33.6875 34.8125 36.53125 \nQ 39.546875 41.84375 41.421875 45.53125 \nQ 43.3125 49.21875 43.3125 52.78125 \nQ 43.3125 58.59375 39.234375 62.25 \nQ 35.15625 65.921875 28.609375 65.921875 \nQ 23.96875 65.921875 18.8125 64.3125 \nQ 13.671875 62.703125 7.8125 59.421875 \nL 7.8125 69.390625 \nQ 13.765625 71.78125 18.9375 73 \nQ 24.125 74.21875 28.421875 74.21875 \nQ 39.75 74.21875 46.484375 68.546875 \nQ 53.21875 62.890625 53.21875 53.421875 \nQ 53.21875 48.921875 51.53125 44.890625 \nQ 49.859375 40.875 45.40625 35.40625 \nQ 44.1875 33.984375 37.640625 27.21875 \nQ 31.109375 20.453125 19.1875 8.296875 \nz\n\" id=\"DejaVuSans-50\"/>\n       </defs>\n       <use xlink:href=\"#DejaVuSans-118\"/>\n       <use x=\"59.179688\" xlink:href=\"#DejaVuSans-50\"/>\n      </g>\n     </g>\n    </g>\n    <g id=\"xtick_3\">\n     <g id=\"line2d_3\">\n      <g>\n       <use style=\"stroke:#000000;stroke-width:0.8;\" x=\"128.329571\" xlink:href=\"#m170cb32d6b\" y=\"224.64\"/>\n      </g>\n     </g>\n     <g id=\"text_3\">\n      <!-- v3 -->\n      <g transform=\"translate(122.188946 239.238437)scale(0.1 -0.1)\">\n       <defs>\n        <path d=\"M 40.578125 39.3125 \nQ 47.65625 37.796875 51.625 33 \nQ 55.609375 28.21875 55.609375 21.1875 \nQ 55.609375 10.40625 48.1875 4.484375 \nQ 40.765625 -1.421875 27.09375 -1.421875 \nQ 22.515625 -1.421875 17.65625 -0.515625 \nQ 12.796875 0.390625 7.625 2.203125 \nL 7.625 11.71875 \nQ 11.71875 9.328125 16.59375 8.109375 \nQ 21.484375 6.890625 26.8125 6.890625 \nQ 36.078125 6.890625 40.9375 10.546875 \nQ 45.796875 14.203125 45.796875 21.1875 \nQ 45.796875 27.640625 41.28125 31.265625 \nQ 36.765625 34.90625 28.71875 34.90625 \nL 20.21875 34.90625 \nL 20.21875 43.015625 \nL 29.109375 43.015625 \nQ 36.375 43.015625 40.234375 45.921875 \nQ 44.09375 48.828125 44.09375 54.296875 \nQ 44.09375 59.90625 40.109375 62.90625 \nQ 36.140625 65.921875 28.71875 65.921875 \nQ 24.65625 65.921875 20.015625 65.03125 \nQ 15.375 64.15625 9.8125 62.3125 \nL 9.8125 71.09375 \nQ 15.4375 72.65625 20.34375 73.4375 \nQ 25.25 74.21875 29.59375 74.21875 \nQ 40.828125 74.21875 47.359375 69.109375 \nQ 53.90625 64.015625 53.90625 55.328125 \nQ 53.90625 49.265625 50.4375 45.09375 \nQ 46.96875 40.921875 40.578125 39.3125 \nz\n\" id=\"DejaVuSans-51\"/>\n       </defs>\n       <use xlink:href=\"#DejaVuSans-118\"/>\n       <use x=\"59.179688\" xlink:href=\"#DejaVuSans-51\"/>\n      </g>\n     </g>\n    </g>\n    <g id=\"xtick_4\">\n     <g id=\"line2d_4\">\n      <g>\n       <use style=\"stroke:#000000;stroke-width:0.8;\" x=\"162.916348\" xlink:href=\"#m170cb32d6b\" y=\"224.64\"/>\n      </g>\n     </g>\n     <g id=\"text_4\">\n      <!-- v4 -->\n      <g transform=\"translate(156.775723 239.238437)scale(0.1 -0.1)\">\n       <defs>\n        <path d=\"M 37.796875 64.3125 \nL 12.890625 25.390625 \nL 37.796875 25.390625 \nz\nM 35.203125 72.90625 \nL 47.609375 72.90625 \nL 47.609375 25.390625 \nL 58.015625 25.390625 \nL 58.015625 17.1875 \nL 47.609375 17.1875 \nL 47.609375 0 \nL 37.796875 0 \nL 37.796875 17.1875 \nL 4.890625 17.1875 \nL 4.890625 26.703125 \nz\n\" id=\"DejaVuSans-52\"/>\n       </defs>\n       <use xlink:href=\"#DejaVuSans-118\"/>\n       <use x=\"59.179688\" xlink:href=\"#DejaVuSans-52\"/>\n      </g>\n     </g>\n    </g>\n    <g id=\"xtick_5\">\n     <g id=\"line2d_5\">\n      <g>\n       <use style=\"stroke:#000000;stroke-width:0.8;\" x=\"197.503125\" xlink:href=\"#m170cb32d6b\" y=\"224.64\"/>\n      </g>\n     </g>\n     <g id=\"text_5\">\n      <!-- v5 -->\n      <g transform=\"translate(191.3625 239.238437)scale(0.1 -0.1)\">\n       <defs>\n        <path d=\"M 10.796875 72.90625 \nL 49.515625 72.90625 \nL 49.515625 64.59375 \nL 19.828125 64.59375 \nL 19.828125 46.734375 \nQ 21.96875 47.46875 24.109375 47.828125 \nQ 26.265625 48.1875 28.421875 48.1875 \nQ 40.625 48.1875 47.75 41.5 \nQ 54.890625 34.8125 54.890625 23.390625 \nQ 54.890625 11.625 47.5625 5.09375 \nQ 40.234375 -1.421875 26.90625 -1.421875 \nQ 22.3125 -1.421875 17.546875 -0.640625 \nQ 12.796875 0.140625 7.71875 1.703125 \nL 7.71875 11.625 \nQ 12.109375 9.234375 16.796875 8.0625 \nQ 21.484375 6.890625 26.703125 6.890625 \nQ 35.15625 6.890625 40.078125 11.328125 \nQ 45.015625 15.765625 45.015625 23.390625 \nQ 45.015625 31 40.078125 35.4375 \nQ 35.15625 39.890625 26.703125 39.890625 \nQ 22.75 39.890625 18.8125 39.015625 \nQ 14.890625 38.140625 10.796875 36.28125 \nz\n\" id=\"DejaVuSans-53\"/>\n       </defs>\n       <use xlink:href=\"#DejaVuSans-118\"/>\n       <use x=\"59.179688\" xlink:href=\"#DejaVuSans-53\"/>\n      </g>\n     </g>\n    </g>\n    <g id=\"xtick_6\">\n     <g id=\"line2d_6\">\n      <g>\n       <use style=\"stroke:#000000;stroke-width:0.8;\" x=\"232.089902\" xlink:href=\"#m170cb32d6b\" y=\"224.64\"/>\n      </g>\n     </g>\n     <g id=\"text_6\">\n      <!-- v6 -->\n      <g transform=\"translate(225.949277 239.238437)scale(0.1 -0.1)\">\n       <defs>\n        <path d=\"M 33.015625 40.375 \nQ 26.375 40.375 22.484375 35.828125 \nQ 18.609375 31.296875 18.609375 23.390625 \nQ 18.609375 15.53125 22.484375 10.953125 \nQ 26.375 6.390625 33.015625 6.390625 \nQ 39.65625 6.390625 43.53125 10.953125 \nQ 47.40625 15.53125 47.40625 23.390625 \nQ 47.40625 31.296875 43.53125 35.828125 \nQ 39.65625 40.375 33.015625 40.375 \nz\nM 52.59375 71.296875 \nL 52.59375 62.3125 \nQ 48.875 64.0625 45.09375 64.984375 \nQ 41.3125 65.921875 37.59375 65.921875 \nQ 27.828125 65.921875 22.671875 59.328125 \nQ 17.53125 52.734375 16.796875 39.40625 \nQ 19.671875 43.65625 24.015625 45.921875 \nQ 28.375 48.1875 33.59375 48.1875 \nQ 44.578125 48.1875 50.953125 41.515625 \nQ 57.328125 34.859375 57.328125 23.390625 \nQ 57.328125 12.15625 50.6875 5.359375 \nQ 44.046875 -1.421875 33.015625 -1.421875 \nQ 20.359375 -1.421875 13.671875 8.265625 \nQ 6.984375 17.96875 6.984375 36.375 \nQ 6.984375 53.65625 15.1875 63.9375 \nQ 23.390625 74.21875 37.203125 74.21875 \nQ 40.921875 74.21875 44.703125 73.484375 \nQ 48.484375 72.75 52.59375 71.296875 \nz\n\" id=\"DejaVuSans-54\"/>\n       </defs>\n       <use xlink:href=\"#DejaVuSans-118\"/>\n       <use x=\"59.179688\" xlink:href=\"#DejaVuSans-54\"/>\n      </g>\n     </g>\n    </g>\n    <g id=\"xtick_7\">\n     <g id=\"line2d_7\">\n      <g>\n       <use style=\"stroke:#000000;stroke-width:0.8;\" x=\"266.676679\" xlink:href=\"#m170cb32d6b\" y=\"224.64\"/>\n      </g>\n     </g>\n     <g id=\"text_7\">\n      <!-- v7 -->\n      <g transform=\"translate(260.536054 239.238437)scale(0.1 -0.1)\">\n       <defs>\n        <path d=\"M 8.203125 72.90625 \nL 55.078125 72.90625 \nL 55.078125 68.703125 \nL 28.609375 0 \nL 18.3125 0 \nL 43.21875 64.59375 \nL 8.203125 64.59375 \nz\n\" id=\"DejaVuSans-55\"/>\n       </defs>\n       <use xlink:href=\"#DejaVuSans-118\"/>\n       <use x=\"59.179688\" xlink:href=\"#DejaVuSans-55\"/>\n      </g>\n     </g>\n    </g>\n    <g id=\"xtick_8\">\n     <g id=\"line2d_8\">\n      <g>\n       <use style=\"stroke:#000000;stroke-width:0.8;\" x=\"301.263456\" xlink:href=\"#m170cb32d6b\" y=\"224.64\"/>\n      </g>\n     </g>\n     <g id=\"text_8\">\n      <!-- v8 -->\n      <g transform=\"translate(295.122831 239.238437)scale(0.1 -0.1)\">\n       <defs>\n        <path d=\"M 31.78125 34.625 \nQ 24.75 34.625 20.71875 30.859375 \nQ 16.703125 27.09375 16.703125 20.515625 \nQ 16.703125 13.921875 20.71875 10.15625 \nQ 24.75 6.390625 31.78125 6.390625 \nQ 38.8125 6.390625 42.859375 10.171875 \nQ 46.921875 13.96875 46.921875 20.515625 \nQ 46.921875 27.09375 42.890625 30.859375 \nQ 38.875 34.625 31.78125 34.625 \nz\nM 21.921875 38.8125 \nQ 15.578125 40.375 12.03125 44.71875 \nQ 8.5 49.078125 8.5 55.328125 \nQ 8.5 64.0625 14.71875 69.140625 \nQ 20.953125 74.21875 31.78125 74.21875 \nQ 42.671875 74.21875 48.875 69.140625 \nQ 55.078125 64.0625 55.078125 55.328125 \nQ 55.078125 49.078125 51.53125 44.71875 \nQ 48 40.375 41.703125 38.8125 \nQ 48.828125 37.15625 52.796875 32.3125 \nQ 56.78125 27.484375 56.78125 20.515625 \nQ 56.78125 9.90625 50.3125 4.234375 \nQ 43.84375 -1.421875 31.78125 -1.421875 \nQ 19.734375 -1.421875 13.25 4.234375 \nQ 6.78125 9.90625 6.78125 20.515625 \nQ 6.78125 27.484375 10.78125 32.3125 \nQ 14.796875 37.15625 21.921875 38.8125 \nz\nM 18.3125 54.390625 \nQ 18.3125 48.734375 21.84375 45.5625 \nQ 25.390625 42.390625 31.78125 42.390625 \nQ 38.140625 42.390625 41.71875 45.5625 \nQ 45.3125 48.734375 45.3125 54.390625 \nQ 45.3125 60.0625 41.71875 63.234375 \nQ 38.140625 66.40625 31.78125 66.40625 \nQ 25.390625 66.40625 21.84375 63.234375 \nQ 18.3125 60.0625 18.3125 54.390625 \nz\n\" id=\"DejaVuSans-56\"/>\n       </defs>\n       <use xlink:href=\"#DejaVuSans-118\"/>\n       <use x=\"59.179688\" xlink:href=\"#DejaVuSans-56\"/>\n      </g>\n     </g>\n    </g>\n    <g id=\"xtick_9\">\n     <g id=\"line2d_9\">\n      <g>\n       <use style=\"stroke:#000000;stroke-width:0.8;\" x=\"335.850232\" xlink:href=\"#m170cb32d6b\" y=\"224.64\"/>\n      </g>\n     </g>\n     <g id=\"text_9\">\n      <!-- v9 -->\n      <g transform=\"translate(329.709607 239.238437)scale(0.1 -0.1)\">\n       <defs>\n        <path d=\"M 10.984375 1.515625 \nL 10.984375 10.5 \nQ 14.703125 8.734375 18.5 7.8125 \nQ 22.3125 6.890625 25.984375 6.890625 \nQ 35.75 6.890625 40.890625 13.453125 \nQ 46.046875 20.015625 46.78125 33.40625 \nQ 43.953125 29.203125 39.59375 26.953125 \nQ 35.25 24.703125 29.984375 24.703125 \nQ 19.046875 24.703125 12.671875 31.3125 \nQ 6.296875 37.9375 6.296875 49.421875 \nQ 6.296875 60.640625 12.9375 67.421875 \nQ 19.578125 74.21875 30.609375 74.21875 \nQ 43.265625 74.21875 49.921875 64.515625 \nQ 56.59375 54.828125 56.59375 36.375 \nQ 56.59375 19.140625 48.40625 8.859375 \nQ 40.234375 -1.421875 26.421875 -1.421875 \nQ 22.703125 -1.421875 18.890625 -0.6875 \nQ 15.09375 0.046875 10.984375 1.515625 \nz\nM 30.609375 32.421875 \nQ 37.25 32.421875 41.125 36.953125 \nQ 45.015625 41.5 45.015625 49.421875 \nQ 45.015625 57.28125 41.125 61.84375 \nQ 37.25 66.40625 30.609375 66.40625 \nQ 23.96875 66.40625 20.09375 61.84375 \nQ 16.21875 57.28125 16.21875 49.421875 \nQ 16.21875 41.5 20.09375 36.953125 \nQ 23.96875 32.421875 30.609375 32.421875 \nz\n\" id=\"DejaVuSans-57\"/>\n       </defs>\n       <use xlink:href=\"#DejaVuSans-118\"/>\n       <use x=\"59.179688\" xlink:href=\"#DejaVuSans-57\"/>\n      </g>\n     </g>\n    </g>\n   </g>\n   <g id=\"matplotlib.axis_2\">\n    <g id=\"ytick_1\">\n     <g id=\"line2d_10\">\n      <defs>\n       <path d=\"M 0 0 \nL -3.5 0 \n\" id=\"m15e6736557\" style=\"stroke:#000000;stroke-width:0.8;\"/>\n      </defs>\n      <g>\n       <use style=\"stroke:#000000;stroke-width:0.8;\" x=\"30.103125\" xlink:href=\"#m15e6736557\" y=\"224.64\"/>\n      </g>\n     </g>\n     <g id=\"text_10\">\n      <!-- 0.0 -->\n      <g transform=\"translate(7.2 228.439219)scale(0.1 -0.1)\">\n       <defs>\n        <path d=\"M 31.78125 66.40625 \nQ 24.171875 66.40625 20.328125 58.90625 \nQ 16.5 51.421875 16.5 36.375 \nQ 16.5 21.390625 20.328125 13.890625 \nQ 24.171875 6.390625 31.78125 6.390625 \nQ 39.453125 6.390625 43.28125 13.890625 \nQ 47.125 21.390625 47.125 36.375 \nQ 47.125 51.421875 43.28125 58.90625 \nQ 39.453125 66.40625 31.78125 66.40625 \nz\nM 31.78125 74.21875 \nQ 44.046875 74.21875 50.515625 64.515625 \nQ 56.984375 54.828125 56.984375 36.375 \nQ 56.984375 17.96875 50.515625 8.265625 \nQ 44.046875 -1.421875 31.78125 -1.421875 \nQ 19.53125 -1.421875 13.0625 8.265625 \nQ 6.59375 17.96875 6.59375 36.375 \nQ 6.59375 54.828125 13.0625 64.515625 \nQ 19.53125 74.21875 31.78125 74.21875 \nz\n\" id=\"DejaVuSans-48\"/>\n        <path d=\"M 10.6875 12.40625 \nL 21 12.40625 \nL 21 0 \nL 10.6875 0 \nz\n\" id=\"DejaVuSans-46\"/>\n       </defs>\n       <use xlink:href=\"#DejaVuSans-48\"/>\n       <use x=\"63.623047\" xlink:href=\"#DejaVuSans-46\"/>\n       <use x=\"95.410156\" xlink:href=\"#DejaVuSans-48\"/>\n      </g>\n     </g>\n    </g>\n    <g id=\"ytick_2\">\n     <g id=\"line2d_11\">\n      <g>\n       <use style=\"stroke:#000000;stroke-width:0.8;\" x=\"30.103125\" xlink:href=\"#m15e6736557\" y=\"183.222857\"/>\n      </g>\n     </g>\n     <g id=\"text_11\">\n      <!-- 0.2 -->\n      <g transform=\"translate(7.2 187.022076)scale(0.1 -0.1)\">\n       <use xlink:href=\"#DejaVuSans-48\"/>\n       <use x=\"63.623047\" xlink:href=\"#DejaVuSans-46\"/>\n       <use x=\"95.410156\" xlink:href=\"#DejaVuSans-50\"/>\n      </g>\n     </g>\n    </g>\n    <g id=\"ytick_3\">\n     <g id=\"line2d_12\">\n      <g>\n       <use style=\"stroke:#000000;stroke-width:0.8;\" x=\"30.103125\" xlink:href=\"#m15e6736557\" y=\"141.805714\"/>\n      </g>\n     </g>\n     <g id=\"text_12\">\n      <!-- 0.4 -->\n      <g transform=\"translate(7.2 145.604933)scale(0.1 -0.1)\">\n       <use xlink:href=\"#DejaVuSans-48\"/>\n       <use x=\"63.623047\" xlink:href=\"#DejaVuSans-46\"/>\n       <use x=\"95.410156\" xlink:href=\"#DejaVuSans-52\"/>\n      </g>\n     </g>\n    </g>\n    <g id=\"ytick_4\">\n     <g id=\"line2d_13\">\n      <g>\n       <use style=\"stroke:#000000;stroke-width:0.8;\" x=\"30.103125\" xlink:href=\"#m15e6736557\" y=\"100.388571\"/>\n      </g>\n     </g>\n     <g id=\"text_13\">\n      <!-- 0.6 -->\n      <g transform=\"translate(7.2 104.18779)scale(0.1 -0.1)\">\n       <use xlink:href=\"#DejaVuSans-48\"/>\n       <use x=\"63.623047\" xlink:href=\"#DejaVuSans-46\"/>\n       <use x=\"95.410156\" xlink:href=\"#DejaVuSans-54\"/>\n      </g>\n     </g>\n    </g>\n    <g id=\"ytick_5\">\n     <g id=\"line2d_14\">\n      <g>\n       <use style=\"stroke:#000000;stroke-width:0.8;\" x=\"30.103125\" xlink:href=\"#m15e6736557\" y=\"58.971429\"/>\n      </g>\n     </g>\n     <g id=\"text_14\">\n      <!-- 0.8 -->\n      <g transform=\"translate(7.2 62.770647)scale(0.1 -0.1)\">\n       <use xlink:href=\"#DejaVuSans-48\"/>\n       <use x=\"63.623047\" xlink:href=\"#DejaVuSans-46\"/>\n       <use x=\"95.410156\" xlink:href=\"#DejaVuSans-56\"/>\n      </g>\n     </g>\n    </g>\n    <g id=\"ytick_6\">\n     <g id=\"line2d_15\">\n      <g>\n       <use style=\"stroke:#000000;stroke-width:0.8;\" x=\"30.103125\" xlink:href=\"#m15e6736557\" y=\"17.554286\"/>\n      </g>\n     </g>\n     <g id=\"text_15\">\n      <!-- 1.0 -->\n      <g transform=\"translate(7.2 21.353504)scale(0.1 -0.1)\">\n       <use xlink:href=\"#DejaVuSans-49\"/>\n       <use x=\"63.623047\" xlink:href=\"#DejaVuSans-46\"/>\n       <use x=\"95.410156\" xlink:href=\"#DejaVuSans-48\"/>\n      </g>\n     </g>\n    </g>\n   </g>\n   <g id=\"patch_12\">\n    <path d=\"M 30.103125 224.64 \nL 30.103125 7.2 \n\" style=\"fill:none;stroke:#000000;stroke-linecap:square;stroke-linejoin:miter;stroke-width:0.8;\"/>\n   </g>\n   <g id=\"patch_13\">\n    <path d=\"M 364.903125 224.64 \nL 364.903125 7.2 \n\" style=\"fill:none;stroke:#000000;stroke-linecap:square;stroke-linejoin:miter;stroke-width:0.8;\"/>\n   </g>\n   <g id=\"patch_14\">\n    <path d=\"M 30.103125 224.64 \nL 364.903125 224.64 \n\" style=\"fill:none;stroke:#000000;stroke-linecap:square;stroke-linejoin:miter;stroke-width:0.8;\"/>\n   </g>\n   <g id=\"patch_15\">\n    <path d=\"M 30.103125 7.2 \nL 364.903125 7.2 \n\" style=\"fill:none;stroke:#000000;stroke-linecap:square;stroke-linejoin:miter;stroke-width:0.8;\"/>\n   </g>\n  </g>\n </g>\n <defs>\n  <clipPath id=\"pc342d55497\">\n   <rect height=\"217.44\" width=\"334.8\" x=\"30.103125\" y=\"7.2\"/>\n  </clipPath>\n </defs>\n</svg>\n",
      "image/png": "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\n"
     },
     "metadata": {
      "needs_background": "light"
     }
    }
   ],
   "source": [
    "# plot the contribution of each features. \n",
<<<<<<< HEAD
    "plt.bar(df.columns[1:], feature_explanation.ravel().get())\n",
    "plt.ylabel('T-score')\n",
    "plt.xlabel('Features')"
=======
    "plt.bar(df.columns[1:], feature_explanation.ravel().get())"
>>>>>>> de0385846f131c563b18e248880fe07f6f233b17
   ]
  },
  {
   "cell_type": "code",
   "execution_count": 45,
   "metadata": {},
   "outputs": [
    {
     "output_type": "execute_result",
     "data": {
      "text/plain": [
       "       label  v1  v2  v3  v4  v5    v6  v7  v8  v9\n",
       "780  anomaly  79   0  83   0  98  8098   4 -14 -18"
      ],
      "text/html": "<div>\n<style scoped>\n    .dataframe tbody tr th:only-of-type {\n        vertical-align: middle;\n    }\n\n    .dataframe tbody tr th {\n        vertical-align: top;\n    }\n\n    .dataframe thead th {\n        text-align: right;\n    }\n</style>\n<table border=\"1\" class=\"dataframe\">\n  <thead>\n    <tr style=\"text-align: right;\">\n      <th></th>\n      <th>label</th>\n      <th>v1</th>\n      <th>v2</th>\n      <th>v3</th>\n      <th>v4</th>\n      <th>v5</th>\n      <th>v6</th>\n      <th>v7</th>\n      <th>v8</th>\n      <th>v9</th>\n    </tr>\n  </thead>\n  <tbody>\n    <tr>\n      <th>780</th>\n      <td>anomaly</td>\n      <td>79</td>\n      <td>0</td>\n      <td>83</td>\n      <td>0</td>\n      <td>98</td>\n      <td>8098</td>\n      <td>4</td>\n      <td>-14</td>\n      <td>-18</td>\n    </tr>\n  </tbody>\n</table>\n</div>"
     },
     "metadata": {},
     "execution_count": 45
    }
   ],
   "source": [
    "df.iloc[780, :]"
   ]
  },
  {
   "source": [],
   "cell_type": "markdown",
   "metadata": {}
  },
  {
   "source": [
    "## Reference\n",
    "- [Loda: Lightweight on-line detector of anomalies](https://link.springer.com/article/10.1007/s10994-015-5521-0)\n",
    "- [PyOD: A Python Toolbox for Scalable Outlier Detection](https://www.jmlr.org/papers/volume20/19-011/19-011.pdf)\n",
    "- [Anomaly Detection in the Presence of Missing Values](https://arxiv.org/pdf/1809.01605.pdf)\n",
<<<<<<< HEAD
    "- https://archive.ics.uci.edu/ml/datasets/Statlog+%28Shuttle%29"
=======
    "\n",
    "- [https://link.springer.com/article/10.1007/s10994-015-5521-0][1]"
>>>>>>> de0385846f131c563b18e248880fe07f6f233b17
   ],
   "cell_type": "markdown",
   "metadata": {}
  },
  {
   "cell_type": "code",
   "execution_count": null,
   "metadata": {},
   "outputs": [],
   "source": []
  }
 ]
}