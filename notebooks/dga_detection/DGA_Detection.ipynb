{
 "cells": [
  {
   "cell_type": "markdown",
   "metadata": {},
   "source": [
    "# Domain Generation Algorithm (DGA) Detection\n",
    "\n",
    "## Authors\n",
    " - Gorkem Batmaz (NVIDIA) [gbatmaz@nvidia.com]\n",
    " - Bhargav Suryadevara (NVIDIA) [bsuryadevara@nvidia.com]\n",
    "\n",
    "## Development Notes\n",
    "* Developed using: RAPIDS v0.12.0 and CLX v0.12\n",
    "* Last tested using: RAPIDS v0.12.0 and CLX v0.12 on Jan 28, 2020\n",
    "\n",
    "## Table of Contents\n",
    "* Introduction\n",
    "* Data Importing\n",
    "* Data Preprocessing\n",
    "* Training and Evaluation\n",
    "* Inference\n",
    "* Conclusion\n",
    "\n",
    "## Introduction\n",
    "[Domain Generation Algorithms](https://en.wikipedia.org/wiki/Domain_generation_algorithm) (DGAs) are used to generate domain names that can be used by the malware to communicate with the command and control servers. IP addresses and static domain names can be easily blocked, and a DGA provides an easy method to generate a large number of domain names and rotate through them to circumvent traditional block lists. We will use a type of recurrent neural network called the [Gated Recurrent Unit](https://towardsdatascience.com/illustrated-guide-to-lstms-and-gru-s-a-step-by-step-explanation-44e9eb85bf21) (GRU) for this example. The [CLX](https://github.com/rapidsai/clx) and [RAPIDS](https://rapids.ai) libraries enable users train their models with up-to-date domain names representative of both benign and DGA generated strings. Using a CLX workflow, this capability could also be used in production. This notebook provides a view into the data science workflow to create a DGA detection implementation."
   ]
  },
  {
   "cell_type": "code",
   "execution_count": 1,
   "metadata": {},
   "outputs": [],
   "source": [
    "import os\n",
    "import cudf\n",
    "import torch\n",
    "import s3fs\n",
    "import numpy as np\n",
    "from datetime import datetime\n",
    "from sklearn.metrics import accuracy_score, average_precision_score\n",
    "from clx.analytics.dga_detector import DGADetector\n",
    "from clx.utils.data.dataloader import DataLoader\n",
    "from clx.analytics.dga_dataset import DGADataset\n",
    "from cuml.preprocessing.model_selection import train_test_split"
   ]
  },
  {
   "cell_type": "markdown",
   "metadata": {},
   "source": [
    "#### Download Input Dataset from S3"
   ]
  },
  {
   "cell_type": "code",
   "execution_count": 2,
   "metadata": {},
   "outputs": [],
   "source": [
    "INPUT_CSV = \"benign_and_dga_domains.csv\"\n",
    "\n",
    "S3_BASE_PATH = \"rapidsai-data/cyber/clx\""
   ]
  },
  {
   "cell_type": "code",
   "execution_count": 3,
   "metadata": {},
   "outputs": [],
   "source": [
    "# Read Benign and DGA dataset\n",
    "if not os.path.exists(INPUT_CSV):\n",
    "    fs = s3fs.S3FileSystem(anon=True)\n",
    "    fs.get(S3_BASE_PATH + \"/\" + INPUT_CSV, INPUT_CSV)"
   ]
  },
  {
   "cell_type": "markdown",
   "metadata": {},
   "source": [
    "#### Load Input Dataset to GPU Dataframe"
   ]
  },
  {
   "cell_type": "code",
   "execution_count": 4,
   "metadata": {},
   "outputs": [],
   "source": [
    "gdf = cudf.read_csv(INPUT_CSV)"
   ]
  },
  {
   "cell_type": "code",
   "execution_count": 5,
   "metadata": {},
   "outputs": [],
   "source": [
    "train_data = gdf['domain']\n",
    "labels = gdf['type']"
   ]
  },
  {
   "cell_type": "markdown",
   "metadata": {},
   "source": [
    "Because we have only benign and DGA (malicious) categoriesm, the number of domain types need to be set to 2 (`N_DOMAIN_TYPE=2`). Vocabulary size(`CHAR_VOCAB`) is set to 128 ASCII characters. The values below set for `HIDDEN_SIZE`, `N_LAYERS` of the network, and the `LR` (Learning Rate) give an optimum balance for the network size and performance. They might need be set via experiments when working with other datasets."
   ]
  },
  {
   "cell_type": "code",
   "execution_count": 6,
   "metadata": {},
   "outputs": [],
   "source": [
    "LR = 0.001\n",
    "N_LAYERS = 3\n",
    "CHAR_VOCAB = 128\n",
    "HIDDEN_SIZE = 100\n",
    "N_DOMAIN_TYPE = 2"
   ]
  },
  {
   "cell_type": "markdown",
   "metadata": {},
   "source": [
    "#### Instantiate DGA Detector\n",
    "Now that the data is ready, the datasets are created, and we've set the parameters for the model, we can use the DGADetector method built into CLX to create and train the model."
   ]
  },
  {
   "cell_type": "code",
   "execution_count": 7,
   "metadata": {},
   "outputs": [],
   "source": [
    "dd = DGADetector(lr=LR)\n",
    "dd.init_model(n_layers=N_LAYERS, char_vocab=CHAR_VOCAB, hidden_size=HIDDEN_SIZE, n_domain_type=N_DOMAIN_TYPE)"
   ]
  },
  {
   "cell_type": "code",
   "execution_count": 8,
   "metadata": {},
   "outputs": [],
   "source": [
    "EPOCHS = 25\n",
    "TRAIN_SIZE = 0.7\n",
    "BATCH_SIZE = 10000\n",
    "MODELS_DIR = 'models'"
   ]
  },
  {
   "cell_type": "markdown",
   "metadata": {},
   "source": [
    "### Training and Evaluation\n",
    "Now we train and evaluate the model."
   ]
  },
  {
   "cell_type": "code",
   "execution_count": 9,
   "metadata": {},
   "outputs": [
    {
     "name": "stderr",
     "output_type": "stream",
     "text": [
      "Epoch:   0%|          | 0/25 [00:00<?, ?it/s]/opt/conda/envs/rapids/lib/python3.7/site-packages/cudf/io/dlpack.py:74: UserWarning: WARNING: cuDF to_dlpack() produces column-major (Fortran order) output. If the output tensor needs to be row major, transpose the output of this function.\n",
      "  return libdlpack.to_dlpack(gdf_cols)\n"
     ]
    },
    {
     "name": "stdout",
     "output_type": "stream",
     "text": [
      "[100000/1433083 (7%)]\tLoss: 6685.51\n",
      "[200000/1433083 (14%)]\tLoss: 5131.20\n",
      "[300000/1433083 (21%)]\tLoss: 4025.58\n",
      "[400000/1433083 (28%)]\tLoss: 3512.35\n",
      "[500000/1433083 (35%)]\tLoss: 3138.08\n",
      "[600000/1433083 (42%)]\tLoss: 2708.67\n",
      "[700000/1433083 (49%)]\tLoss: 2373.25\n",
      "[800000/1433083 (56%)]\tLoss: 2116.35\n",
      "[900000/1433083 (63%)]\tLoss: 2322.65\n",
      "[1000000/1433083 (70%)]\tLoss: 2222.76\n",
      "[1100000/1433083 (77%)]\tLoss: 2212.15\n",
      "[1200000/1433083 (84%)]\tLoss: 2135.32\n",
      "[1300000/1433083 (91%)]\tLoss: 2139.53\n",
      "[1400000/1433083 (98%)]\tLoss: 2171.99\n"
     ]
    },
    {
     "name": "stderr",
     "output_type": "stream",
     "text": [
      "Epoch:   4%|▍         | 1/25 [00:24<09:49, 24.55s/it]"
     ]
    },
    {
     "name": "stdout",
     "output_type": "stream",
     "text": [
      "Test set: Accuracy: 421091/614179 (0.6856160826078391)\n",
      "\n",
      "[100000/1433083 (7%)]\tLoss: 4163.45\n",
      "[200000/1433083 (14%)]\tLoss: 2837.49\n",
      "[300000/1433083 (21%)]\tLoss: 2089.73\n",
      "[400000/1433083 (28%)]\tLoss: 1823.92\n",
      "[500000/1433083 (35%)]\tLoss: 1620.47\n",
      "[600000/1433083 (42%)]\tLoss: 1390.30\n",
      "[700000/1433083 (49%)]\tLoss: 1217.58\n",
      "[800000/1433083 (56%)]\tLoss: 1085.91\n",
      "[900000/1433083 (63%)]\tLoss: 1040.25\n",
      "[1000000/1433083 (70%)]\tLoss: 1036.42\n",
      "[1100000/1433083 (77%)]\tLoss: 1046.11\n",
      "[1200000/1433083 (84%)]\tLoss: 1031.29\n",
      "[1300000/1433083 (91%)]\tLoss: 1066.00\n",
      "[1400000/1433083 (98%)]\tLoss: 1150.62\n"
     ]
    },
    {
     "name": "stderr",
     "output_type": "stream",
     "text": [
      "Epoch:   8%|▊         | 2/25 [00:44<08:50, 23.06s/it]"
     ]
    },
    {
     "name": "stdout",
     "output_type": "stream",
     "text": [
      "Test set: Accuracy: 534782/614179 (0.8707266122742718)\n",
      "\n",
      "[100000/1433083 (7%)]\tLoss: 2068.47\n",
      "[200000/1433083 (14%)]\tLoss: 1416.04\n",
      "[300000/1433083 (21%)]\tLoss: 1062.85\n",
      "[400000/1433083 (28%)]\tLoss: 905.46\n",
      "[500000/1433083 (35%)]\tLoss: 858.30\n",
      "[600000/1433083 (42%)]\tLoss: 739.08\n",
      "[700000/1433083 (49%)]\tLoss: 650.29\n",
      "[800000/1433083 (56%)]\tLoss: 583.34\n",
      "[900000/1433083 (63%)]\tLoss: 579.83\n",
      "[1000000/1433083 (70%)]\tLoss: 598.75\n",
      "[1100000/1433083 (77%)]\tLoss: 593.93\n",
      "[1200000/1433083 (84%)]\tLoss: 611.66\n",
      "[1300000/1433083 (91%)]\tLoss: 654.25\n",
      "[1400000/1433083 (98%)]\tLoss: 771.34\n"
     ]
    },
    {
     "name": "stderr",
     "output_type": "stream",
     "text": [
      "Epoch:  12%|█▏        | 3/25 [01:04<08:06, 22.12s/it]"
     ]
    },
    {
     "name": "stdout",
     "output_type": "stream",
     "text": [
      "Test set: Accuracy: 579823/614179 (0.9440619102899969)\n",
      "\n",
      "[100000/1433083 (7%)]\tLoss: 1985.23\n",
      "[200000/1433083 (14%)]\tLoss: 1282.22\n",
      "[300000/1433083 (21%)]\tLoss: 955.44\n",
      "[400000/1433083 (28%)]\tLoss: 813.17\n",
      "[500000/1433083 (35%)]\tLoss: 713.54\n",
      "[600000/1433083 (42%)]\tLoss: 611.77\n",
      "[700000/1433083 (49%)]\tLoss: 537.46\n",
      "[800000/1433083 (56%)]\tLoss: 481.33\n",
      "[900000/1433083 (63%)]\tLoss: 479.77\n",
      "[1000000/1433083 (70%)]\tLoss: 502.66\n",
      "[1100000/1433083 (77%)]\tLoss: 501.45\n",
      "[1200000/1433083 (84%)]\tLoss: 522.70\n",
      "[1300000/1433083 (91%)]\tLoss: 561.63\n",
      "[1400000/1433083 (98%)]\tLoss: 681.08\n"
     ]
    },
    {
     "name": "stderr",
     "output_type": "stream",
     "text": [
      "Epoch:  16%|█▌        | 4/25 [01:23<07:30, 21.45s/it]"
     ]
    },
    {
     "name": "stdout",
     "output_type": "stream",
     "text": [
      "Test set: Accuracy: 592368/614179 (0.9644875516746746)\n",
      "\n",
      "[100000/1433083 (7%)]\tLoss: 892.50\n",
      "[200000/1433083 (14%)]\tLoss: 656.59\n",
      "[300000/1433083 (21%)]\tLoss: 519.09\n",
      "[400000/1433083 (28%)]\tLoss: 454.67\n",
      "[500000/1433083 (35%)]\tLoss: 416.95\n",
      "[600000/1433083 (42%)]\tLoss: 361.11\n",
      "[700000/1433083 (49%)]\tLoss: 320.32\n",
      "[800000/1433083 (56%)]\tLoss: 289.59\n",
      "[900000/1433083 (63%)]\tLoss: 303.54\n",
      "[1000000/1433083 (70%)]\tLoss: 334.33\n",
      "[1100000/1433083 (77%)]\tLoss: 340.42\n",
      "[1200000/1433083 (84%)]\tLoss: 367.17\n",
      "[1300000/1433083 (91%)]\tLoss: 413.33\n",
      "[1400000/1433083 (98%)]\tLoss: 537.76\n"
     ]
    },
    {
     "name": "stderr",
     "output_type": "stream",
     "text": [
      "Epoch:  20%|██        | 5/25 [01:43<06:59, 21.00s/it]"
     ]
    },
    {
     "name": "stdout",
     "output_type": "stream",
     "text": [
      "Test set: Accuracy: 594845/614179 (0.9685205778771335)\n",
      "\n",
      "[100000/1433083 (7%)]\tLoss: 220.10\n",
      "[200000/1433083 (14%)]\tLoss: 227.95\n",
      "[300000/1433083 (21%)]\tLoss: 209.43\n",
      "[400000/1433083 (28%)]\tLoss: 203.82\n",
      "[500000/1433083 (35%)]\tLoss: 205.62\n",
      "[600000/1433083 (42%)]\tLoss: 182.04\n",
      "[700000/1433083 (49%)]\tLoss: 164.56\n",
      "[800000/1433083 (56%)]\tLoss: 151.66\n",
      "[900000/1433083 (63%)]\tLoss: 172.55\n",
      "[1000000/1433083 (70%)]\tLoss: 249.39\n",
      "[1100000/1433083 (77%)]\tLoss: 260.63\n",
      "[1200000/1433083 (84%)]\tLoss: 287.31\n",
      "[1300000/1433083 (91%)]\tLoss: 335.18\n",
      "[1400000/1433083 (98%)]\tLoss: 454.24\n"
     ]
    },
    {
     "name": "stderr",
     "output_type": "stream",
     "text": [
      "Epoch:  24%|██▍       | 6/25 [02:04<06:37, 20.94s/it]"
     ]
    },
    {
     "name": "stdout",
     "output_type": "stream",
     "text": [
      "Test set: Accuracy: 596958/614179 (0.9719609429824204)\n",
      "\n",
      "[100000/1433083 (7%)]\tLoss: 191.38\n",
      "[200000/1433083 (14%)]\tLoss: 202.39\n",
      "[300000/1433083 (21%)]\tLoss: 183.26\n",
      "[400000/1433083 (28%)]\tLoss: 176.38\n",
      "[500000/1433083 (35%)]\tLoss: 177.92\n",
      "[600000/1433083 (42%)]\tLoss: 157.62\n",
      "[700000/1433083 (49%)]\tLoss: 142.64\n",
      "[800000/1433083 (56%)]\tLoss: 131.39\n",
      "[900000/1433083 (63%)]\tLoss: 148.92\n",
      "[1000000/1433083 (70%)]\tLoss: 187.59\n",
      "[1100000/1433083 (77%)]\tLoss: 197.50\n",
      "[1200000/1433083 (84%)]\tLoss: 224.45\n",
      "[1300000/1433083 (91%)]\tLoss: 286.94\n",
      "[1400000/1433083 (98%)]\tLoss: 411.52\n"
     ]
    },
    {
     "name": "stderr",
     "output_type": "stream",
     "text": [
      "Epoch:  28%|██▊       | 7/25 [02:24<06:10, 20.59s/it]"
     ]
    },
    {
     "name": "stdout",
     "output_type": "stream",
     "text": [
      "Test set: Accuracy: 598526/614179 (0.9745139446317768)\n",
      "\n",
      "[100000/1433083 (7%)]\tLoss: 242.81\n",
      "[200000/1433083 (14%)]\tLoss: 213.36\n",
      "[300000/1433083 (21%)]\tLoss: 185.14\n",
      "[400000/1433083 (28%)]\tLoss: 173.89\n",
      "[500000/1433083 (35%)]\tLoss: 172.53\n",
      "[600000/1433083 (42%)]\tLoss: 152.40\n",
      "[700000/1433083 (49%)]\tLoss: 137.60\n",
      "[800000/1433083 (56%)]\tLoss: 126.30\n",
      "[900000/1433083 (63%)]\tLoss: 141.10\n",
      "[1000000/1433083 (70%)]\tLoss: 181.58\n",
      "[1100000/1433083 (77%)]\tLoss: 189.32\n",
      "[1200000/1433083 (84%)]\tLoss: 212.07\n",
      "[1300000/1433083 (91%)]\tLoss: 251.62\n",
      "[1400000/1433083 (98%)]\tLoss: 374.51\n"
     ]
    },
    {
     "name": "stderr",
     "output_type": "stream",
     "text": [
      "Epoch:  32%|███▏      | 8/25 [02:44<05:47, 20.44s/it]"
     ]
    },
    {
     "name": "stdout",
     "output_type": "stream",
     "text": [
      "Test set: Accuracy: 600067/614179 (0.9770229851557933)\n",
      "\n",
      "[100000/1433083 (7%)]\tLoss: 185.47\n",
      "[200000/1433083 (14%)]\tLoss: 174.26\n",
      "[300000/1433083 (21%)]\tLoss: 155.18\n",
      "[400000/1433083 (28%)]\tLoss: 145.81\n",
      "[500000/1433083 (35%)]\tLoss: 146.06\n",
      "[600000/1433083 (42%)]\tLoss: 129.29\n",
      "[700000/1433083 (49%)]\tLoss: 117.09\n",
      "[800000/1433083 (56%)]\tLoss: 107.76\n",
      "[900000/1433083 (63%)]\tLoss: 121.25\n",
      "[1000000/1433083 (70%)]\tLoss: 163.66\n",
      "[1100000/1433083 (77%)]\tLoss: 170.86\n",
      "[1200000/1433083 (84%)]\tLoss: 191.96\n",
      "[1300000/1433083 (91%)]\tLoss: 227.32\n",
      "[1400000/1433083 (98%)]\tLoss: 340.55\n"
     ]
    },
    {
     "name": "stderr",
     "output_type": "stream",
     "text": [
      "Epoch:  36%|███▌      | 9/25 [03:04<05:24, 20.29s/it]"
     ]
    },
    {
     "name": "stdout",
     "output_type": "stream",
     "text": [
      "Test set: Accuracy: 602612/614179 (0.9811667282665152)\n",
      "\n",
      "[100000/1433083 (7%)]\tLoss: 227.27\n",
      "[200000/1433083 (14%)]\tLoss: 199.09\n",
      "[300000/1433083 (21%)]\tLoss: 169.28\n",
      "[400000/1433083 (28%)]\tLoss: 155.03\n",
      "[500000/1433083 (35%)]\tLoss: 151.17\n",
      "[600000/1433083 (42%)]\tLoss: 132.94\n",
      "[700000/1433083 (49%)]\tLoss: 119.81\n",
      "[800000/1433083 (56%)]\tLoss: 109.70\n",
      "[900000/1433083 (63%)]\tLoss: 120.91\n",
      "[1000000/1433083 (70%)]\tLoss: 143.63\n",
      "[1100000/1433083 (77%)]\tLoss: 148.63\n",
      "[1200000/1433083 (84%)]\tLoss: 167.69\n",
      "[1300000/1433083 (91%)]\tLoss: 204.14\n",
      "[1400000/1433083 (98%)]\tLoss: 318.42\n"
     ]
    },
    {
     "name": "stderr",
     "output_type": "stream",
     "text": [
      "Epoch:  40%|████      | 10/25 [03:23<05:00, 20.04s/it]"
     ]
    },
    {
     "name": "stdout",
     "output_type": "stream",
     "text": [
      "Test set: Accuracy: 603439/614179 (0.9825132412537713)\n",
      "\n",
      "[100000/1433083 (7%)]\tLoss: 174.90\n",
      "[200000/1433083 (14%)]\tLoss: 153.18\n",
      "[300000/1433083 (21%)]\tLoss: 133.26\n",
      "[400000/1433083 (28%)]\tLoss: 123.29\n",
      "[500000/1433083 (35%)]\tLoss: 123.60\n",
      "[600000/1433083 (42%)]\tLoss: 109.22\n",
      "[700000/1433083 (49%)]\tLoss: 98.98\n",
      "[800000/1433083 (56%)]\tLoss: 90.94\n",
      "[900000/1433083 (63%)]\tLoss: 101.69\n",
      "[1000000/1433083 (70%)]\tLoss: 132.98\n",
      "[1100000/1433083 (77%)]\tLoss: 137.77\n",
      "[1200000/1433083 (84%)]\tLoss: 154.77\n",
      "[1300000/1433083 (91%)]\tLoss: 184.09\n",
      "[1400000/1433083 (98%)]\tLoss: 285.62\n"
     ]
    },
    {
     "name": "stderr",
     "output_type": "stream",
     "text": [
      "Epoch:  44%|████▍     | 11/25 [03:43<04:40, 20.01s/it]"
     ]
    },
    {
     "name": "stdout",
     "output_type": "stream",
     "text": [
      "Test set: Accuracy: 604280/614179 (0.983882548898611)\n",
      "\n",
      "[100000/1433083 (7%)]\tLoss: 161.75\n",
      "[200000/1433083 (14%)]\tLoss: 138.28\n",
      "[300000/1433083 (21%)]\tLoss: 117.98\n",
      "[400000/1433083 (28%)]\tLoss: 108.50\n",
      "[500000/1433083 (35%)]\tLoss: 109.99\n",
      "[600000/1433083 (42%)]\tLoss: 97.25\n",
      "[700000/1433083 (49%)]\tLoss: 88.23\n",
      "[800000/1433083 (56%)]\tLoss: 81.13\n",
      "[900000/1433083 (63%)]\tLoss: 91.06\n",
      "[1000000/1433083 (70%)]\tLoss: 114.81\n",
      "[1100000/1433083 (77%)]\tLoss: 118.82\n",
      "[1200000/1433083 (84%)]\tLoss: 135.30\n",
      "[1300000/1433083 (91%)]\tLoss: 163.64\n",
      "[1400000/1433083 (98%)]\tLoss: 266.84\n"
     ]
    },
    {
     "name": "stderr",
     "output_type": "stream",
     "text": [
      "Epoch:  48%|████▊     | 12/25 [04:03<04:20, 20.01s/it]"
     ]
    },
    {
     "name": "stdout",
     "output_type": "stream",
     "text": [
      "Test set: Accuracy: 604919/614179 (0.9849229621983168)\n",
      "\n",
      "[100000/1433083 (7%)]\tLoss: 149.86\n",
      "[200000/1433083 (14%)]\tLoss: 151.67\n",
      "[300000/1433083 (21%)]\tLoss: 128.10\n",
      "[400000/1433083 (28%)]\tLoss: 115.88\n",
      "[500000/1433083 (35%)]\tLoss: 113.26\n",
      "[600000/1433083 (42%)]\tLoss: 99.61\n",
      "[700000/1433083 (49%)]\tLoss: 90.02\n",
      "[800000/1433083 (56%)]\tLoss: 82.46\n",
      "[900000/1433083 (63%)]\tLoss: 90.94\n",
      "[1000000/1433083 (70%)]\tLoss: 107.87\n",
      "[1100000/1433083 (77%)]\tLoss: 110.77\n",
      "[1200000/1433083 (84%)]\tLoss: 125.82\n",
      "[1300000/1433083 (91%)]\tLoss: 149.99\n",
      "[1400000/1433083 (98%)]\tLoss: 242.46\n"
     ]
    },
    {
     "name": "stderr",
     "output_type": "stream",
     "text": [
      "Epoch:  52%|█████▏    | 13/25 [04:23<03:58, 19.90s/it]"
     ]
    },
    {
     "name": "stdout",
     "output_type": "stream",
     "text": [
      "Test set: Accuracy: 605363/614179 (0.9856458784816804)\n",
      "\n",
      "[100000/1433083 (7%)]\tLoss: 133.85\n",
      "[200000/1433083 (14%)]\tLoss: 111.88\n",
      "[300000/1433083 (21%)]\tLoss: 95.04\n",
      "[400000/1433083 (28%)]\tLoss: 87.16\n",
      "[500000/1433083 (35%)]\tLoss: 95.98\n",
      "[600000/1433083 (42%)]\tLoss: 85.24\n",
      "[700000/1433083 (49%)]\tLoss: 77.53\n",
      "[800000/1433083 (56%)]\tLoss: 71.31\n",
      "[900000/1433083 (63%)]\tLoss: 78.98\n",
      "[1000000/1433083 (70%)]\tLoss: 103.26\n",
      "[1100000/1433083 (77%)]\tLoss: 105.79\n",
      "[1200000/1433083 (84%)]\tLoss: 118.06\n",
      "[1300000/1433083 (91%)]\tLoss: 140.96\n",
      "[1400000/1433083 (98%)]\tLoss: 237.85\n"
     ]
    },
    {
     "name": "stderr",
     "output_type": "stream",
     "text": [
      "Epoch:  56%|█████▌    | 14/25 [04:43<03:40, 20.01s/it]"
     ]
    },
    {
     "name": "stdout",
     "output_type": "stream",
     "text": [
      "Test set: Accuracy: 605379/614179 (0.9856719295189188)\n",
      "\n",
      "[100000/1433083 (7%)]\tLoss: 130.25\n",
      "[200000/1433083 (14%)]\tLoss: 106.21\n",
      "[300000/1433083 (21%)]\tLoss: 89.38\n",
      "[400000/1433083 (28%)]\tLoss: 81.48\n",
      "[500000/1433083 (35%)]\tLoss: 84.19\n",
      "[600000/1433083 (42%)]\tLoss: 74.46\n",
      "[700000/1433083 (49%)]\tLoss: 67.74\n",
      "[800000/1433083 (56%)]\tLoss: 62.40\n",
      "[900000/1433083 (63%)]\tLoss: 69.36\n",
      "[1000000/1433083 (70%)]\tLoss: 84.10\n",
      "[1100000/1433083 (77%)]\tLoss: 86.68\n",
      "[1200000/1433083 (84%)]\tLoss: 97.97\n",
      "[1300000/1433083 (91%)]\tLoss: 122.46\n",
      "[1400000/1433083 (98%)]\tLoss: 214.41\n"
     ]
    },
    {
     "name": "stderr",
     "output_type": "stream",
     "text": [
      "Epoch:  60%|██████    | 15/25 [05:04<03:20, 20.09s/it]"
     ]
    },
    {
     "name": "stdout",
     "output_type": "stream",
     "text": [
      "Test set: Accuracy: 604896/614179 (0.9848855138322867)\n",
      "\n",
      "[100000/1433083 (7%)]\tLoss: 117.16\n",
      "[200000/1433083 (14%)]\tLoss: 97.02\n",
      "[300000/1433083 (21%)]\tLoss: 80.97\n",
      "[400000/1433083 (28%)]\tLoss: 73.08\n",
      "[500000/1433083 (35%)]\tLoss: 79.98\n",
      "[600000/1433083 (42%)]\tLoss: 71.55\n",
      "[700000/1433083 (49%)]\tLoss: 65.04\n",
      "[800000/1433083 (56%)]\tLoss: 59.84\n",
      "[900000/1433083 (63%)]\tLoss: 65.87\n",
      "[1000000/1433083 (70%)]\tLoss: 78.14\n",
      "[1100000/1433083 (77%)]\tLoss: 80.44\n",
      "[1200000/1433083 (84%)]\tLoss: 92.09\n",
      "[1300000/1433083 (91%)]\tLoss: 110.10\n",
      "[1400000/1433083 (98%)]\tLoss: 193.36\n"
     ]
    },
    {
     "name": "stderr",
     "output_type": "stream",
     "text": [
      "Epoch:  64%|██████▍   | 16/25 [05:23<03:00, 20.04s/it]"
     ]
    },
    {
     "name": "stdout",
     "output_type": "stream",
     "text": [
      "Test set: Accuracy: 606386/614179 (0.9873115166751061)\n",
      "\n",
      "[100000/1433083 (7%)]\tLoss: 568.32\n",
      "[200000/1433083 (14%)]\tLoss: 339.55\n",
      "[300000/1433083 (21%)]\tLoss: 257.75\n",
      "[400000/1433083 (28%)]\tLoss: 212.30\n",
      "[500000/1433083 (35%)]\tLoss: 190.27\n",
      "[600000/1433083 (42%)]\tLoss: 164.21\n",
      "[700000/1433083 (49%)]\tLoss: 145.23\n",
      "[800000/1433083 (56%)]\tLoss: 130.90\n",
      "[900000/1433083 (63%)]\tLoss: 131.89\n",
      "[1000000/1433083 (70%)]\tLoss: 140.87\n",
      "[1100000/1433083 (77%)]\tLoss: 139.42\n",
      "[1200000/1433083 (84%)]\tLoss: 146.08\n",
      "[1300000/1433083 (91%)]\tLoss: 159.99\n",
      "[1400000/1433083 (98%)]\tLoss: 223.12\n"
     ]
    },
    {
     "name": "stderr",
     "output_type": "stream",
     "text": [
      "Epoch:  68%|██████▊   | 17/25 [05:44<02:42, 20.26s/it]"
     ]
    },
    {
     "name": "stdout",
     "output_type": "stream",
     "text": [
      "Test set: Accuracy: 607270/614179 (0.9887508364825238)\n",
      "\n",
      "[100000/1433083 (7%)]\tLoss: 128.81\n",
      "[200000/1433083 (14%)]\tLoss: 99.41\n",
      "[300000/1433083 (21%)]\tLoss: 83.88\n",
      "[400000/1433083 (28%)]\tLoss: 74.91\n",
      "[500000/1433083 (35%)]\tLoss: 74.14\n",
      "[600000/1433083 (42%)]\tLoss: 65.91\n",
      "[700000/1433083 (49%)]\tLoss: 59.98\n",
      "[800000/1433083 (56%)]\tLoss: 55.34\n",
      "[900000/1433083 (63%)]\tLoss: 61.13\n",
      "[1000000/1433083 (70%)]\tLoss: 74.39\n",
      "[1100000/1433083 (77%)]\tLoss: 76.35\n",
      "[1200000/1433083 (84%)]\tLoss: 85.08\n",
      "[1300000/1433083 (91%)]\tLoss: 100.34\n",
      "[1400000/1433083 (98%)]\tLoss: 180.20\n"
     ]
    },
    {
     "name": "stderr",
     "output_type": "stream",
     "text": [
      "Epoch:  72%|███████▏  | 18/25 [06:05<02:23, 20.50s/it]"
     ]
    },
    {
     "name": "stdout",
     "output_type": "stream",
     "text": [
      "Test set: Accuracy: 607590/614179 (0.9892718572272904)\n",
      "\n",
      "[100000/1433083 (7%)]\tLoss: 87.41\n",
      "[200000/1433083 (14%)]\tLoss: 71.74\n",
      "[300000/1433083 (21%)]\tLoss: 61.30\n",
      "[400000/1433083 (28%)]\tLoss: 56.10\n",
      "[500000/1433083 (35%)]\tLoss: 63.84\n",
      "[600000/1433083 (42%)]\tLoss: 57.23\n",
      "[700000/1433083 (49%)]\tLoss: 52.15\n",
      "[800000/1433083 (56%)]\tLoss: 48.23\n",
      "[900000/1433083 (63%)]\tLoss: 53.73\n",
      "[1000000/1433083 (70%)]\tLoss: 64.31\n",
      "[1100000/1433083 (77%)]\tLoss: 66.20\n",
      "[1200000/1433083 (84%)]\tLoss: 74.39\n",
      "[1300000/1433083 (91%)]\tLoss: 91.43\n",
      "[1400000/1433083 (98%)]\tLoss: 170.20\n"
     ]
    },
    {
     "name": "stderr",
     "output_type": "stream",
     "text": [
      "Epoch:  76%|███████▌  | 19/25 [06:25<02:02, 20.35s/it]"
     ]
    },
    {
     "name": "stdout",
     "output_type": "stream",
     "text": [
      "Test set: Accuracy: 607761/614179 (0.989550277687775)\n",
      "\n",
      "[100000/1433083 (7%)]\tLoss: 74.05\n",
      "[200000/1433083 (14%)]\tLoss: 61.86\n",
      "[300000/1433083 (21%)]\tLoss: 54.03\n",
      "[400000/1433083 (28%)]\tLoss: 49.27\n",
      "[500000/1433083 (35%)]\tLoss: 49.80\n",
      "[600000/1433083 (42%)]\tLoss: 44.52\n",
      "[700000/1433083 (49%)]\tLoss: 40.86\n",
      "[800000/1433083 (56%)]\tLoss: 38.12\n",
      "[900000/1433083 (63%)]\tLoss: 46.16\n",
      "[1000000/1433083 (70%)]\tLoss: 58.40\n",
      "[1100000/1433083 (77%)]\tLoss: 60.22\n",
      "[1200000/1433083 (84%)]\tLoss: 67.67\n",
      "[1300000/1433083 (91%)]\tLoss: 85.30\n",
      "[1400000/1433083 (98%)]\tLoss: 163.30\n"
     ]
    },
    {
     "name": "stderr",
     "output_type": "stream",
     "text": [
      "Epoch:  80%|████████  | 20/25 [06:45<01:41, 20.29s/it]"
     ]
    },
    {
     "name": "stdout",
     "output_type": "stream",
     "text": [
      "Test set: Accuracy: 607699/614179 (0.9894493299184766)\n",
      "\n",
      "[100000/1433083 (7%)]\tLoss: 65.15\n",
      "[200000/1433083 (14%)]\tLoss: 58.15\n",
      "[300000/1433083 (21%)]\tLoss: 56.98\n",
      "[400000/1433083 (28%)]\tLoss: 51.09\n",
      "[500000/1433083 (35%)]\tLoss: 50.40\n",
      "[600000/1433083 (42%)]\tLoss: 44.71\n",
      "[700000/1433083 (49%)]\tLoss: 40.82\n",
      "[800000/1433083 (56%)]\tLoss: 37.91\n",
      "[900000/1433083 (63%)]\tLoss: 44.97\n",
      "[1000000/1433083 (70%)]\tLoss: 62.91\n",
      "[1100000/1433083 (77%)]\tLoss: 63.95\n",
      "[1200000/1433083 (84%)]\tLoss: 70.24\n",
      "[1300000/1433083 (91%)]\tLoss: 83.06\n",
      "[1400000/1433083 (98%)]\tLoss: 162.51\n"
     ]
    },
    {
     "name": "stderr",
     "output_type": "stream",
     "text": [
      "Epoch:  84%|████████▍ | 21/25 [07:05<01:20, 20.17s/it]"
     ]
    },
    {
     "name": "stdout",
     "output_type": "stream",
     "text": [
      "Test set: Accuracy: 607497/614179 (0.9891204355733426)\n",
      "\n",
      "[100000/1433083 (7%)]\tLoss: 62.27\n",
      "[200000/1433083 (14%)]\tLoss: 51.46\n",
      "[300000/1433083 (21%)]\tLoss: 44.61\n",
      "[400000/1433083 (28%)]\tLoss: 40.38\n",
      "[500000/1433083 (35%)]\tLoss: 40.40\n",
      "[600000/1433083 (42%)]\tLoss: 36.05\n",
      "[700000/1433083 (49%)]\tLoss: 33.11\n",
      "[800000/1433083 (56%)]\tLoss: 30.98\n",
      "[900000/1433083 (63%)]\tLoss: 39.43\n",
      "[1000000/1433083 (70%)]\tLoss: 51.73\n",
      "[1100000/1433083 (77%)]\tLoss: 53.22\n",
      "[1200000/1433083 (84%)]\tLoss: 59.31\n",
      "[1300000/1433083 (91%)]\tLoss: 70.86\n",
      "[1400000/1433083 (98%)]\tLoss: 138.69\n"
     ]
    },
    {
     "name": "stderr",
     "output_type": "stream",
     "text": [
      "Epoch:  88%|████████▊ | 22/25 [07:25<01:00, 20.16s/it]"
     ]
    },
    {
     "name": "stdout",
     "output_type": "stream",
     "text": [
      "Test set: Accuracy: 607795/614179 (0.9896056361419066)\n",
      "\n",
      "[100000/1433083 (7%)]\tLoss: 458.95\n",
      "[200000/1433083 (14%)]\tLoss: 277.73\n",
      "[300000/1433083 (21%)]\tLoss: 203.12\n",
      "[400000/1433083 (28%)]\tLoss: 165.26\n",
      "[500000/1433083 (35%)]\tLoss: 146.66\n",
      "[600000/1433083 (42%)]\tLoss: 125.85\n",
      "[700000/1433083 (49%)]\tLoss: 111.38\n",
      "[800000/1433083 (56%)]\tLoss: 100.36\n",
      "[900000/1433083 (63%)]\tLoss: 99.85\n",
      "[1000000/1433083 (70%)]\tLoss: 105.44\n",
      "[1100000/1433083 (77%)]\tLoss: 104.95\n",
      "[1200000/1433083 (84%)]\tLoss: 107.66\n",
      "[1300000/1433083 (91%)]\tLoss: 115.79\n",
      "[1400000/1433083 (98%)]\tLoss: 169.95\n"
     ]
    },
    {
     "name": "stderr",
     "output_type": "stream",
     "text": [
      "Epoch:  92%|█████████▏| 23/25 [07:46<00:40, 20.17s/it]"
     ]
    },
    {
     "name": "stdout",
     "output_type": "stream",
     "text": [
      "Test set: Accuracy: 608339/614179 (0.9904913714080097)\n",
      "\n",
      "[100000/1433083 (7%)]\tLoss: 75.46\n",
      "[200000/1433083 (14%)]\tLoss: 56.50\n",
      "[300000/1433083 (21%)]\tLoss: 48.20\n",
      "[400000/1433083 (28%)]\tLoss: 42.73\n",
      "[500000/1433083 (35%)]\tLoss: 44.61\n",
      "[600000/1433083 (42%)]\tLoss: 39.66\n",
      "[700000/1433083 (49%)]\tLoss: 36.18\n",
      "[800000/1433083 (56%)]\tLoss: 33.66\n",
      "[900000/1433083 (63%)]\tLoss: 37.19\n",
      "[1000000/1433083 (70%)]\tLoss: 44.64\n",
      "[1100000/1433083 (77%)]\tLoss: 46.17\n",
      "[1200000/1433083 (84%)]\tLoss: 51.50\n",
      "[1300000/1433083 (91%)]\tLoss: 60.99\n",
      "[1400000/1433083 (98%)]\tLoss: 134.19\n"
     ]
    },
    {
     "name": "stderr",
     "output_type": "stream",
     "text": [
      "Epoch:  96%|█████████▌| 24/25 [08:06<00:20, 20.21s/it]"
     ]
    },
    {
     "name": "stdout",
     "output_type": "stream",
     "text": [
      "Test set: Accuracy: 608413/614179 (0.9906118574552369)\n",
      "\n",
      "[100000/1433083 (7%)]\tLoss: 47.21\n",
      "[200000/1433083 (14%)]\tLoss: 39.97\n",
      "[300000/1433083 (21%)]\tLoss: 34.70\n",
      "[400000/1433083 (28%)]\tLoss: 31.51\n",
      "[500000/1433083 (35%)]\tLoss: 52.99\n",
      "[600000/1433083 (42%)]\tLoss: 52.56\n",
      "[700000/1433083 (49%)]\tLoss: 51.28\n",
      "[800000/1433083 (56%)]\tLoss: 49.07\n",
      "[900000/1433083 (63%)]\tLoss: 57.84\n",
      "[1000000/1433083 (70%)]\tLoss: 63.48\n",
      "[1100000/1433083 (77%)]\tLoss: 63.03\n",
      "[1200000/1433083 (84%)]\tLoss: 66.57\n",
      "[1300000/1433083 (91%)]\tLoss: 74.07\n",
      "[1400000/1433083 (98%)]\tLoss: 132.48\n"
     ]
    },
    {
     "name": "stderr",
     "output_type": "stream",
     "text": [
      "Epoch: 100%|██████████| 25/25 [08:26<00:00, 20.27s/it]"
     ]
    },
    {
     "name": "stdout",
     "output_type": "stream",
     "text": [
      "Test set: Accuracy: 608604/614179 (0.9909228417122695)\n",
      "\n",
      "CPU times: user 9h 8min 3s, sys: 1h 37min 11s, total: 10h 45min 14s\n",
      "Wall time: 8min 28s\n"
     ]
    },
    {
     "name": "stderr",
     "output_type": "stream",
     "text": [
      "\n"
     ]
    }
   ],
   "source": [
    "%%time\n",
    "dd.train_model(train_data, labels, batch_size=BATCH_SIZE, epochs=EPOCHS, train_size=0.7)"
   ]
  },
  {
   "cell_type": "markdown",
   "metadata": {},
   "source": [
    "### Save Model\n",
    "Save pretrained model to a given output location."
   ]
  },
  {
   "cell_type": "code",
   "execution_count": 10,
   "metadata": {},
   "outputs": [
    {
     "name": "stdout",
     "output_type": "stream",
     "text": [
      "Pretrained model saved to location: 'models/rnn_classifier_2021-01-06_20_23_15.bin'\n"
     ]
    }
   ],
   "source": [
    "if not os.path.exists(MODELS_DIR):\n",
    "    print(\"Creating directory '{}'\".format(MODELS_DIR))\n",
    "    os.makedirs(MODELS_DIR)\n",
    "\n",
    "now = datetime.now()\n",
    "model_filename = \"rnn_classifier_{}.bin\".format(now.strftime(\"%Y-%m-%d_%H_%M_%S\"))\n",
    "model_filepath = os.path.join(MODELS_DIR, model_filename)\n",
    "dd.save_model(model_filepath)\n",
    "print(\"Pretrained model saved to location: '{}'\".format(model_filepath))"
   ]
  },
  {
   "cell_type": "markdown",
   "metadata": {},
   "source": [
    "### Inference"
   ]
  },
  {
   "cell_type": "markdown",
   "metadata": {},
   "source": [
    "Using the model generated above, we now score the test dataset against the model to determine if the domain is likely generated by a DGA or benign."
   ]
  },
  {
   "cell_type": "code",
   "execution_count": 11,
   "metadata": {},
   "outputs": [
    {
     "name": "stdout",
     "output_type": "stream",
     "text": [
      "Model accuracy: 0.9922400472826326\n"
     ]
    }
   ],
   "source": [
    "dga_detector = DGADetector()\n",
    "dga_detector.load_model(model_filepath)\n",
    "\n",
    "domain_train, domain_test, type_train, type_test = train_test_split(gdf, \"type\", train_size=0.7)\n",
    "test_df = cudf.DataFrame()\n",
    "test_df[\"type\"] = type_test.reset_index(drop=True)\n",
    "test_df[\"domain\"] = domain_test.reset_index(drop=True)\n",
    "\n",
    "test_dataset = DGADataset(test_df)\n",
    "test_dataloader = DataLoader(test_dataset, batchsize=BATCH_SIZE)\n",
    "\n",
    "pred_results = []\n",
    "true_results = []\n",
    "for chunk in test_dataloader.get_chunks():\n",
    "    pred_results.append(list(dga_detector.predict(chunk['domain']).values_host))\n",
    "    true_results.append(list(chunk['type'].values_host))\n",
    "pred_results = np.concatenate(pred_results)\n",
    "true_results = np.concatenate(true_results)\n",
    "accuracy_score = accuracy_score(pred_results, true_results)\n",
    "\n",
    "print('Model accuracy: %s'%(accuracy_score))"
   ]
  },
  {
   "cell_type": "code",
   "execution_count": 12,
   "metadata": {},
   "outputs": [
    {
     "name": "stdout",
     "output_type": "stream",
     "text": [
      "Average precision score: 0.979\n"
     ]
    }
   ],
   "source": [
    "average_precision = average_precision_score(true_results, pred_results)\n",
    "\n",
    "print('Average precision score: {0:0.3f}'.format(average_precision))"
   ]
  },
  {
   "cell_type": "markdown",
   "metadata": {},
   "source": [
    "## Conclusion"
   ]
  },
  {
   "cell_type": "markdown",
   "metadata": {},
   "source": [
    "DGA detector in CLX enables users to train their models for detection and also use existing models. This capability could also be used in conjunction with log parsing efforts if the logs contain domain names. DGA detection done with CLX and RAPIDS keeps data in GPU memory, removing unnecessary copy/converts and providing a 4X speed advantage over CPU only implementations. This is esepcially true with large batch sizes."
   ]
  }
 ],
 "metadata": {
  "kernelspec": {
   "display_name": "Python 3",
   "language": "python",
   "name": "python3"
  },
  "language_info": {
   "codemirror_mode": {
    "name": "ipython",
    "version": 3
   },
   "file_extension": ".py",
   "mimetype": "text/x-python",
   "name": "python",
   "nbconvert_exporter": "python",
   "pygments_lexer": "ipython3",
   "version": "3.7.8"
  }
 },
 "nbformat": 4,
 "nbformat_minor": 4
}
