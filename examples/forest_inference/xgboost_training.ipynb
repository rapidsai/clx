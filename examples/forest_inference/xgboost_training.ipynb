{
 "cells": [
  {
   "cell_type": "markdown",
   "metadata": {},
   "source": [
    "# XGBoost + RAPIDS model training"
   ]
  },
  {
   "cell_type": "markdown",
   "metadata": {},
   "source": [
    "This notebook is a simple example of how to train an XGBoost classification model using RAPIDS that can be saved and used for FIL inference. \n",
    "We will be using this labeled [dataset](https://www.stratosphereips.org/datasets-iot23) of malicious and begnin IoT network traffic from Stratosphere Labs."
   ]
  },
  {
   "cell_type": "markdown",
   "metadata": {},
   "source": [
    "## Imports"
   ]
  },
  {
   "cell_type": "code",
   "execution_count": 1,
   "metadata": {},
   "outputs": [],
   "source": [
    "import xgboost as xgb\n",
    "import cudf\n",
    "from cuml.preprocessing.model_selection import train_test_split\n",
    "\n",
    "import s3fs\n",
    "from os import path"
   ]
  },
  {
   "cell_type": "markdown",
   "metadata": {},
   "source": [
    "## Data Download"
   ]
  },
  {
   "cell_type": "code",
   "execution_count": 2,
   "metadata": {},
   "outputs": [],
   "source": [
    "# Download sample data and model\n",
    "IOT_MALWARE_JSON=\"iot_malware_1_1.json\"\n",
    "S3_BASE_PATH = \"rapidsai-data/cyber/clx\"\n",
    "\n",
    "# IoT data in json format\n",
    "if not path.exists(IOT_MALWARE_JSON):\n",
    "    fs = s3fs.S3FileSystem(anon=True)\n",
    "    fs.get(S3_BASE_PATH + \"/\" + IOT_MALWARE_JSON, IOT_MALWARE_JSON)\n",
    "    "
   ]
  },
  {
   "cell_type": "code",
   "execution_count": 3,
   "metadata": {},
   "outputs": [],
   "source": [
    "data_types = {\"ts\":\"float64\",\"uid\":\"str\", \"id.orig_h\":\"str\", \"id.orig_p\":\"int64\", \"id.resp_h\":\"str\", \"id.resp_p\":\"int64\", \"proto\":\"str\",\n",
    "    \"service\":\"str\", \"duration\":\"str\", \"orig_bytes\":\"str\", \"resp_bytes\":\"str\", \"conn_state\":\"str\",\"local_orig\":\"str\",\n",
    "    \"local_resp\":\"str\", \"missed_bytes\":\"int64\", \"history\":\"str\", \"orig_pkts\":\"int64\", \"orig_ip_bytes\":\"int64\", \"resp_pkts\":\"int64\",\n",
    "    \"resp_ip_bytes\":\"int64\", \"tunnel_parents\":\"str\", \"label\":\"str\", \"detailed-label\":\"str\"}"
   ]
  },
  {
   "cell_type": "code",
   "execution_count": 4,
   "metadata": {},
   "outputs": [],
   "source": [
    "# from json\n",
    "df = cudf.io.json.read_json(IOT_MALWARE_JSON, lines =True, orient='columns', dtype = data_types)"
   ]
  },
  {
   "cell_type": "code",
   "execution_count": 5,
   "metadata": {},
   "outputs": [
    {
     "data": {
      "text/html": [
       "<div>\n",
       "<style scoped>\n",
       "    .dataframe tbody tr th:only-of-type {\n",
       "        vertical-align: middle;\n",
       "    }\n",
       "\n",
       "    .dataframe tbody tr th {\n",
       "        vertical-align: top;\n",
       "    }\n",
       "\n",
       "    .dataframe thead th {\n",
       "        text-align: right;\n",
       "    }\n",
       "</style>\n",
       "<table border=\"1\" class=\"dataframe\">\n",
       "  <thead>\n",
       "    <tr style=\"text-align: right;\">\n",
       "      <th></th>\n",
       "      <th>ts</th>\n",
       "      <th>uid</th>\n",
       "      <th>id.orig_h</th>\n",
       "      <th>id.orig_p</th>\n",
       "      <th>id.resp_h</th>\n",
       "      <th>id.resp_p</th>\n",
       "      <th>proto</th>\n",
       "      <th>service</th>\n",
       "      <th>duration</th>\n",
       "      <th>orig_bytes</th>\n",
       "      <th>...</th>\n",
       "      <th>local_resp</th>\n",
       "      <th>missed_bytes</th>\n",
       "      <th>history</th>\n",
       "      <th>orig_pkts</th>\n",
       "      <th>orig_ip_bytes</th>\n",
       "      <th>resp_pkts</th>\n",
       "      <th>resp_ip_bytes</th>\n",
       "      <th>tunnel_parents</th>\n",
       "      <th>label</th>\n",
       "      <th>detailed-label</th>\n",
       "    </tr>\n",
       "  </thead>\n",
       "  <tbody>\n",
       "    <tr>\n",
       "      <th>0</th>\n",
       "      <td>1.525898e+09</td>\n",
       "      <td>CIsut41qu1NHSzSuu1</td>\n",
       "      <td>192.168.100.103</td>\n",
       "      <td>43763</td>\n",
       "      <td>96.71.155.35</td>\n",
       "      <td>37917</td>\n",
       "      <td>udp</td>\n",
       "      <td>-</td>\n",
       "      <td>&lt;NA&gt;</td>\n",
       "      <td>&lt;NA&gt;</td>\n",
       "      <td>...</td>\n",
       "      <td>-</td>\n",
       "      <td>0</td>\n",
       "      <td>D</td>\n",
       "      <td>1</td>\n",
       "      <td>40</td>\n",
       "      <td>0</td>\n",
       "      <td>0</td>\n",
       "      <td>(empty)</td>\n",
       "      <td>Benign</td>\n",
       "      <td>-</td>\n",
       "    </tr>\n",
       "    <tr>\n",
       "      <th>1</th>\n",
       "      <td>1.525898e+09</td>\n",
       "      <td>CdN5fg3EHVGF295pKe</td>\n",
       "      <td>192.168.100.103</td>\n",
       "      <td>40392</td>\n",
       "      <td>180.178.132.131</td>\n",
       "      <td>2323</td>\n",
       "      <td>tcp</td>\n",
       "      <td>-</td>\n",
       "      <td>2.998791</td>\n",
       "      <td>0.0</td>\n",
       "      <td>...</td>\n",
       "      <td>-</td>\n",
       "      <td>0</td>\n",
       "      <td>S</td>\n",
       "      <td>3</td>\n",
       "      <td>180</td>\n",
       "      <td>0</td>\n",
       "      <td>0</td>\n",
       "      <td>(empty)</td>\n",
       "      <td>Malicious</td>\n",
       "      <td>PartOfAHorizontalPortScan</td>\n",
       "    </tr>\n",
       "    <tr>\n",
       "      <th>2</th>\n",
       "      <td>1.525898e+09</td>\n",
       "      <td>CpGDCZ3rP0cggJIRIc</td>\n",
       "      <td>192.168.100.103</td>\n",
       "      <td>43763</td>\n",
       "      <td>56.245.21.79</td>\n",
       "      <td>20678</td>\n",
       "      <td>udp</td>\n",
       "      <td>-</td>\n",
       "      <td>&lt;NA&gt;</td>\n",
       "      <td>&lt;NA&gt;</td>\n",
       "      <td>...</td>\n",
       "      <td>-</td>\n",
       "      <td>0</td>\n",
       "      <td>D</td>\n",
       "      <td>1</td>\n",
       "      <td>40</td>\n",
       "      <td>0</td>\n",
       "      <td>0</td>\n",
       "      <td>(empty)</td>\n",
       "      <td>Benign</td>\n",
       "      <td>-</td>\n",
       "    </tr>\n",
       "    <tr>\n",
       "      <th>3</th>\n",
       "      <td>1.525898e+09</td>\n",
       "      <td>CUdjLI3MRrS8hiutEd</td>\n",
       "      <td>192.168.100.103</td>\n",
       "      <td>51177</td>\n",
       "      <td>163.35.213.20</td>\n",
       "      <td>23</td>\n",
       "      <td>tcp</td>\n",
       "      <td>-</td>\n",
       "      <td>2.998538</td>\n",
       "      <td>0.0</td>\n",
       "      <td>...</td>\n",
       "      <td>-</td>\n",
       "      <td>0</td>\n",
       "      <td>S</td>\n",
       "      <td>3</td>\n",
       "      <td>180</td>\n",
       "      <td>0</td>\n",
       "      <td>0</td>\n",
       "      <td>(empty)</td>\n",
       "      <td>Malicious</td>\n",
       "      <td>PartOfAHorizontalPortScan</td>\n",
       "    </tr>\n",
       "    <tr>\n",
       "      <th>4</th>\n",
       "      <td>1.525898e+09</td>\n",
       "      <td>CnvQbA2sSGxXX2MPqg</td>\n",
       "      <td>192.168.100.103</td>\n",
       "      <td>41327</td>\n",
       "      <td>102.72.255.101</td>\n",
       "      <td>23</td>\n",
       "      <td>tcp</td>\n",
       "      <td>-</td>\n",
       "      <td>&lt;NA&gt;</td>\n",
       "      <td>&lt;NA&gt;</td>\n",
       "      <td>...</td>\n",
       "      <td>-</td>\n",
       "      <td>0</td>\n",
       "      <td>S</td>\n",
       "      <td>1</td>\n",
       "      <td>60</td>\n",
       "      <td>0</td>\n",
       "      <td>0</td>\n",
       "      <td>(empty)</td>\n",
       "      <td>Malicious</td>\n",
       "      <td>PartOfAHorizontalPortScan</td>\n",
       "    </tr>\n",
       "  </tbody>\n",
       "</table>\n",
       "<p>5 rows × 23 columns</p>\n",
       "</div>"
      ],
      "text/plain": [
       "             ts                 uid        id.orig_h  id.orig_p  \\\n",
       "0  1.525898e+09  CIsut41qu1NHSzSuu1  192.168.100.103      43763   \n",
       "1  1.525898e+09  CdN5fg3EHVGF295pKe  192.168.100.103      40392   \n",
       "2  1.525898e+09  CpGDCZ3rP0cggJIRIc  192.168.100.103      43763   \n",
       "3  1.525898e+09  CUdjLI3MRrS8hiutEd  192.168.100.103      51177   \n",
       "4  1.525898e+09  CnvQbA2sSGxXX2MPqg  192.168.100.103      41327   \n",
       "\n",
       "         id.resp_h  id.resp_p proto service  duration orig_bytes  ...  \\\n",
       "0     96.71.155.35      37917   udp       -      <NA>       <NA>  ...   \n",
       "1  180.178.132.131       2323   tcp       -  2.998791        0.0  ...   \n",
       "2     56.245.21.79      20678   udp       -      <NA>       <NA>  ...   \n",
       "3    163.35.213.20         23   tcp       -  2.998538        0.0  ...   \n",
       "4   102.72.255.101         23   tcp       -      <NA>       <NA>  ...   \n",
       "\n",
       "  local_resp missed_bytes  history orig_pkts  orig_ip_bytes  resp_pkts  \\\n",
       "0          -            0        D         1             40          0   \n",
       "1          -            0        S         3            180          0   \n",
       "2          -            0        D         1             40          0   \n",
       "3          -            0        S         3            180          0   \n",
       "4          -            0        S         1             60          0   \n",
       "\n",
       "   resp_ip_bytes  tunnel_parents      label             detailed-label  \n",
       "0              0         (empty)     Benign                          -  \n",
       "1              0         (empty)  Malicious  PartOfAHorizontalPortScan  \n",
       "2              0         (empty)     Benign                          -  \n",
       "3              0         (empty)  Malicious  PartOfAHorizontalPortScan  \n",
       "4              0         (empty)  Malicious  PartOfAHorizontalPortScan  \n",
       "\n",
       "[5 rows x 23 columns]"
      ]
     },
     "execution_count": 5,
     "metadata": {},
     "output_type": "execute_result"
    }
   ],
   "source": [
    "df.head()"
   ]
  },
  {
   "cell_type": "markdown",
   "metadata": {},
   "source": [
    "## Convert categories to integers"
   ]
  },
  {
   "cell_type": "code",
   "execution_count": 6,
   "metadata": {},
   "outputs": [],
   "source": [
    "df['label'], codes = df['label'].factorize()"
   ]
  },
  {
   "cell_type": "code",
   "execution_count": 7,
   "metadata": {},
   "outputs": [
    {
     "data": {
      "text/plain": [
       "0       Benign\n",
       "1    Malicious\n",
       "Name: label, dtype: object"
      ]
     },
     "execution_count": 7,
     "metadata": {},
     "output_type": "execute_result"
    }
   ],
   "source": [
    "codes"
   ]
  },
  {
   "cell_type": "markdown",
   "metadata": {},
   "source": [
    "## Split training and testing data"
   ]
  },
  {
   "cell_type": "code",
   "execution_count": 8,
   "metadata": {},
   "outputs": [],
   "source": [
    "#  80/20 split\n",
    "X_train, X_test, y_train, y_test = train_test_split(df[[\"orig_pkts\", \"orig_ip_bytes\", \"resp_pkts\", \"resp_ip_bytes\"]], df['label'],\n",
    "                                                    train_size=0.8)"
   ]
  },
  {
   "cell_type": "markdown",
   "metadata": {},
   "source": [
    "## Move to DMatrix"
   ]
  },
  {
   "cell_type": "code",
   "execution_count": 9,
   "metadata": {},
   "outputs": [],
   "source": [
    "dmatrix_train = xgb.DMatrix(X_train, label=y_train)\n",
    "dmatrix_validation = xgb.DMatrix(X_test, label=y_test)"
   ]
  },
  {
   "cell_type": "markdown",
   "metadata": {},
   "source": [
    "## Set Parameters"
   ]
  },
  {
   "cell_type": "code",
   "execution_count": 10,
   "metadata": {},
   "outputs": [],
   "source": [
    "# learning task params\n",
    "params = {'tree_method':'gpu_hist','eval_metric': 'auc', 'objective': 'binary:logistic', 'max_depth':6, 'learning_rate':0.1}"
   ]
  },
  {
   "cell_type": "markdown",
   "metadata": {},
   "source": [
    "## Train Model"
   ]
  },
  {
   "cell_type": "code",
   "execution_count": 11,
   "metadata": {},
   "outputs": [],
   "source": [
    "# model training settings\n",
    "evallist = [(dmatrix_validation, 'validation'), (dmatrix_train, 'train')]\n",
    "num_round = 10"
   ]
  },
  {
   "cell_type": "code",
   "execution_count": 12,
   "metadata": {},
   "outputs": [
    {
     "name": "stdout",
     "output_type": "stream",
     "text": [
      "[0]\tvalidation-auc:0.95333\ttrain-auc:0.95472\n",
      "[1]\tvalidation-auc:0.95333\ttrain-auc:0.95472\n",
      "[2]\tvalidation-auc:0.95333\ttrain-auc:0.95472\n",
      "[3]\tvalidation-auc:0.95333\ttrain-auc:0.95472\n",
      "[4]\tvalidation-auc:0.95333\ttrain-auc:0.95472\n",
      "[5]\tvalidation-auc:0.95336\ttrain-auc:0.95473\n",
      "[6]\tvalidation-auc:0.95336\ttrain-auc:0.95473\n",
      "[7]\tvalidation-auc:0.95336\ttrain-auc:0.95473\n",
      "[8]\tvalidation-auc:0.95336\ttrain-auc:0.95473\n",
      "[9]\tvalidation-auc:0.95336\ttrain-auc:0.95473\n"
     ]
    }
   ],
   "source": [
    "bst = xgb.train(params, dmatrix_train, num_round, evallist)"
   ]
  },
  {
   "cell_type": "markdown",
   "metadata": {},
   "source": [
    "## Save model"
   ]
  },
  {
   "cell_type": "code",
   "execution_count": 13,
   "metadata": {},
   "outputs": [],
   "source": [
    "bst.save_model(\"iot_xgboost_model.bst\")"
   ]
  },
  {
   "cell_type": "code",
   "execution_count": null,
   "metadata": {},
   "outputs": [],
   "source": []
  }
 ],
 "metadata": {
  "kernelspec": {
   "display_name": "Python 3",
   "language": "python",
   "name": "python3"
  },
  "language_info": {
   "codemirror_mode": {
    "name": "ipython",
    "version": 3
   },
   "file_extension": ".py",
   "mimetype": "text/x-python",
   "name": "python",
   "nbconvert_exporter": "python",
   "pygments_lexer": "ipython3",
   "version": "3.7.8"
  }
 },
 "nbformat": 4,
 "nbformat_minor": 4
}
