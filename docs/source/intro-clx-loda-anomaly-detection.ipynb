{
 "cells": [
  {
   "cell_type": "markdown",
   "metadata": {},
   "source": [
    "# CLX LODA Anomaly Detection\n",
    "\n",
    "This is an introduction to CLX LODA Anomaly Detection."
   ]
  },
  {
   "cell_type": "markdown",
   "metadata": {},
   "source": [
    "## Introduction\n",
    "\n",
    "Anomaly detection is an important problem that has been studied within wide areas and application domains. Several anomaly detection algorithms are generic while many are developed specifically to the domain of interest. In practice, several ensemble-based anomaly detection algorithms have been shown to have superior performance on many benchmark datasets, namely Isolation Forest, Lightweight Online Detector of Anomalies (LODA), and an ensemble of Gaussian mixture models ...etc.\n",
    "\n",
    "The Loda algorithm is one of the good performing generic anomaly detection algorithms. Loda detects anomalies in a dataset by computing the likelihood of data points using an ensemble of one-dimensional histograms."
   ]
  },
  {
   "cell_type": "markdown",
   "metadata": {},
   "source": [
    "## How to train LODA Anomaly Detection model"
   ]
  },
  {
   "cell_type": "markdown",
   "metadata": {},
   "source": [
    "First initialize your new model"
   ]
  },
  {
   "cell_type": "code",
   "execution_count": 1,
   "metadata": {},
   "outputs": [],
   "source": [
    "from clx.analytics.loda import Loda\n",
    "\n",
    "loda_ad = Loda(n_bins=None, n_random_cuts=100)"
   ]
  },
  {
   "cell_type": "markdown",
   "metadata": {},
   "source": [
    "Next, train your LODA Anomaly detector. The below example uses a `5-D multivariate synthetic dataset` for demonstration only. Ideally you will want a larger training set."
   ]
  },
  {
   "cell_type": "code",
   "execution_count": 2,
   "metadata": {},
   "outputs": [],
   "source": [
    "import cupy as cp\n",
    "x = cp.random.randn(100,5)\n",
    "loda_ad.fit(x)"
   ]
  },
  {
   "cell_type": "markdown",
   "metadata": {},
   "source": [
    "## Evaluate detector"
   ]
  },
  {
   "cell_type": "code",
   "execution_count": 3,
   "metadata": {},
   "outputs": [
    {
     "name": "stdout",
     "output_type": "stream",
     "text": [
      "[0.02504323 0.04019007 0.02562371 0.03061367 0.04752786 0.04289815\n",
      " 0.02754808 0.04728209 0.03528147 0.03084071 0.04800468 0.03810805\n",
      " 0.06416966 0.03079894 0.03384362 0.02584911 0.03283915 0.04372543\n",
      " 0.02679274 0.03050299 0.03536936 0.02609486 0.03020831 0.02585407\n",
      " 0.03935717 0.03466724 0.02478028 0.03598875 0.02926487 0.04528794\n",
      " 0.03143523 0.02618153 0.02640285 0.04027725 0.05122316 0.02747226\n",
      " 0.02948695 0.0377711  0.03794401 0.0341601  0.03190703 0.04000252\n",
      " 0.02768167 0.03384439 0.03125174 0.04467097 0.05840884 0.05366506\n",
      " 0.02665807 0.02636387 0.02587865 0.0507532  0.02846542 0.02756456\n",
      " 0.0322691  0.0435649  0.03847129 0.02806225 0.02990485 0.03676192\n",
      " 0.02981161 0.04271214 0.03094535 0.04040348 0.03780686 0.04097244\n",
      " 0.02685846 0.04776255 0.03761849 0.04382971 0.02780935 0.02530128\n",
      " 0.02547234 0.02792817 0.02624567 0.03750734 0.02563193 0.03189411\n",
      " 0.02779641 0.03145703 0.03154918 0.04150905 0.02863377 0.03065881\n",
      " 0.03108079 0.02714798 0.04061623 0.0379528  0.04409691 0.02997059\n",
      " 0.037327   0.06013031 0.03454251 0.03159012 0.04479427 0.03213482\n",
      " 0.03788909 0.03255616 0.03988068 0.03693888]\n"
     ]
    }
   ],
   "source": [
    "score = loda_ad.score(x) #generate nll scores\n",
    "print(score)"
   ]
  },
  {
   "cell_type": "markdown",
   "metadata": {},
   "source": [
    "## Explanation of anomalies\n",
    "To explain the cause of anomalies LODA utilize contributions of each feature across the histograms."
   ]
  },
  {
   "cell_type": "code",
   "execution_count": 4,
   "metadata": {},
   "outputs": [],
   "source": [
    "feature_explanation = loda_ad.explain(x[5])"
   ]
  },
  {
   "cell_type": "code",
   "execution_count": 5,
   "metadata": {},
   "outputs": [
    {
     "name": "stdout",
     "output_type": "stream",
     "text": [
      "Feature importance scores: [0.22249588 0.         0.12161014 1.         0.69199443]\n"
     ]
    }
   ],
   "source": [
    "print(\"Feature importance scores: {}\".format(feature_explanation.ravel()))"
   ]
  },
  {
   "cell_type": "markdown",
   "metadata": {},
   "source": [
    "## Conclusion\n",
    "This example shows GPU implementation of LODA algorithm for anomaly detection and explanation. Users can experiment with other datasets and evaluate the model implementation to identify anomalies and explain the features using RAPDIS."
   ]
  }
 ],
 "metadata": {
  "kernelspec": {
   "display_name": "Python 3",
   "language": "python",
   "name": "python3"
  },
  "language_info": {
   "codemirror_mode": {
    "name": "ipython",
    "version": 3
   },
   "file_extension": ".py",
   "mimetype": "text/x-python",
   "name": "python",
   "nbconvert_exporter": "python",
   "pygments_lexer": "ipython3",
   "version": "3.7.9"
  }
 },
 "nbformat": 4,
 "nbformat_minor": 4
}
