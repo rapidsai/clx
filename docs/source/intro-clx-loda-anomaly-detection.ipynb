{
 "cells": [
  {
   "cell_type": "markdown",
   "metadata": {},
   "source": [
    "# CLX LODA Anomaly Detection\n",
    "\n",
    "This is an introduction to CLX LODA Anomaly Detection."
   ]
  },
  {
   "cell_type": "markdown",
   "metadata": {},
   "source": [
    "## Introduction\n",
    "\n",
    "Anomaly detection is an important problem that has been studied within wide areas and application domains. Several anomaly detection algorithms are generic while many are developed specifically to the domain of interest. In practice, several ensemble-based anomaly detection algorithms have been shown to have superior performance on many benchmark datasets, namely Isolation Forest, Lightweight Online Detector of Anomalies (LODA), and an ensemble of Gaussian mixture models ...etc.\n",
    "\n",
    "The LODA algorithm is one of the good performing generic anomaly detection algorithms. LODA detects anomalies in a dataset by computing the likelihood of data points using an ensemble of one-dimensional histograms."
   ]
  },
  {
   "cell_type": "markdown",
   "metadata": {},
   "source": [
    "## How to train LODA Anomaly Detection model"
   ]
  },
  {
   "cell_type": "markdown",
   "metadata": {},
   "source": [
    "First initialize your new model"
   ]
  },
  {
   "cell_type": "code",
   "execution_count": 1,
   "metadata": {},
   "outputs": [],
   "source": [
    "from clx.analytics.loda import Loda\n",
    "\n",
    "# n_bins: Number of bins in each histogram\n",
    "# n_random_cuts: Number of random cut projections\n",
    "loda_ad = Loda(n_bins=None, n_random_cuts=100)"
   ]
  },
  {
   "cell_type": "markdown",
   "metadata": {},
   "source": [
    "Next, train your LODA Anomaly detector. The below example uses a random `100 measurements each with 5 features` for demonstration only. Ideally you will want a larger training set. For in-depth example view this Jupyter [Notebook](https://github.com/rapidsai/clx/blob/main/notebooks/loda_anomaly_detection/LODA_anomaly_detection.ipynb)."
   ]
  },
  {
   "cell_type": "code",
   "execution_count": 2,
   "metadata": {},
   "outputs": [],
   "source": [
    "import cupy as cp\n",
    "\n",
    "x = cp.random.randn(100,5)\n",
    "loda_ad.fit(x)"
   ]
  },
  {
   "cell_type": "markdown",
   "metadata": {},
   "source": [
    "## Evaluate detector"
   ]
  },
  {
   "cell_type": "code",
   "execution_count": 3,
   "metadata": {},
   "outputs": [],
   "source": [
    "score = loda_ad.score(x) #generate nll scores"
   ]
  },
  {
   "cell_type": "code",
   "execution_count": 4,
   "metadata": {},
   "outputs": [
    {
     "data": {
      "text/plain": [
       "array([0.02900435, 0.03418276, 0.02768341, 0.03861408, 0.03982241,\n",
       "       0.04337963, 0.03272659, 0.04298807, 0.04248549, 0.02804974,\n",
       "       0.03489112, 0.04316542, 0.04331623, 0.03123753, 0.05257185,\n",
       "       0.05147795, 0.02723573, 0.03517688, 0.03731833, 0.05591206,\n",
       "       0.02624528, 0.02850823, 0.0408617 , 0.03489721, 0.03054152,\n",
       "       0.02690199, 0.03397416, 0.03588215, 0.02830444, 0.0303004 ,\n",
       "       0.02982849, 0.04200487, 0.03178023, 0.03023409, 0.03647531,\n",
       "       0.03089883, 0.03772923, 0.03937519, 0.03478368, 0.02784846,\n",
       "       0.05344218, 0.03877292, 0.02793043, 0.04183939, 0.05631182,\n",
       "       0.02764062, 0.02698976, 0.03835835, 0.02558101, 0.03119239,\n",
       "       0.03952834, 0.02833189, 0.03035922, 0.04122395, 0.02867007,\n",
       "       0.02687294, 0.02957526, 0.03853022, 0.0283537 , 0.03176134,\n",
       "       0.03041431, 0.03173637, 0.04377521, 0.04422376, 0.04252361,\n",
       "       0.0374672 , 0.03002908, 0.04340439, 0.03888111, 0.03645494,\n",
       "       0.03119756, 0.02825058, 0.04350974, 0.0280996 , 0.03506116,\n",
       "       0.04894868, 0.02801801, 0.03211476, 0.03299722, 0.02957329,\n",
       "       0.03731448, 0.02723952, 0.03556855, 0.04095682, 0.04691529,\n",
       "       0.02682423, 0.03367996, 0.03387718, 0.03678122, 0.02567385,\n",
       "       0.03226991, 0.04596247, 0.03811418, 0.04578249, 0.03077545,\n",
       "       0.03888511, 0.03141498, 0.03682993, 0.03019965, 0.04348805])"
      ]
     },
     "execution_count": 4,
     "metadata": {},
     "output_type": "execute_result"
    }
   ],
   "source": [
    "#The scores is supposed to be b/n 0 & +inf, here we are considering negative log likelihood values as score.\n",
    "score"
   ]
  },
  {
   "cell_type": "markdown",
   "metadata": {},
   "source": [
    "## Explanation of anomalies\n",
    "To explain the cause of anomalies LODA utilize contributions of each feature across the histograms."
   ]
  },
  {
   "cell_type": "code",
   "execution_count": 5,
   "metadata": {},
   "outputs": [],
   "source": [
    "feature_explanation = loda_ad.explain(x[5])"
   ]
  },
  {
   "cell_type": "code",
   "execution_count": 6,
   "metadata": {},
   "outputs": [
    {
     "name": "stdout",
     "output_type": "stream",
     "text": [
      "Feature importance scores: [0.7750718  0.17206949 0.         0.02056777 1.        ]\n"
     ]
    }
   ],
   "source": [
    "print(\"Feature importance scores: {}\".format(feature_explanation.ravel()))"
   ]
  },
  {
   "cell_type": "markdown",
   "metadata": {},
   "source": [
    "## Conclusion\n",
    "This example shows GPU implementation of LODA algorithm for anomaly detection and explanation. Users can experiment with other datasets and evaluate the model implementation to identify anomalies and explain the features using RAPDIS."
   ]
  },
  {
   "cell_type": "markdown",
   "metadata": {},
   "source": [
    "## Reference\n",
    "- [Loda: Lightweight on-line detector of anomalies](https://link.springer.com/article/10.1007/s10994-015-5521-0)\n",
    "- [PyOD: A Python Toolbox for Scalable Outlier Detection](https://www.jmlr.org/papers/volume20/19-011/19-011.pdf)\n",
    "- [Anomaly Detection in the Presence of Missing Values](https://arxiv.org/pdf/1809.01605.pdf)\n",
    "- https://archive.ics.uci.edu/ml/datasets/Statlog+%28Shuttle%29"
   ]
  }
 ],
 "metadata": {
  "kernelspec": {
   "display_name": "Python 3 (ipykernel)",
   "language": "python",
   "name": "python3"
  },
  "language_info": {
   "codemirror_mode": {
    "name": "ipython",
    "version": 3
   },
   "file_extension": ".py",
   "mimetype": "text/x-python",
   "name": "python",
   "nbconvert_exporter": "python",
   "pygments_lexer": "ipython3",
   "version": "3.8.13"
  }
 },
 "nbformat": 4,
 "nbformat_minor": 4
}
