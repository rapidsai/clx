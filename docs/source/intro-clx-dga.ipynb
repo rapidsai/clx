{
 "cells": [
  {
   "cell_type": "markdown",
   "metadata": {},
   "source": [
    "# CLX DGA Detection\n",
    "\n",
    "This is an introduction to CLX DGA Detection."
   ]
  },
  {
   "cell_type": "markdown",
   "metadata": {},
   "source": [
    "## What is DGA Detection?\n",
    "\n",
    "[Domain Generation Algorithms](https://en.wikipedia.org/wiki/Domain_generation_algorithm) (DGAs) are used to generate domain names that can be used by the malware to communicate with the command and control servers. IP addresses and static domain names can be easily blocked, and a DGA provides an easy method to generate a large number of domain names and rotate through them to circumvent traditional block lists."
   ]
  },
  {
   "cell_type": "markdown",
   "metadata": {},
   "source": [
    "## When to use CLX DGA Detection?\n",
    "\n",
    "Use CLX DGA Detection to build your own DGA Detection model that can then be used to predict whether a given domain is malicious or not. We will use a type of recurrent neural network called the Gated Recurrent Unit (GRU) for this example. The [CLX](https://github.com/rapidsai/clx) and [RAPIDS](https://rapids.ai/) libraries enable users train their models with up-to-date domain names representative of both benign and DGA generated strings. Using a [CLX workflow](./intro-clx-workflow.ipynb), this capability could also be used in production environments.  \n",
    "  \n",
    "**For a more advanced, in-depth example of CLX DGA Detection view this Jupyter** [notebook](https://github.com/rapidsai/clx/blob/main/notebooks/dga_detection/DGA_Detection.ipynb)."
   ]
  },
  {
   "cell_type": "markdown",
   "metadata": {},
   "source": [
    "## How to train a CLX DGA Detection model\n",
    "\n",
    "To train a CLX DGA Detection model you simply need a training data set which contains a column of domains and their associated `type` which can be either `1` (benign) or `0` (malicious)."
   ]
  },
  {
   "cell_type": "markdown",
   "metadata": {},
   "source": [
    "First initialize your new model"
   ]
  },
  {
   "cell_type": "code",
   "execution_count": 1,
   "metadata": {},
   "outputs": [],
   "source": [
    "LR = 0.001\n",
    "N_LAYERS = 3\n",
    "CHAR_VOCAB = 128\n",
    "HIDDEN_SIZE = 100\n",
    "N_DOMAIN_TYPE = 2  # Will be 2 since there are a total of 2 different types\n",
    "\n",
    "from clx.analytics.dga_detector import DGADetector\n",
    "from clx.analytics.detector_dataset import DetectorDataset\n",
    "\n",
    "dd = DGADetector(lr=LR)\n",
    "dd.init_model(\n",
    "    n_layers=N_LAYERS,\n",
    "    char_vocab=CHAR_VOCAB,\n",
    "    hidden_size=HIDDEN_SIZE,\n",
    "    n_domain_type=N_DOMAIN_TYPE,\n",
    ")"
   ]
  },
  {
   "cell_type": "markdown",
   "metadata": {},
   "source": [
    "Next, train your DGA detector. The below example uses a small dataset for demonstration only. Ideally you will want a larger training set."
   ]
  },
  {
   "cell_type": "markdown",
   "metadata": {},
   "source": [
    "To develop a more expansive training set, these resources are available:\n",
    "  \n",
    "* DGA : http://osint.bambenekconsulting.com/feeds/dga-feed.txt\n",
    "* Benign : http://s3.amazonaws.com/alexa-static/top-1m.csv.zip"
   ]
  },
  {
   "cell_type": "code",
   "execution_count": 2,
   "metadata": {},
   "outputs": [],
   "source": [
    "import cudf\n",
    "\n",
    "train_df = cudf.DataFrame()\n",
    "train_df[\"domain\"] = [\n",
    "    \"google.com\",\n",
    "    \"youtube.com\",\n",
    "    \"tmall.com\",\n",
    "    \"duiwlqeejymdb.com\",\n",
    "    \"kofsmyaiufarb.net\",\n",
    "    \"xskphhmrlcihr.biz\",\n",
    "    \"yahoo.com\",\n",
    "    \"linkedin.com\",\n",
    "    \"twitter.com\",\n",
    "    \"wejaecjhycwss.co.uk\",\n",
    "    \"xtorhktvpblmr.info\",\n",
    "    \"xvljisbfalkts.com\",\n",
    "]\n",
    "train_df[\"type\"] = [1, 1, 1, 0, 0, 0, 1, 1, 1, 0, 0, 0]\n",
    "\n",
    "# DetectorDataset converts domains from string to ascii and creates partitioned dataframes based on given batch size\n",
    "train_df = DetectorDataset(train_df, 6)"
   ]
  },
  {
   "cell_type": "markdown",
   "metadata": {},
   "source": [
    "When we train a model, the total loss is returned"
   ]
  },
  {
   "cell_type": "code",
   "execution_count": 3,
   "metadata": {},
   "outputs": [
    {
     "name": "stderr",
     "output_type": "stream",
     "text": [
      "/opt/conda/envs/rapids/lib/python3.7/site-packages/cudf/io/dlpack.py:82: UserWarning: WARNING: cuDF to_dlpack() produces column-major (Fortran order) output. If the output tensor needs to be row major, transpose the output of this function.\n",
      "  return cpp_dlpack.to_dlpack(gdf_cols)\n"
     ]
    },
    {
     "data": {
      "text/plain": [
       "2.973564386367798"
      ]
     },
     "execution_count": 3,
     "metadata": {},
     "output_type": "execute_result"
    }
   ],
   "source": [
    "dd.train_model(train_df)"
   ]
  },
  {
   "cell_type": "markdown",
   "metadata": {},
   "source": [
    "Ideally, you will want to train your model over a number of `epochs` as detailed in our example DGA Detection [notebook](https://github.com/rapidsai/clx/blob/main/notebooks/dga_detection/DGA_Detection.ipynb)."
   ]
  },
  {
   "cell_type": "markdown",
   "metadata": {},
   "source": [
    "## Save a trained model"
   ]
  },
  {
   "cell_type": "code",
   "execution_count": 4,
   "metadata": {},
   "outputs": [],
   "source": [
    "dd.save_model(\"clx_dga_classifier.pth\")"
   ]
  },
  {
   "cell_type": "markdown",
   "metadata": {},
   "source": [
    "## Load a model\n",
    "\n",
    "Let's create a new dga detector and load the saved model from above."
   ]
  },
  {
   "cell_type": "code",
   "execution_count": 5,
   "metadata": {},
   "outputs": [],
   "source": [
    "dga_detector = DGADetector(lr=0.001)\n",
    "dga_detector.load_model(\"clx_dga_classifier.pth\")"
   ]
  },
  {
   "cell_type": "markdown",
   "metadata": {},
   "source": [
    "## DGA Inferencing\n",
    "\n",
    "Use your new model to predict malicious domains"
   ]
  },
  {
   "cell_type": "code",
   "execution_count": 6,
   "metadata": {},
   "outputs": [
    {
     "data": {
      "text/plain": [
       "0    1\n",
       "1    1\n",
       "Name: is_dga, dtype: int64"
      ]
     },
     "execution_count": 6,
     "metadata": {},
     "output_type": "execute_result"
    }
   ],
   "source": [
    "test_df = cudf.DataFrame()\n",
    "test_df['domain'] = ['facebook.com','ylqblbltqkynb.net']\n",
    "\n",
    "dga_detector.predict(test_df['domain'])"
   ]
  },
  {
   "cell_type": "markdown",
   "metadata": {},
   "source": [
    "## Conclusion\n",
    "\n",
    "DGA detector in CLX enables users to train their models for detection and also use existing models. This capability could also be used in conjunction with log parsing efforts if the logs contain domain names. DGA detection done with CLX and RAPIDS keeps data in GPU memory, removing unnecessary copy/converts and providing a 4X speed advantage over CPU only implementations. This is esepcially true with large batch sizes."
   ]
  },
  {
   "cell_type": "code",
   "execution_count": null,
   "metadata": {},
   "outputs": [],
   "source": []
  }
 ],
 "metadata": {
  "kernelspec": {
   "display_name": "Python 3",
   "language": "python",
   "name": "python3"
  },
  "language_info": {
   "codemirror_mode": {
    "name": "ipython",
    "version": 3
   },
   "file_extension": ".py",
   "mimetype": "text/x-python",
   "name": "python",
   "nbconvert_exporter": "python",
   "pygments_lexer": "ipython3",
   "version": "3.7.6"
  }
 },
 "nbformat": 4,
 "nbformat_minor": 4
}