{
 "cells": [
  {
   "cell_type": "markdown",
   "metadata": {},
   "source": [
    "# 10 minutes to CLX\n",
    "\n",
    "This is a short introduction to CLX geared mainly towards new users of the code.\n",
    "\n",
    "## What are these libraries?\n",
    "\n",
    "CLX (Cyber Log Accelerators) provides a simple API for security analysts, data scientists, and engineers to quickly get started applying RAPIDS to real-world cyber use cases. CLX uses the GPU dataframe ([cuDF](https://github.com/rapidsai/cudf)) and other RAPIDS packages to execute cybersecurity and information security workflows. The following packages are available:\n",
    "\n",
    "* analytics - Machine learning and statistics functionality\n",
    "* ip - IPv4 data translation and parsing\n",
    "* parsers - Cyber log Event parsing\n",
    "* io - Input and output features for a workflow\n",
    "* workflow - Workflow which receives input data and produces analytical output data\n",
    "* osi - Open source integration (VirusTotal, FarsightDB and Whois)\n",
    "* dns - TLD extraction\n",
    "\n",
    "\n",
    "## When to use CLX\n",
    "\n",
    "Use CLX to build your cyber data analytics workflows for a GPU-accelerated environmetn using RAPIDS. CLX contains common cyber and cyber ML functionality, such as log parsing for specific data sources, cyber data type parsing (e.g., IPv4), and DGA detection. CLX also provides the ability to integrate this functionality into a CLX workflow, which simplifies execution of the series of parsing and ML functions needed for end-to-end use cases.\n"
   ]
  },
  {
   "cell_type": "markdown",
   "metadata": {},
   "source": [
    "## Log Parsing \n",
    "\n",
    "CLX provides traditional parsers for some common log types.\n",
    "Here’s an example parsing a common [Windows Event Log](https://www.ultimatewindowssecurity.com/securitylog/encyclopedia/default.aspx) of event code type [4770](https://www.ultimatewindowssecurity.com/securitylog/encyclopedia/event.aspx?eventid=4770)."
   ]
  },
  {
   "cell_type": "code",
   "execution_count": 1,
   "metadata": {},
   "outputs": [
    {
     "data": {
      "text/html": [
       "<div>\n",
       "<style scoped>\n",
       "    .dataframe tbody tr th:only-of-type {\n",
       "        vertical-align: middle;\n",
       "    }\n",
       "\n",
       "    .dataframe tbody tr th {\n",
       "        vertical-align: top;\n",
       "    }\n",
       "\n",
       "    .dataframe thead th {\n",
       "        text-align: right;\n",
       "    }\n",
       "</style>\n",
       "<table border=\"1\" class=\"dataframe\">\n",
       "  <thead>\n",
       "    <tr style=\"text-align: right;\">\n",
       "      <th></th>\n",
       "      <th>changed_attributes_allowedtodelegateto</th>\n",
       "      <th>attributes_user_principal_name</th>\n",
       "      <th>network_information_source_address</th>\n",
       "      <th>additional_information_ticket_options</th>\n",
       "      <th>attributes_allowed_to_delegate_to</th>\n",
       "      <th>changed_attributes_logon_hours</th>\n",
       "      <th>changed_attributes_account_expires</th>\n",
       "      <th>account_information_security_id</th>\n",
       "      <th>process_information_caller_process_id</th>\n",
       "      <th>target_account_account_name</th>\n",
       "      <th>...</th>\n",
       "      <th>detailed_authentication_information_transited_services</th>\n",
       "      <th>account_whose_credentials_were_used_account_name</th>\n",
       "      <th>attributes_user_parameters</th>\n",
       "      <th>changed_attributes_profile_path</th>\n",
       "      <th>account_information_account_domain</th>\n",
       "      <th>additional_information_transited_services</th>\n",
       "      <th>account_for_which_logon_failed_account_domain</th>\n",
       "      <th>new_account_domain_name</th>\n",
       "      <th>failure_information_sub_status</th>\n",
       "      <th>service_service_name</th>\n",
       "    </tr>\n",
       "  </thead>\n",
       "  <tbody>\n",
       "    <tr>\n",
       "      <th>0</th>\n",
       "      <td></td>\n",
       "      <td></td>\n",
       "      <td>100.20.100.20</td>\n",
       "      <td></td>\n",
       "      <td></td>\n",
       "      <td></td>\n",
       "      <td></td>\n",
       "      <td></td>\n",
       "      <td></td>\n",
       "      <td></td>\n",
       "      <td>...</td>\n",
       "      <td></td>\n",
       "      <td></td>\n",
       "      <td></td>\n",
       "      <td></td>\n",
       "      <td></td>\n",
       "      <td></td>\n",
       "      <td></td>\n",
       "      <td></td>\n",
       "      <td></td>\n",
       "      <td></td>\n",
       "    </tr>\n",
       "  </tbody>\n",
       "</table>\n",
       "<p>1 rows × 131 columns</p>\n",
       "</div>"
      ],
      "text/plain": [
       "  changed_attributes_allowedtodelegateto attributes_user_principal_name  \\\n",
       "0                                                                         \n",
       "\n",
       "  network_information_source_address additional_information_ticket_options  \\\n",
       "0                      100.20.100.20                                         \n",
       "\n",
       "  attributes_allowed_to_delegate_to changed_attributes_logon_hours  \\\n",
       "0                                                                    \n",
       "\n",
       "  changed_attributes_account_expires account_information_security_id  \\\n",
       "0                                                                      \n",
       "\n",
       "  process_information_caller_process_id target_account_account_name  ...  \\\n",
       "0                                                                    ...   \n",
       "\n",
       "  detailed_authentication_information_transited_services  \\\n",
       "0                                                          \n",
       "\n",
       "  account_whose_credentials_were_used_account_name attributes_user_parameters  \\\n",
       "0                                                                               \n",
       "\n",
       "  changed_attributes_profile_path account_information_account_domain  \\\n",
       "0                                                                      \n",
       "\n",
       "  additional_information_transited_services  \\\n",
       "0                                             \n",
       "\n",
       "  account_for_which_logon_failed_account_domain new_account_domain_name  \\\n",
       "0                                                                         \n",
       "\n",
       "  failure_information_sub_status service_service_name  \n",
       "0                                                      \n",
       "\n",
       "[1 rows x 131 columns]"
      ]
     },
     "execution_count": 1,
     "metadata": {},
     "output_type": "execute_result"
    }
   ],
   "source": [
    "import cudf\n",
    "from clx.parsers.windows_event_parser import WindowsEventParser\n",
    "event = \"04/03/2019 11:58:59 AM\\\\nLogName=Security\\\\nSourceName=Microsoft Windows security auditing.\\\\nEventCode=5156\\\\nEventType=0\\\\nType=Information\\\\nComputerName=user234.test.com\\\\nTaskCategory=Filtering Platform Connection\\\\nOpCode=Info\\\\nRecordNumber=241754521\\\\nKeywords=Audit Success\\\\nMessage=The Windows Filtering Platform has permitted a connection.\\\\r\\\\n\\\\r\\\\nApplication Information:\\\\r\\\\n\\\\tProcess ID:\\\\t\\\\t4\\\\r\\\\n\\\\tApplication Name:\\\\tSystem\\\\r\\\\n\\\\r\\\\nNetwork Information:\\\\r\\\\n\\\\tDirection:\\\\t\\\\tInbound\\\\r\\\\n\\\\tSource Address:\\\\t\\\\t100.20.100.20\\\\r\\\\n\\\\tSource Port:\\\\t\\\\t138\\\\r\\\\n\\\\tDestination Address:\\\\t100.20.100.30\\\\r\\\\n\\\\tDestination Port:\\\\t\\\\t138\\\\r\\\\n\\\\tProtocol:\\\\t\\\\t17\\\\r\\\\n\\\\r\\\\nFilter Information:\\\\r\\\\n\\\\tFilter Run-Time ID:\\\\t0\\\\r\\\\n\\\\tLayer Name:\\\\t\\\\tReceive/Accept\\\\r\\\\n\\\\tLayer Run-Time ID:\\\\t44\"\n",
    "wep = WindowsEventParser()\n",
    "df = cudf.DataFrame()\n",
    "df['raw'] = [event]\n",
    "result_df = wep.parse(df, 'raw')\n",
    "result_df.head()"
   ]
  },
  {
   "cell_type": "markdown",
   "metadata": {},
   "source": [
    "## Cyber Data Types\n",
    "\n",
    "CLX provides the ability to work with different data types that are specific to cybersecurity, such as IPv4 and DNS. Here’s an example of how to get started."
   ]
  },
  {
   "cell_type": "markdown",
   "metadata": {},
   "source": [
    "### IPv4"
   ]
  },
  {
   "cell_type": "markdown",
   "metadata": {},
   "source": [
    "The [IPv4](https://en.wikipedia.org/wiki/IPv4) data type is still commonly used and present in log files. Below we demonstrate functionality. Additional operations are available in the `clx.ip` module."
   ]
  },
  {
   "cell_type": "markdown",
   "metadata": {},
   "source": [
    "#### Convert IPv4 values to integers"
   ]
  },
  {
   "cell_type": "code",
   "execution_count": 2,
   "metadata": {},
   "outputs": [
    {
     "name": "stdout",
     "output_type": "stream",
     "text": [
      "0      89088434\n",
      "1    1585596973\n",
      "dtype: int64\n"
     ]
    }
   ],
   "source": [
    "import clx.ip\n",
    "import cudf\n",
    "df = cudf.Series([\"5.79.97.178\", \"94.130.74.45\"])\n",
    "result_df = clx.ip.ip_to_int(df)\n",
    "print(result_df)"
   ]
  },
  {
   "cell_type": "markdown",
   "metadata": {},
   "source": [
    "#### Check if IPv4 values are multicast"
   ]
  },
  {
   "cell_type": "code",
   "execution_count": 3,
   "metadata": {
    "scrolled": true
   },
   "outputs": [
    {
     "name": "stdout",
     "output_type": "stream",
     "text": [
      "0     True\n",
      "1     True\n",
      "2    False\n",
      "dtype: bool\n"
     ]
    }
   ],
   "source": [
    "import clx.ip\n",
    "import cudf\n",
    "df = cudf.Series([\"224.0.0.0\", \"239.255.255.255\", \"5.79.97.178\"])\n",
    "result_df = clx.ip.is_multicast(df)\n",
    "print(result_df)"
   ]
  },
  {
   "cell_type": "markdown",
   "metadata": {},
   "source": [
    "## TLD Extraction\n",
    "CLX provides the ability to extract the TLD from the registered domain and subdomains of a URL, using the public suffix list."
   ]
  },
  {
   "cell_type": "code",
   "execution_count": 4,
   "metadata": {},
   "outputs": [
    {
     "name": "stderr",
     "output_type": "stream",
     "text": [
      "/opt/conda/envs/clx_dev/lib/python3.8/site-packages/cudf/core/column/string.py:3538: FutureWarning: The expand parameter is deprecated and will be removed in a future version. Set expand=False to match future behavior.\n",
      "  warnings.warn(\n"
     ]
    },
    {
     "data": {
      "text/html": [
       "<div>\n",
       "<style scoped>\n",
       "    .dataframe tbody tr th:only-of-type {\n",
       "        vertical-align: middle;\n",
       "    }\n",
       "\n",
       "    .dataframe tbody tr th {\n",
       "        vertical-align: top;\n",
       "    }\n",
       "\n",
       "    .dataframe thead th {\n",
       "        text-align: right;\n",
       "    }\n",
       "</style>\n",
       "<table border=\"1\" class=\"dataframe\">\n",
       "  <thead>\n",
       "    <tr style=\"text-align: right;\">\n",
       "      <th></th>\n",
       "      <th>hostname</th>\n",
       "      <th>subdomain</th>\n",
       "      <th>domain</th>\n",
       "      <th>suffix</th>\n",
       "    </tr>\n",
       "  </thead>\n",
       "  <tbody>\n",
       "    <tr>\n",
       "      <th>0</th>\n",
       "      <td>www.google.com</td>\n",
       "      <td>www</td>\n",
       "      <td>google</td>\n",
       "      <td>com</td>\n",
       "    </tr>\n",
       "    <tr>\n",
       "      <th>1</th>\n",
       "      <td>gmail.com</td>\n",
       "      <td></td>\n",
       "      <td>gmail</td>\n",
       "      <td>com</td>\n",
       "    </tr>\n",
       "    <tr>\n",
       "      <th>2</th>\n",
       "      <td>github.com</td>\n",
       "      <td></td>\n",
       "      <td>github</td>\n",
       "      <td>com</td>\n",
       "    </tr>\n",
       "    <tr>\n",
       "      <th>3</th>\n",
       "      <td>pandas.pydata.org</td>\n",
       "      <td>pandas</td>\n",
       "      <td>pydata</td>\n",
       "      <td>org</td>\n",
       "    </tr>\n",
       "    <tr>\n",
       "      <th>4</th>\n",
       "      <td>www.worldbank.org.kg</td>\n",
       "      <td>www</td>\n",
       "      <td>worldbank</td>\n",
       "      <td>org.kg</td>\n",
       "    </tr>\n",
       "    <tr>\n",
       "      <th>5</th>\n",
       "      <td>waiterrant.blogspot.com</td>\n",
       "      <td></td>\n",
       "      <td>waiterrant</td>\n",
       "      <td>blogspot.com</td>\n",
       "    </tr>\n",
       "    <tr>\n",
       "      <th>6</th>\n",
       "      <td>forums.news.cnn.com.ac</td>\n",
       "      <td>forums.news</td>\n",
       "      <td>cnn</td>\n",
       "      <td>com.ac</td>\n",
       "    </tr>\n",
       "    <tr>\n",
       "      <th>7</th>\n",
       "      <td>forums.news.cnn.ac</td>\n",
       "      <td>forums.news</td>\n",
       "      <td>cnn</td>\n",
       "      <td>ac</td>\n",
       "    </tr>\n",
       "    <tr>\n",
       "      <th>8</th>\n",
       "      <td>b.cnn.com</td>\n",
       "      <td>b</td>\n",
       "      <td>cnn</td>\n",
       "      <td>com</td>\n",
       "    </tr>\n",
       "    <tr>\n",
       "      <th>9</th>\n",
       "      <td>a.news.uk</td>\n",
       "      <td>a</td>\n",
       "      <td>news</td>\n",
       "      <td>uk</td>\n",
       "    </tr>\n",
       "    <tr>\n",
       "      <th>10</th>\n",
       "      <td>a.news.co.uk</td>\n",
       "      <td>a</td>\n",
       "      <td>news</td>\n",
       "      <td>co.uk</td>\n",
       "    </tr>\n",
       "    <tr>\n",
       "      <th>11</th>\n",
       "      <td>a.news.co.uk</td>\n",
       "      <td>a</td>\n",
       "      <td>news</td>\n",
       "      <td>co.uk</td>\n",
       "    </tr>\n",
       "    <tr>\n",
       "      <th>12</th>\n",
       "      <td>107-193-100-2.lightspeed.cicril.sbcglobal.net</td>\n",
       "      <td>107-193-100-2.lightspeed.cicril</td>\n",
       "      <td>sbcglobal</td>\n",
       "      <td>net</td>\n",
       "    </tr>\n",
       "    <tr>\n",
       "      <th>13</th>\n",
       "      <td>a23-44-13-2.deploy.static.akamaitechnologies.com</td>\n",
       "      <td>a23-44-13-2.deploy.static</td>\n",
       "      <td>akamaitechnologies</td>\n",
       "      <td>com</td>\n",
       "    </tr>\n",
       "  </tbody>\n",
       "</table>\n",
       "</div>"
      ],
      "text/plain": [
       "                                            hostname  \\\n",
       "0                                     www.google.com   \n",
       "1                                          gmail.com   \n",
       "2                                         github.com   \n",
       "3                                  pandas.pydata.org   \n",
       "4                               www.worldbank.org.kg   \n",
       "5                            waiterrant.blogspot.com   \n",
       "6                             forums.news.cnn.com.ac   \n",
       "7                                 forums.news.cnn.ac   \n",
       "8                                          b.cnn.com   \n",
       "9                                          a.news.uk   \n",
       "10                                      a.news.co.uk   \n",
       "11                                      a.news.co.uk   \n",
       "12     107-193-100-2.lightspeed.cicril.sbcglobal.net   \n",
       "13  a23-44-13-2.deploy.static.akamaitechnologies.com   \n",
       "\n",
       "                          subdomain              domain        suffix  \n",
       "0                               www              google           com  \n",
       "1                                                 gmail           com  \n",
       "2                                                github           com  \n",
       "3                            pandas              pydata           org  \n",
       "4                               www           worldbank        org.kg  \n",
       "5                                            waiterrant  blogspot.com  \n",
       "6                       forums.news                 cnn        com.ac  \n",
       "7                       forums.news                 cnn            ac  \n",
       "8                                 b                 cnn           com  \n",
       "9                                 a                news            uk  \n",
       "10                                a                news         co.uk  \n",
       "11                                a                news         co.uk  \n",
       "12  107-193-100-2.lightspeed.cicril           sbcglobal           net  \n",
       "13        a23-44-13-2.deploy.static  akamaitechnologies           com  "
      ]
     },
     "execution_count": 4,
     "metadata": {},
     "output_type": "execute_result"
    }
   ],
   "source": [
    "import cudf\n",
    "from clx.dns import dns_extractor as dns\n",
    "\n",
    "input_df = cudf.DataFrame(\n",
    "    {\n",
    "        \"url\": [\n",
    "            \"http://www.google.com\",\n",
    "            \"gmail.com\",\n",
    "            \"github.com\",\n",
    "            \"https://pandas.pydata.org\",\n",
    "            \"http://www.worldbank.org.kg/\",\n",
    "            \"waiterrant.blogspot.com\",\n",
    "            \"http://forums.news.cnn.com.ac/\",\n",
    "            \"http://forums.news.cnn.ac/\",\n",
    "            \"ftp://b.cnn.com/\",\n",
    "            \"a.news.uk\",\n",
    "            \"a.news.co.uk\",\n",
    "            \"https://a.news.co.uk\",\n",
    "            \"107-193-100-2.lightspeed.cicril.sbcglobal.net\",\n",
    "            \"a23-44-13-2.deploy.static.akamaitechnologies.com\",\n",
    "        ]\n",
    "    }\n",
    ")\n",
    "output_df = dns.parse_url(input_df[\"url\"])\n",
    "output_df.head(14)"
   ]
  },
  {
   "cell_type": "markdown",
   "metadata": {},
   "source": [
    "## Machine Learning\n",
    "\n",
    "CLX offers machine learning and statistcs functions that are ready to integrate into your CLX workflow. \n",
    "\n",
    "#### Calculate Rolling Z-Score\n",
    "Calculate a rolling z-score on a given cuDF series."
   ]
  },
  {
   "cell_type": "code",
   "execution_count": 5,
   "metadata": {},
   "outputs": [
    {
     "name": "stdout",
     "output_type": "stream",
     "text": [
      "          zscore\n",
      "0           <NA>\n",
      "1           <NA>\n",
      "2           <NA>\n",
      "3           <NA>\n",
      "4           <NA>\n",
      "5           <NA>\n",
      "6    2.374423424\n",
      "7   -0.645941275\n",
      "8   -0.683973734\n",
      "9    0.158832461\n",
      "10   1.847751909\n",
      "11   0.880026019\n",
      "12  -0.950835449\n",
      "13  -0.360593742\n",
      "14   0.111407599\n",
      "15   1.228914145\n",
      "16  -0.074966331\n",
      "17  -0.570321249\n",
      "18   0.327849973\n",
      "19  -0.934372308\n",
      "20   2.296828498\n",
      "21   1.282966989\n",
      "22  -0.795223674\n"
     ]
    }
   ],
   "source": [
    "import clx.analytics.stats\n",
    "import cudf\n",
    "sequence = [3,4,5,6,1,10,34,2,1,11,45,34,2,9,19,43,24,13,23,10,98,84,10]\n",
    "series = cudf.Series(sequence)\n",
    "zscores_df = cudf.DataFrame()\n",
    "zscores_df['zscore'] = clx.analytics.stats.rzscore(series, 7)\n",
    "print(zscores_df)"
   ]
  },
  {
   "cell_type": "markdown",
   "metadata": {},
   "source": [
    "## Workflows\n",
    "\n",
    "Now that we've demonstrated the basics of CLX , let's try to tie some of this functionality into a CLX workflow. A workflow is defined as a function that receives a cuDF dataframe, performs some operations on it, and then returns an output cuDF dataframe. In our use case, we decide to show how to parse raw WinEVT data within a workflow."
   ]
  },
  {
   "cell_type": "code",
   "execution_count": 6,
   "metadata": {},
   "outputs": [
    {
     "data": {
      "text/html": [
       "<div>\n",
       "<style scoped>\n",
       "    .dataframe tbody tr th:only-of-type {\n",
       "        vertical-align: middle;\n",
       "    }\n",
       "\n",
       "    .dataframe tbody tr th {\n",
       "        vertical-align: top;\n",
       "    }\n",
       "\n",
       "    .dataframe thead th {\n",
       "        text-align: right;\n",
       "    }\n",
       "</style>\n",
       "<table border=\"1\" class=\"dataframe\">\n",
       "  <thead>\n",
       "    <tr style=\"text-align: right;\">\n",
       "      <th></th>\n",
       "      <th>changed_attributes_allowedtodelegateto</th>\n",
       "      <th>attributes_user_principal_name</th>\n",
       "      <th>network_information_source_address</th>\n",
       "      <th>additional_information_ticket_options</th>\n",
       "      <th>attributes_allowed_to_delegate_to</th>\n",
       "      <th>changed_attributes_logon_hours</th>\n",
       "      <th>changed_attributes_account_expires</th>\n",
       "      <th>account_information_security_id</th>\n",
       "      <th>process_information_caller_process_id</th>\n",
       "      <th>target_account_account_name</th>\n",
       "      <th>...</th>\n",
       "      <th>detailed_authentication_information_transited_services</th>\n",
       "      <th>account_whose_credentials_were_used_account_name</th>\n",
       "      <th>attributes_user_parameters</th>\n",
       "      <th>changed_attributes_profile_path</th>\n",
       "      <th>account_information_account_domain</th>\n",
       "      <th>additional_information_transited_services</th>\n",
       "      <th>account_for_which_logon_failed_account_domain</th>\n",
       "      <th>new_account_domain_name</th>\n",
       "      <th>failure_information_sub_status</th>\n",
       "      <th>service_service_name</th>\n",
       "    </tr>\n",
       "  </thead>\n",
       "  <tbody>\n",
       "    <tr>\n",
       "      <th>0</th>\n",
       "      <td></td>\n",
       "      <td></td>\n",
       "      <td>100.20.100.20</td>\n",
       "      <td></td>\n",
       "      <td></td>\n",
       "      <td></td>\n",
       "      <td></td>\n",
       "      <td></td>\n",
       "      <td></td>\n",
       "      <td></td>\n",
       "      <td>...</td>\n",
       "      <td></td>\n",
       "      <td></td>\n",
       "      <td></td>\n",
       "      <td></td>\n",
       "      <td></td>\n",
       "      <td></td>\n",
       "      <td></td>\n",
       "      <td></td>\n",
       "      <td></td>\n",
       "      <td></td>\n",
       "    </tr>\n",
       "  </tbody>\n",
       "</table>\n",
       "<p>1 rows × 131 columns</p>\n",
       "</div>"
      ],
      "text/plain": [
       "  changed_attributes_allowedtodelegateto attributes_user_principal_name  \\\n",
       "0                                                                         \n",
       "\n",
       "  network_information_source_address additional_information_ticket_options  \\\n",
       "0                      100.20.100.20                                         \n",
       "\n",
       "  attributes_allowed_to_delegate_to changed_attributes_logon_hours  \\\n",
       "0                                                                    \n",
       "\n",
       "  changed_attributes_account_expires account_information_security_id  \\\n",
       "0                                                                      \n",
       "\n",
       "  process_information_caller_process_id target_account_account_name  ...  \\\n",
       "0                                                                    ...   \n",
       "\n",
       "  detailed_authentication_information_transited_services  \\\n",
       "0                                                          \n",
       "\n",
       "  account_whose_credentials_were_used_account_name attributes_user_parameters  \\\n",
       "0                                                                               \n",
       "\n",
       "  changed_attributes_profile_path account_information_account_domain  \\\n",
       "0                                                                      \n",
       "\n",
       "  additional_information_transited_services  \\\n",
       "0                                             \n",
       "\n",
       "  account_for_which_logon_failed_account_domain new_account_domain_name  \\\n",
       "0                                                                         \n",
       "\n",
       "  failure_information_sub_status service_service_name  \n",
       "0                                                      \n",
       "\n",
       "[1 rows x 131 columns]"
      ]
     },
     "execution_count": 6,
     "metadata": {},
     "output_type": "execute_result"
    }
   ],
   "source": [
    "import cudf\n",
    "from clx.workflow.workflow import Workflow\n",
    "from clx.parsers.windows_event_parser import WindowsEventParser\n",
    "\n",
    "wep = WindowsEventParser()\n",
    "\n",
    "class LogParseWorkflow(Workflow):\n",
    "    def workflow(self, dataframe):\n",
    "        output = wep.parse(dataframe, \"raw\")\n",
    "        return output\n",
    "    \n",
    "input_df = cudf.DataFrame()\n",
    "input_df[\"raw\"] = [\"04/03/2019 11:58:59 AM\\\\nLogName=Security\\\\nSourceName=Microsoft Windows security auditing.\\\\nEventCode=5156\\\\nEventType=0\\\\nType=Information\\\\nComputerName=user234.test.com\\\\nTaskCategory=Filtering Platform Connection\\\\nOpCode=Info\\\\nRecordNumber=241754521\\\\nKeywords=Audit Success\\\\nMessage=The Windows Filtering Platform has permitted a connection.\\\\r\\\\n\\\\r\\\\nApplication Information:\\\\r\\\\n\\\\tProcess ID:\\\\t\\\\t4\\\\r\\\\n\\\\tApplication Name:\\\\tSystem\\\\r\\\\n\\\\r\\\\nNetwork Information:\\\\r\\\\n\\\\tDirection:\\\\t\\\\tInbound\\\\r\\\\n\\\\tSource Address:\\\\t\\\\t100.20.100.20\\\\r\\\\n\\\\tSource Port:\\\\t\\\\t138\\\\r\\\\n\\\\tDestination Address:\\\\t100.20.100.30\\\\r\\\\n\\\\tDestination Port:\\\\t\\\\t138\\\\r\\\\n\\\\tProtocol:\\\\t\\\\t17\\\\r\\\\n\\\\r\\\\nFilter Information:\\\\r\\\\n\\\\tFilter Run-Time ID:\\\\t0\\\\r\\\\n\\\\tLayer Name:\\\\t\\\\tReceive/Accept\\\\r\\\\n\\\\tLayer Run-Time ID:\\\\t44\"]\n",
    "lpw = LogParseWorkflow(name=\"my-log-parsing-workflow\")\n",
    "lpw.workflow(input_df)"
   ]
  },
  {
   "cell_type": "markdown",
   "metadata": {},
   "source": [
    "#### Workflow I/O\n",
    "\n",
    "A workflow can receive and output data from different locations, including CSV files and Kafka. To integrate I/O into your workflow, simply indicate your workflow configurations within a `workflow.yaml` file or define your configurations at instantiation within a python dictionary.  \n",
    "The workflow class will first look for any configuration file here:  \n",
    "\n",
    "* /etc/clx/[workflow-name]/workflow.yaml then\n",
    "* ~/.config/clx/[workflow-name]/workflow.yaml\n",
    "\n",
    "To learn more about workflow configurations visit the [CLX Workflow](./intro-clx-workflow.ipynb) page"
   ]
  },
  {
   "cell_type": "markdown",
   "metadata": {},
   "source": [
    "To demonstrate the input functionality, we'll create a small CSV input file."
   ]
  },
  {
   "cell_type": "code",
   "execution_count": 7,
   "metadata": {},
   "outputs": [],
   "source": [
    "import cudf\n",
    "input_df = cudf.DataFrame()\n",
    "input_df[\"raw\"] = [\"04/03/2019 11:58:59 AM\\\\nLogName=Security\\\\nSourceName=Microsoft Windows security auditing.\\\\nEventCode=5156\\\\nEventType=0\\\\nType=Information\\\\nComputerName=user234.test.com\\\\nTaskCategory=Filtering Platform Connection\\\\nOpCode=Info\\\\nRecordNumber=241754521\\\\nKeywords=Audit Success\\\\nMessage=The Windows Filtering Platform has permitted a connection.\\\\r\\\\n\\\\r\\\\nApplication Information:\\\\r\\\\n\\\\tProcess ID:\\\\t\\\\t4\\\\r\\\\n\\\\tApplication Name:\\\\tSystem\\\\r\\\\n\\\\r\\\\nNetwork Information:\\\\r\\\\n\\\\tDirection:\\\\t\\\\tInbound\\\\r\\\\n\\\\tSource Address:\\\\t\\\\t100.20.100.20\\\\r\\\\n\\\\tSource Port:\\\\t\\\\t138\\\\r\\\\n\\\\tDestination Address:\\\\t100.20.100.30\\\\r\\\\n\\\\tDestination Port:\\\\t\\\\t138\\\\r\\\\n\\\\tProtocol:\\\\t\\\\t17\\\\r\\\\n\\\\r\\\\nFilter Information:\\\\r\\\\n\\\\tFilter Run-Time ID:\\\\t0\\\\r\\\\n\\\\tLayer Name:\\\\t\\\\tReceive/Accept\\\\r\\\\n\\\\tLayer Run-Time ID:\\\\t44\"]\n",
    "input_df.to_csv(\"alert_data.csv\")"
   ]
  },
  {
   "cell_type": "markdown",
   "metadata": {},
   "source": [
    "Next, create and run the workflow."
   ]
  },
  {
   "cell_type": "code",
   "execution_count": 8,
   "metadata": {},
   "outputs": [],
   "source": [
    "from clx.workflow.workflow import Workflow\n",
    "from clx.parsers.windows_event_parser import WindowsEventParser\n",
    "import os\n",
    "\n",
    "dirpath = os.getcwd()\n",
    "\n",
    "source = {\n",
    "   \"type\": \"fs\",\n",
    "   \"input_format\": \"csv\",\n",
    "   \"input_path\": os.path.join(dirpath, \"alert_data.csv\"),\n",
    "   \"schema\": [\"raw\"],\n",
    "   \"delimiter\": \",\",\n",
    "   \"required_cols\": [\"raw\"],\n",
    "   \"dtype\": [\"str\"],\n",
    "   \"header\": 0\n",
    "}\n",
    "destination = {\n",
    "   \"type\": \"fs\",\n",
    "   \"output_format\": \"csv\",\n",
    "   \"output_path\": os.path.join(dirpath, \"alert_data_output.csv\")\n",
    "}\n",
    "wep = WindowsEventParser()\n",
    "\n",
    "class LogParseWorkflow(Workflow):\n",
    "    def workflow(self, dataframe):\n",
    "        output = wep.parse(dataframe, \"raw\")\n",
    "        return output\n",
    "\n",
    "lpw = LogParseWorkflow(source=source, destination=destination, name=\"my-log-parsing-workflow\")\n",
    "lpw.run_workflow()"
   ]
  },
  {
   "cell_type": "markdown",
   "metadata": {},
   "source": [
    "Output data can be read directly from the resulting CSV file."
   ]
  },
  {
   "cell_type": "code",
   "execution_count": 9,
   "metadata": {},
   "outputs": [
    {
     "data": {
      "text/plain": [
       "[',changed_attributes_allowedtodelegateto,attributes_user_principal_name,network_information_source_address,additional_information_ticket_options,attributes_allowed_to_delegate_to,changed_attributes_logon_hours,changed_attributes_account_expires,account_information_security_id,process_information_caller_process_id,target_account_account_name,account_whose_credentials_were_used_account_domain,target_account_old_account_name,attributes_logon_hours,new_logon_account_name,network_information_network_address,process_process_id,network_information_client_address,user_account_domain,account_information_logon_guid,network_information_client_port,group_security_id,subject_security_id,member_account_name,member_security_id,changed_attributes_sid_history,new_logon_security_id,additional_information_expiration_time,changed_attributes_user_principal_name,network_information_direction,network_information_protocol,attributes_sam_account_name,target_server_additional_information,target_account_security_id,changed_attributes_sam_account_name,attributes_password_last_set,subject_logon_guid,filter_information_filter_run_time_id,service_information_service_id,process_information_process_name,changed_attributes_primary_group_id,filter_information_layer_run_time_id,account_for_which_logon_failed_account_name,network_information_workstation_name,attributes_user_account_control,attributes_primary_group_id,detailed_authentication_information_logon_process,additional_information_pre_authentication_type,changed_attributes_old_uac_value,attributes_new_uac_value,network_information_source_network_address,changed_attributes_user_workstations,privileges,attributes_user_workstations,eventcode,account_locked_out_security_id,service_server,group_group_domain,attributes_sid_history,attributes_profile_path,attributes_home_directory,certificate_information_certificate_issuer_name,subject_account_name,changed_attributes_user_parameters,changed_attributes_display_name,id,failure_information_failure_reason,account_information_user_id,new_logon_logon_guid,account_for_which_logon_failed_security_id,attributes_display_name,network_information_destination_address,time,subject_account_domain,network_information_port,network_information_source_port,changed_attributes_user_account_control,account_information_supplied_realm_name,changed_attributes_script_path,attributes_old_uac_value,additional_information_ticket_encryption_type,attributes_account_expires,changed_attributes_home_directory,user_security_id,new_account_security_id,target_account_account_domain,target_account_new_account_name,attributes_home_drive,service_information_service_name,additional_information_caller_computer_name,attributes_script_path,user_account_name,logon_type,certificate_information_certificate_thumbprint,network_information_destination_port,changed_attributes_new_uac_value,additional_information_failure_code,group_group_name,process_information_caller_process_name,changed_attributes_home_drive,computername,application_information_application_name,detailed_authentication_information_authentication_package,account_information_account_name,account_locked_out_account_name,failure_information_status,changed_attributes_password_last_set,detailed_authentication_information_key_length,filter_information_layer_name,additional_information_privileges,process_process_name,new_logon_account_domain,account_whose_credentials_were_used_logon_guid,additional_information_result_code,subject_logon_id,new_account_account_name,detailed_authentication_information_package_name_ntlm_only,application_information_process_id,target_server_target_server_name,certificate_information_certificate_serial_number,process_information_process_id,new_logon_logon_id,detailed_authentication_information_transited_services,account_whose_credentials_were_used_account_name,attributes_user_parameters,changed_attributes_profile_path,account_information_account_domain,additional_information_transited_services,account_for_which_logon_failed_account_domain,new_account_domain_name,failure_information_sub_status,service_service_name\\n',\n",
       " '0,,,100.20.100.20,,,,,,,,,,,,,,,,,,,,,,,,,,inbound,17,,,,,,,0,,,,44,,,,,,,,,,,,,5156,,,,,,,,,,,,,,,,,100.20.100.30,,,,138,,,,,,,,,,,,,,,,,,,138,,,,,,,system,,,,,,,receive/accept,,,,,,,,,4,,,,,,,,,,,,,,\\n']"
      ]
     },
     "execution_count": 9,
     "metadata": {},
     "output_type": "execute_result"
    }
   ],
   "source": [
    "f = open('alert_data_output.csv', \"r\")\n",
    "f.readlines()"
   ]
  },
  {
   "cell_type": "markdown",
   "metadata": {},
   "source": [
    "## Open Source Threat Intelligence Integration\n",
    "Often it's beneficial to integrate open source threat intelligence with collected data. CLX includes the ability to query [VirusTotal](https://www.virustotal.com) and [FarsightDB](https://www.farsightsecurity.com) directly. An API key is necessary for both of these integrations.\n",
    "\n",
    "#### Prerequisites to get API key\n",
    "* Create an account with https://www.virustotal.com\n",
    "* Create an account with https://www.farsightsecurity.com"
   ]
  },
  {
   "cell_type": "code",
   "execution_count": null,
   "metadata": {},
   "outputs": [],
   "source": [
    "from clx.osi.virus_total import VirusTotalClient\n",
    "vt_api_key='<virus total apikey goes here>'\n",
    "vt_client = VirusTotalClient(api_key=vt_api_key)\n",
    "result = vt_client.url_scan([\"virustotal.com\"])"
   ]
  },
  {
   "cell_type": "code",
   "execution_count": null,
   "metadata": {},
   "outputs": [],
   "source": [
    "from clx.osi.farsight import FarsightLookupClient\n",
    "server='https://api.dnsdb.info'\n",
    "fs_api_key='<farsight apikey goes here>'\n",
    "fs_client = FarsightLookupClient(server, fs_api_key, limit=1)\n",
    "result = fs_client.query_rrset(\"www.dnsdb.info\")"
   ]
  },
  {
   "cell_type": "code",
   "execution_count": 12,
   "metadata": {},
   "outputs": [
    {
     "name": "stdout",
     "output_type": "stream",
     "text": [
      "[{'domain_name': 'NVIDIA.COM', 'registrar': 'Safenames Ltd', 'whois_server': 'whois.safenames.net', 'referral_url': None, 'updated_date': '05-01-2022 02:42:29,05-01-2022 03:42:30', 'creation_date': '04-20-1993 04:00:00', 'expiration_date': '04-21-2024 04:00:00', 'name_servers': 'DNS1.P09.NSONE.NET,DNS2.P09.NSONE.NET,NS5.DNSMADEEASY.COM,NS6.DNSMADEEASY.COM,NS7.DNSMADEEASY.COM,dns1.p09.nsone.net,dns2.p09.nsone.net,ns5.dnsmadeeasy.com,ns6.dnsmadeeasy.com,ns7.dnsmadeeasy.com', 'status': 'clientDeleteProhibited https://icann.org/epp#clientDeleteProhibited,clientTransferProhibited https://icann.org/epp#clientTransferProhibited,serverDeleteProhibited https://icann.org/epp#serverDeleteProhibited,serverTransferProhibited https://icann.org/epp#serverTransferProhibited,serverUpdateProhibited https://icann.org/epp#serverUpdateProhibited', 'emails': 'abuse@safenames.net,wadmpfvzi5ei@idp.email,hostmaster@safenames.net', 'dnssec': 'unsigned', 'name': 'Data protected, not disclosed', 'org': None, 'address': '2788 San Tomas Expressway', 'city': 'Santa Clara', 'state': 'CA', 'zipcode': '95051', 'country': 'US'}]\n"
     ]
    }
   ],
   "source": [
    "from clx.osi.whois import WhoIsLookupClient\n",
    "whois_client = WhoIsLookupClient()\n",
    "whois_result = whois_client.whois([\"nvidia.com\"])\n",
    "print(whois_result)"
   ]
  }
 ],
 "metadata": {
  "kernelspec": {
   "display_name": "Python 3 (ipykernel)",
   "language": "python",
   "name": "python3"
  },
  "language_info": {
   "codemirror_mode": {
    "name": "ipython",
    "version": 3
   },
   "file_extension": ".py",
   "mimetype": "text/x-python",
   "name": "python",
   "nbconvert_exporter": "python",
   "pygments_lexer": "ipython3",
   "version": "3.8.13"
  }
 },
 "nbformat": 4,
 "nbformat_minor": 4
}
