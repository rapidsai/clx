{
 "cells": [
  {
   "cell_type": "markdown",
   "metadata": {},
   "source": [
    "# 10 minutes to CLX\n",
    "\n",
    "This is a short introduction to CLX geared mainly towards new users.\n",
    "\n",
    "## What are these libraries?\n",
    "\n",
    "CLX provides a simple API for analysts, data scientists and engineers to quickly get started with applying RAPIDS to real-world cyber use cases. CLX uses the cuDF GPU-DataFrame to execute cyber analytics functionality at fast speeds. The following packages are available:\n",
    "\n",
    "<ul>\n",
    "<li>ml - Machine learning functionality</li>\n",
    "<li>ip - IPv4 data translation and parsing</li>\n",
    "<li>parsers - Log Event parsing</li>\n",
    "<li>io - Input and output features for a workflow</li>\n",
    "<li>workflow - Workflow which receives input data and produces analytical output data</li>\n",
    "<li>osi - Open source integration (VirusTotal, Farsight)</li>\n",
    "</ul>\n",
    "\n",
    "## When to use CLX\n",
    "\n",
    "Use CLX to build your cyber data analytics workflows in a gpu-accelerated environment. CLX contains common cyber and cyber-ML functionality such as log parsing for specific data sources, cyber data type parsing (such as for IPv4) and dga detection. CLX also provides the ability to integrate this functionality into a CLX workflow which simply executes the series of parsing and ML functions needed to produce cyber analytic output.\n"
   ]
  },
  {
   "cell_type": "markdown",
   "metadata": {},
   "source": [
    "## Log Parsing \n",
    "\n",
    "CLX provides parsers to parse common log types.\n",
    "Here’s an example parsing a common [Windows Event Log](https://www.ultimatewindowssecurity.com/securitylog/encyclopedia/default.aspx) of event code type [4770](https://www.ultimatewindowssecurity.com/securitylog/encyclopedia/event.aspx?eventid=4770)."
   ]
  },
  {
   "cell_type": "code",
   "execution_count": 1,
   "metadata": {},
   "outputs": [
    {
     "data": {
      "text/html": [
       "<div>\n",
       "<style scoped>\n",
       "    .dataframe tbody tr th:only-of-type {\n",
       "        vertical-align: middle;\n",
       "    }\n",
       "\n",
       "    .dataframe tbody tr th {\n",
       "        vertical-align: top;\n",
       "    }\n",
       "\n",
       "    .dataframe thead th {\n",
       "        text-align: right;\n",
       "    }\n",
       "</style>\n",
       "<table border=\"1\" class=\"dataframe\">\n",
       "  <thead>\n",
       "    <tr style=\"text-align: right;\">\n",
       "      <th></th>\n",
       "      <th>attributes_sam_account_name</th>\n",
       "      <th>account_information_account_domain</th>\n",
       "      <th>attributes_profile_path</th>\n",
       "      <th>member_account_name</th>\n",
       "      <th>changed_attributes_display_name</th>\n",
       "      <th>attributes_allowed_to_delegate_to</th>\n",
       "      <th>application_information_application_name</th>\n",
       "      <th>filter_information_filter_run_time_id</th>\n",
       "      <th>additional_information_pre_authentication_type</th>\n",
       "      <th>attributes_script_path</th>\n",
       "      <th>...</th>\n",
       "      <th>changed_attributes_password_last_set</th>\n",
       "      <th>network_information_destination_address</th>\n",
       "      <th>target_account_account_name</th>\n",
       "      <th>changed_attributes_home_directory</th>\n",
       "      <th>network_information_port</th>\n",
       "      <th>failure_information_sub_status</th>\n",
       "      <th>filter_information_layer_name</th>\n",
       "      <th>changed_attributes_account_expires</th>\n",
       "      <th>attributes_user_principal_name</th>\n",
       "      <th>network_information_source_port</th>\n",
       "    </tr>\n",
       "  </thead>\n",
       "  <tbody>\n",
       "    <tr>\n",
       "      <th>0</th>\n",
       "      <td></td>\n",
       "      <td></td>\n",
       "      <td></td>\n",
       "      <td></td>\n",
       "      <td></td>\n",
       "      <td></td>\n",
       "      <td>system</td>\n",
       "      <td>0</td>\n",
       "      <td></td>\n",
       "      <td></td>\n",
       "      <td>...</td>\n",
       "      <td></td>\n",
       "      <td>100.20.100.30</td>\n",
       "      <td></td>\n",
       "      <td></td>\n",
       "      <td></td>\n",
       "      <td></td>\n",
       "      <td>receive/accept</td>\n",
       "      <td></td>\n",
       "      <td></td>\n",
       "      <td>138</td>\n",
       "    </tr>\n",
       "  </tbody>\n",
       "</table>\n",
       "<p>1 rows × 131 columns</p>\n",
       "</div>"
      ],
      "text/plain": [
       "  attributes_sam_account_name account_information_account_domain  \\\n",
       "0                                                                  \n",
       "\n",
       "  attributes_profile_path member_account_name changed_attributes_display_name  \\\n",
       "0                                                                               \n",
       "\n",
       "  attributes_allowed_to_delegate_to application_information_application_name  \\\n",
       "0                                                                     system   \n",
       "\n",
       "  filter_information_filter_run_time_id  \\\n",
       "0                                     0   \n",
       "\n",
       "  additional_information_pre_authentication_type attributes_script_path  ...  \\\n",
       "0                                                                        ...   \n",
       "\n",
       "  changed_attributes_password_last_set  \\\n",
       "0                                        \n",
       "\n",
       "  network_information_destination_address target_account_account_name  \\\n",
       "0                           100.20.100.30                               \n",
       "\n",
       "  changed_attributes_home_directory network_information_port  \\\n",
       "0                                                              \n",
       "\n",
       "  failure_information_sub_status filter_information_layer_name  \\\n",
       "0                                               receive/accept   \n",
       "\n",
       "  changed_attributes_account_expires attributes_user_principal_name  \\\n",
       "0                                                                     \n",
       "\n",
       "  network_information_source_port  \n",
       "0                             138  \n",
       "\n",
       "[1 rows x 131 columns]"
      ]
     },
     "execution_count": 1,
     "metadata": {},
     "output_type": "execute_result"
    }
   ],
   "source": [
    "import cudf\n",
    "from clx.parsers.windows_event_parser import WindowsEventParser\n",
    "event = \"04/03/2019 11:58:59 AM\\\\nLogName=Security\\\\nSourceName=Microsoft Windows security auditing.\\\\nEventCode=5156\\\\nEventType=0\\\\nType=Information\\\\nComputerName=user234.test.com\\\\nTaskCategory=Filtering Platform Connection\\\\nOpCode=Info\\\\nRecordNumber=241754521\\\\nKeywords=Audit Success\\\\nMessage=The Windows Filtering Platform has permitted a connection.\\\\r\\\\n\\\\r\\\\nApplication Information:\\\\r\\\\n\\\\tProcess ID:\\\\t\\\\t4\\\\r\\\\n\\\\tApplication Name:\\\\tSystem\\\\r\\\\n\\\\r\\\\nNetwork Information:\\\\r\\\\n\\\\tDirection:\\\\t\\\\tInbound\\\\r\\\\n\\\\tSource Address:\\\\t\\\\t100.20.100.20\\\\r\\\\n\\\\tSource Port:\\\\t\\\\t138\\\\r\\\\n\\\\tDestination Address:\\\\t100.20.100.30\\\\r\\\\n\\\\tDestination Port:\\\\t\\\\t138\\\\r\\\\n\\\\tProtocol:\\\\t\\\\t17\\\\r\\\\n\\\\r\\\\nFilter Information:\\\\r\\\\n\\\\tFilter Run-Time ID:\\\\t0\\\\r\\\\n\\\\tLayer Name:\\\\t\\\\tReceive/Accept\\\\r\\\\n\\\\tLayer Run-Time ID:\\\\t44\"\n",
    "wep = WindowsEventParser()\n",
    "df = cudf.DataFrame()\n",
    "df['raw'] = [event]\n",
    "result_df = wep.parse(df, 'raw')\n",
    "result_df.head()"
   ]
  },
  {
   "cell_type": "markdown",
   "metadata": {},
   "source": [
    "## Cyber Data Types (IPv4)\n",
    "\n",
    "CLX provides the ability to parse different data types related to cyber, such as IPv4. Here’s an example of how to get started."
   ]
  },
  {
   "cell_type": "markdown",
   "metadata": {},
   "source": [
    "#### Convert IPv4 strings to ints"
   ]
  },
  {
   "cell_type": "code",
   "execution_count": 2,
   "metadata": {},
   "outputs": [
    {
     "name": "stdout",
     "output_type": "stream",
     "text": [
      "0      89088434\n",
      "1    1585596973\n",
      "dtype: int64\n"
     ]
    }
   ],
   "source": [
    "import clx.ip\n",
    "import cudf\n",
    "df = cudf.Series([\"5.79.97.178\", \"94.130.74.45\"])\n",
    "result_df = clx.ip.ip_to_int(df)\n",
    "print(result_df)"
   ]
  },
  {
   "cell_type": "markdown",
   "metadata": {},
   "source": [
    "#### Check if IPv4 Strings are multicast"
   ]
  },
  {
   "cell_type": "code",
   "execution_count": 3,
   "metadata": {},
   "outputs": [
    {
     "name": "stdout",
     "output_type": "stream",
     "text": [
      "0     True\n",
      "1     True\n",
      "2    False\n",
      "dtype: bool\n"
     ]
    }
   ],
   "source": [
    "import clx.ip\n",
    "import cudf\n",
    "df = cudf.Series([\"224.0.0.0\", \"239.255.255.255\", \"5.79.97.178\"])\n",
    "result_df = clx.ip.is_multicast(df)\n",
    "print(result_df)"
   ]
  },
  {
   "cell_type": "markdown",
   "metadata": {},
   "source": [
    "## Machine Learning\n",
    "\n",
    "CLX offers machine learning functions ready to integrate into your cudf analytics workflow. \n",
    "\n",
    "#### Calculate Rolling Z-Score\n",
    "Follow this example to calculate the rolling z-score for a given cudf Series."
   ]
  },
  {
   "cell_type": "code",
   "execution_count": 4,
   "metadata": {},
   "outputs": [
    {
     "name": "stdout",
     "output_type": "stream",
     "text": [
      "          zscore\n",
      "0           null\n",
      "1           null\n",
      "2           null\n",
      "3           null\n",
      "4           null\n",
      "5           null\n",
      "6    2.374423424\n",
      "7   -0.645941275\n",
      "8   -0.683973734\n",
      "9    0.158832461\n",
      "10   1.847751909\n",
      "11   0.880026019\n",
      "12  -0.950835449\n",
      "13  -0.360593742\n",
      "14   0.111407599\n",
      "15   1.228914145\n",
      "16  -0.074966331\n",
      "17  -0.570321249\n",
      "18   0.327849973\n",
      "19  -0.934372308\n",
      "20   2.296828498\n",
      "21   1.282966989\n",
      "22  -0.795223674\n"
     ]
    }
   ],
   "source": [
    "import clx.analytics.stats\n",
    "import cudf\n",
    "sequence = [3,4,5,6,1,10,34,2,1,11,45,34,2,9,19,43,24,13,23,10,98,84,10]\n",
    "series = cudf.Series(sequence)\n",
    "zscores_df = cudf.DataFrame()\n",
    "zscores_df['zscore'] = clx.analytics.stats.rzscore(series, 7)\n",
    "print(zscores_df)"
   ]
  },
  {
   "cell_type": "markdown",
   "metadata": {},
   "source": [
    "## Workflows\n",
    "\n",
    "Now that we've gotten a handle on CLX functionality, let's try to tie some of this functionality into a CLX workflow where the output produced can be valuable analytical information.  \n",
    "  \n",
    "A workflow is genericly defined as a function that receives a cudf dataframe, performs some gpu operations on it and then returns an output cudf dataframe. In our use case, we decide to show how to parse raw data within a workflow."
   ]
  },
  {
   "cell_type": "code",
   "execution_count": 61,
   "metadata": {},
   "outputs": [
    {
     "data": {
      "text/html": [
       "<div>\n",
       "<style scoped>\n",
       "    .dataframe tbody tr th:only-of-type {\n",
       "        vertical-align: middle;\n",
       "    }\n",
       "\n",
       "    .dataframe tbody tr th {\n",
       "        vertical-align: top;\n",
       "    }\n",
       "\n",
       "    .dataframe thead th {\n",
       "        text-align: right;\n",
       "    }\n",
       "</style>\n",
       "<table border=\"1\" class=\"dataframe\">\n",
       "  <thead>\n",
       "    <tr style=\"text-align: right;\">\n",
       "      <th></th>\n",
       "      <th>member_account_name</th>\n",
       "      <th>attributes_password_last_set</th>\n",
       "      <th>service_service_name</th>\n",
       "      <th>attributes_profile_path</th>\n",
       "      <th>account_information_security_id</th>\n",
       "      <th>additional_information_transited_services</th>\n",
       "      <th>additional_information_caller_computer_name</th>\n",
       "      <th>network_information_direction</th>\n",
       "      <th>new_logon_account_name</th>\n",
       "      <th>changed_attributes_home_drive</th>\n",
       "      <th>...</th>\n",
       "      <th>certificate_information_certificate_issuer_name</th>\n",
       "      <th>network_information_source_network_address</th>\n",
       "      <th>service_information_service_name</th>\n",
       "      <th>privileges</th>\n",
       "      <th>account_for_which_logon_failed_account_domain</th>\n",
       "      <th>network_information_network_address</th>\n",
       "      <th>service_server</th>\n",
       "      <th>new_account_account_name</th>\n",
       "      <th>user_account_name</th>\n",
       "      <th>attributes_user_account_control</th>\n",
       "    </tr>\n",
       "  </thead>\n",
       "  <tbody>\n",
       "    <tr>\n",
       "      <th>0</th>\n",
       "      <td></td>\n",
       "      <td></td>\n",
       "      <td></td>\n",
       "      <td></td>\n",
       "      <td></td>\n",
       "      <td></td>\n",
       "      <td></td>\n",
       "      <td>inbound</td>\n",
       "      <td></td>\n",
       "      <td></td>\n",
       "      <td>...</td>\n",
       "      <td></td>\n",
       "      <td></td>\n",
       "      <td></td>\n",
       "      <td></td>\n",
       "      <td></td>\n",
       "      <td></td>\n",
       "      <td></td>\n",
       "      <td></td>\n",
       "      <td></td>\n",
       "      <td></td>\n",
       "    </tr>\n",
       "  </tbody>\n",
       "</table>\n",
       "<p>1 rows × 131 columns</p>\n",
       "</div>"
      ],
      "text/plain": [
       "  member_account_name attributes_password_last_set service_service_name  \\\n",
       "0                                                                         \n",
       "\n",
       "  attributes_profile_path account_information_security_id  \\\n",
       "0                                                           \n",
       "\n",
       "  additional_information_transited_services  \\\n",
       "0                                             \n",
       "\n",
       "  additional_information_caller_computer_name network_information_direction  \\\n",
       "0                                                                   inbound   \n",
       "\n",
       "  new_logon_account_name changed_attributes_home_drive  ...  \\\n",
       "0                                                       ...   \n",
       "\n",
       "  certificate_information_certificate_issuer_name  \\\n",
       "0                                                   \n",
       "\n",
       "  network_information_source_network_address service_information_service_name  \\\n",
       "0                                                                               \n",
       "\n",
       "  privileges account_for_which_logon_failed_account_domain  \\\n",
       "0                                                            \n",
       "\n",
       "  network_information_network_address service_server new_account_account_name  \\\n",
       "0                                                                               \n",
       "\n",
       "  user_account_name attributes_user_account_control  \n",
       "0                                                    \n",
       "\n",
       "[1 rows x 131 columns]"
      ]
     },
     "execution_count": 61,
     "metadata": {},
     "output_type": "execute_result"
    }
   ],
   "source": [
    "import cudf\n",
    "from clx.workflow.workflow import Workflow\n",
    "from clx.parsers.windows_event_parser import WindowsEventParser\n",
    "\n",
    "wep = WindowsEventParser()\n",
    "\n",
    "class LogParseWorkflow(Workflow):\n",
    "    def workflow(self, dataframe):\n",
    "        output = wep.parse(dataframe, \"raw\")\n",
    "        return output\n",
    "    \n",
    "input_df = cudf.DataFrame()\n",
    "input_df[\"raw\"] = [\"04/03/2019 11:58:59 AM\\\\nLogName=Security\\\\nSourceName=Microsoft Windows security auditing.\\\\nEventCode=5156\\\\nEventType=0\\\\nType=Information\\\\nComputerName=user234.test.com\\\\nTaskCategory=Filtering Platform Connection\\\\nOpCode=Info\\\\nRecordNumber=241754521\\\\nKeywords=Audit Success\\\\nMessage=The Windows Filtering Platform has permitted a connection.\\\\r\\\\n\\\\r\\\\nApplication Information:\\\\r\\\\n\\\\tProcess ID:\\\\t\\\\t4\\\\r\\\\n\\\\tApplication Name:\\\\tSystem\\\\r\\\\n\\\\r\\\\nNetwork Information:\\\\r\\\\n\\\\tDirection:\\\\t\\\\tInbound\\\\r\\\\n\\\\tSource Address:\\\\t\\\\t100.20.100.20\\\\r\\\\n\\\\tSource Port:\\\\t\\\\t138\\\\r\\\\n\\\\tDestination Address:\\\\t100.20.100.30\\\\r\\\\n\\\\tDestination Port:\\\\t\\\\t138\\\\r\\\\n\\\\tProtocol:\\\\t\\\\t17\\\\r\\\\n\\\\r\\\\nFilter Information:\\\\r\\\\n\\\\tFilter Run-Time ID:\\\\t0\\\\r\\\\n\\\\tLayer Name:\\\\t\\\\tReceive/Accept\\\\r\\\\n\\\\tLayer Run-Time ID:\\\\t44\"]\n",
    "lpw = LogParseWorkflow(name=\"my-log-parsing-workflow\")\n",
    "lpw.workflow(input_df)"
   ]
  },
  {
   "cell_type": "markdown",
   "metadata": {},
   "source": [
    "#### Workflow I/O\n",
    "\n",
    "A workflow can receive and output data from different locations including CSV files and Kafka. To integrate I/O into your workflow simply indicate your workflow configurations within a `workflow.yaml` file, or define your configurations at instantiation within a python dictionary.  \n",
    "The workflow class will first look for any configuration file here:  \n",
    "<ul>\n",
    "    <li>/etc/clx/[workflow-name]/workflow.yaml then </li>\n",
    "    <li>~/.config/clx/[workflow-name]/workflow.yaml </li>\n",
    "</ul>\n",
    "\n",
    "To learn more about workflow configurations click here. (TODO: Add workflow config documentation)"
   ]
  },
  {
   "cell_type": "markdown",
   "metadata": {},
   "source": [
    "First, let's create our input data file"
   ]
  },
  {
   "cell_type": "code",
   "execution_count": 62,
   "metadata": {},
   "outputs": [],
   "source": [
    "import cudf\n",
    "input_df = cudf.DataFrame()\n",
    "input_df[\"raw\"] = [\"04/03/2019 11:58:59 AM\\\\nLogName=Security\\\\nSourceName=Microsoft Windows security auditing.\\\\nEventCode=5156\\\\nEventType=0\\\\nType=Information\\\\nComputerName=user234.test.com\\\\nTaskCategory=Filtering Platform Connection\\\\nOpCode=Info\\\\nRecordNumber=241754521\\\\nKeywords=Audit Success\\\\nMessage=The Windows Filtering Platform has permitted a connection.\\\\r\\\\n\\\\r\\\\nApplication Information:\\\\r\\\\n\\\\tProcess ID:\\\\t\\\\t4\\\\r\\\\n\\\\tApplication Name:\\\\tSystem\\\\r\\\\n\\\\r\\\\nNetwork Information:\\\\r\\\\n\\\\tDirection:\\\\t\\\\tInbound\\\\r\\\\n\\\\tSource Address:\\\\t\\\\t100.20.100.20\\\\r\\\\n\\\\tSource Port:\\\\t\\\\t138\\\\r\\\\n\\\\tDestination Address:\\\\t100.20.100.30\\\\r\\\\n\\\\tDestination Port:\\\\t\\\\t138\\\\r\\\\n\\\\tProtocol:\\\\t\\\\t17\\\\r\\\\n\\\\r\\\\nFilter Information:\\\\r\\\\n\\\\tFilter Run-Time ID:\\\\t0\\\\r\\\\n\\\\tLayer Name:\\\\t\\\\tReceive/Accept\\\\r\\\\n\\\\tLayer Run-Time ID:\\\\t44\"]\n",
    "input_df.to_csv(\"alert_data.csv\")"
   ]
  },
  {
   "cell_type": "markdown",
   "metadata": {},
   "source": [
    "Next, create and run the new workflow"
   ]
  },
  {
   "cell_type": "code",
   "execution_count": 60,
   "metadata": {},
   "outputs": [],
   "source": [
    "from clx.workflow.workflow import Workflow\n",
    "from clx.parsers.windows_event_parser import WindowsEventParser\n",
    "import os\n",
    "dirpath = os.getcwd()\n",
    "\n",
    "source = {\n",
    "   \"type\": \"fs\",\n",
    "   \"input_format\": \"csv\",\n",
    "   \"input_path\": dirpath + \"alert_data.csv\",\n",
    "   \"schema\": [\"raw\"],\n",
    "   \"delimiter\": \",\",\n",
    "   \"required_cols\": [\"raw\"],\n",
    "   \"dtype\": [\"str\"],\n",
    "   \"header\": 0\n",
    "}\n",
    "destination = {\n",
    "   \"type\": \"fs\",\n",
    "   \"output_format\": \"csv\",\n",
    "   \"output_path\": dirpath + \"alert_data_output.csv\"\n",
    "}\n",
    "wep = WindowsEventParser()\n",
    "\n",
    "class LogParseWorkflow(Workflow):\n",
    "    def workflow(self, dataframe):\n",
    "        output = wep.parse(dataframe, \"raw\")\n",
    "        return output\n",
    "\n",
    "lpw = LogParseWorkflow(source=source, destination=destination, name=\"my-log-parsing-workflow\")\n",
    "lpw.run_workflow()"
   ]
  },
  {
   "cell_type": "markdown",
   "metadata": {},
   "source": [
    "Lastly, read output data"
   ]
  },
  {
   "cell_type": "code",
   "execution_count": 66,
   "metadata": {},
   "outputs": [
    {
     "data": {
      "text/plain": [
       "['member_account_name,attributes_password_last_set,service_service_name,attributes_profile_path,account_information_security_id,additional_information_transited_services,additional_information_caller_computer_name,network_information_direction,new_logon_account_name,changed_attributes_home_drive,filter_information_layer_run_time_id,new_logon_security_id,additional_information_result_code,eventcode,changed_attributes_logon_hours,account_information_supplied_realm_name,additional_information_ticket_options,subject_security_id,detailed_authentication_information_key_length,changed_attributes_script_path,changed_attributes_display_name,detailed_authentication_information_transited_services,subject_logon_id,changed_attributes_sam_account_name,network_information_workstation_name,service_information_service_id,subject_account_name,account_information_user_id,new_logon_account_domain,attributes_user_workstations,account_locked_out_account_name,target_account_old_account_name,network_information_protocol,attributes_home_directory,attributes_logon_hours,group_group_domain,changed_attributes_allowedtodelegateto,changed_attributes_user_account_control,network_information_source_port,attributes_user_parameters,network_information_port,application_information_process_id,attributes_sid_history,attributes_new_uac_value,process_process_name,network_information_destination_port,changed_attributes_home_directory,group_security_id,member_security_id,user_account_domain,certificate_information_certificate_serial_number,account_whose_credentials_were_used_account_domain,attributes_account_expires,subject_account_domain,process_information_caller_process_id,process_process_id,target_server_additional_information,process_information_caller_process_name,logon_type,network_information_destination_address,account_whose_credentials_were_used_logon_guid,filter_information_layer_name,additional_information_ticket_encryption_type,network_information_source_address,target_account_account_domain,failure_information_status,failure_information_failure_reason,process_information_process_name,target_account_security_id,filter_information_filter_run_time_id,attributes_allowed_to_delegate_to,changed_attributes_sid_history,account_for_which_logon_failed_security_id,new_account_domain_name,detailed_authentication_information_logon_process,additional_information_privileges,account_information_account_name,user_security_id,process_information_process_id,network_information_client_port,certificate_information_certificate_thumbprint,target_server_target_server_name,attributes_primary_group_id,additional_information_pre_authentication_type,changed_attributes_old_uac_value,account_information_account_domain,account_whose_credentials_were_used_account_name,id,subject_logon_guid,attributes_sam_account_name,detailed_authentication_information_authentication_package,attributes_user_principal_name,target_account_new_account_name,computername,attributes_home_drive,changed_attributes_account_expires,target_account_account_name,application_information_application_name,changed_attributes_primary_group_id,additional_information_failure_code,time,failure_information_sub_status,attributes_display_name,new_account_security_id,changed_attributes_user_principal_name,new_logon_logon_guid,changed_attributes_user_workstations,account_information_logon_guid,new_logon_logon_id,attributes_old_uac_value,changed_attributes_new_uac_value,additional_information_expiration_time,changed_attributes_password_last_set,network_information_client_address,account_for_which_logon_failed_account_name,changed_attributes_profile_path,attributes_script_path,detailed_authentication_information_package_name_ntlm_only,group_group_name,changed_attributes_user_parameters,account_locked_out_security_id,certificate_information_certificate_issuer_name,network_information_source_network_address,service_information_service_name,privileges,account_for_which_logon_failed_account_domain,network_information_network_address,service_server,new_account_account_name,user_account_name,attributes_user_account_control\\n',\n",
       " ',,,,,,,inbound,,,44,,,5156,,,,,,,,,,,,,,,,,,,17,,,,,,138,,,4,,,,138,,,,,,,,,,,,,,100.20.100.30,,receive/accept,,100.20.100.20,,,,,,0,,,,,,,,,,,,,,,,,,,,,,,,,,,,system,,,,,,,,,,,,,,,,,,,,,,,,,,,,,,,,,\\n']"
      ]
     },
     "execution_count": 66,
     "metadata": {},
     "output_type": "execute_result"
    }
   ],
   "source": [
    "f = open('alert_data_output.csv', \"r\")\n",
    "f.readlines()"
   ]
  }
 ],
 "metadata": {
  "kernelspec": {
   "display_name": "Python 3",
   "language": "python",
   "name": "python3"
  },
  "language_info": {
   "codemirror_mode": {
    "name": "ipython",
    "version": 3
   },
   "file_extension": ".py",
   "mimetype": "text/x-python",
   "name": "python",
   "nbconvert_exporter": "python",
   "pygments_lexer": "ipython3",
   "version": "3.6.7"
  }
 },
 "nbformat": 4,
 "nbformat_minor": 4
}
