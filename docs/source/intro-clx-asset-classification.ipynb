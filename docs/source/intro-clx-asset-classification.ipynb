{
 "cells": [
  {
   "cell_type": "markdown",
   "metadata": {},
   "source": [
    "# CLX Asset Classification (Supervised)\n",
    "\n",
    "This is an introduction to CLX Asset Classification."
   ]
  },
  {
   "cell_type": "markdown",
   "metadata": {},
   "source": [
    "# Introduction\n",
    "\n",
    "In this example, we will show how to use CLX to perform asset classification with some randomly generated dataset using cudf and cuml. This work could be expanded by using different log types (i.e, Windows Events) or different events from the machines as features to improve accuracy. Various labels can be selected to cover different types of machines or data-centres."
   ]
  },
  {
   "cell_type": "markdown",
   "metadata": {},
   "source": [
    "## Train Asset Classification model"
   ]
  },
  {
   "cell_type": "markdown",
   "metadata": {},
   "source": [
    "First initialize your new model"
   ]
  },
  {
   "cell_type": "code",
   "execution_count": 1,
   "metadata": {},
   "outputs": [],
   "source": [
    "from clx.analytics.asset_classification import AssetClassification\n",
    "\n",
    "ac = AssetClassification()"
   ]
  },
  {
   "cell_type": "markdown",
   "metadata": {},
   "source": [
    "Next, train your assest classification model. The below example uses a small sample dataset for demonstration only. Ideally you will want a larger training set."
   ]
  },
  {
   "cell_type": "code",
   "execution_count": 2,
   "metadata": {},
   "outputs": [],
   "source": [
    "import random\n",
    "import cudf\n",
    "\n",
    "train_gdf = cudf.DataFrame()\n",
    "train_gdf[\"1\"] = [random.randint(1, 24) for _ in range(9000)]\n",
    "train_gdf[\"2\"] = [random.randint(1, 4) for _ in range(9000)]\n",
    "train_gdf[\"3\"] = [random.randint(1, 9) for _ in range(9000)]\n",
    "train_gdf[\"4\"] = [random.randint(1, 26) for _ in range(9000)]\n",
    "train_gdf[\"5\"] = [random.randint(1, 3) for _ in range(9000)]\n",
    "train_gdf[\"6\"] = [random.randint(1, 9) for _ in range(9000)]\n",
    "train_gdf[\"7\"] = [random.randint(1, 37) for _ in range(9000)]\n",
    "train_gdf[\"8\"] = [random.randint(1, 8) for _ in range(9000)]\n",
    "train_gdf[\"9\"] = [random.randint(1, 4) for _ in range(9000)]\n",
    "train_gdf[\"10\"] = [random.randint(1, 11) for _ in range(9000)]\n",
    "train_gdf['label'] = [random.randint(0, 6) for _ in range(9000)]"
   ]
  },
  {
   "cell_type": "markdown",
   "metadata": {},
   "source": [
    "Split the dataset into training and test sets"
   ]
  },
  {
   "cell_type": "code",
   "execution_count": 3,
   "metadata": {},
   "outputs": [],
   "source": [
    "from cuml import train_test_split\n",
    "X_train, X_test, Y_train, Y_test = train_test_split(train_gdf, 'label', train_size=0.8)\n",
    "X_train[\"label\"] = Y_train"
   ]
  },
  {
   "cell_type": "markdown",
   "metadata": {},
   "source": [
    "## Initialize variables\n",
    "- Categorical and Continuous feature columns\n",
    "- Batchsize\n",
    "- Number of epochs"
   ]
  },
  {
   "cell_type": "code",
   "execution_count": 4,
   "metadata": {},
   "outputs": [],
   "source": [
    "cat_cols = [\"1\", \"2\", \"3\", \"4\", \"5\", \"6\", \"7\", \"8\"]\n",
    "cont_cols = [\"9\", \"10\"]\n",
    "batch_size = 1000\n",
    "epochs = 2"
   ]
  },
  {
   "cell_type": "code",
   "execution_count": 5,
   "metadata": {},
   "outputs": [
    {
     "name": "stdout",
     "output_type": "stream",
     "text": [
      "training loss:  1.948693021580025\n",
      "valid loss 1.949 and accuracy 0.146\n",
      "training loss:  1.937150220812103\n",
      "valid loss 1.950 and accuracy 0.131\n"
     ]
    }
   ],
   "source": [
    "ac.train_model(X_train, cat_cols, cont_cols, \"label\", batch_size, epochs, lr=0.01, wd=0.0)"
   ]
  },
  {
   "cell_type": "markdown",
   "metadata": {},
   "source": [
    "Ideally, you will want to train your model over a number of `epochs` as detailed in our example Asset Classification [notebook](https://github.com/rapidsai/clx/blob/branch-0.19/notebooks/network_mapping/CLX_Supervised_Asset_Classification.ipynb)."
   ]
  },
  {
   "cell_type": "markdown",
   "metadata": {},
   "source": [
    "## Save a trained model"
   ]
  },
  {
   "cell_type": "code",
   "execution_count": 6,
   "metadata": {},
   "outputs": [],
   "source": [
    "ac.save_model(\"clx_asset_classifier.pth\")"
   ]
  },
  {
   "cell_type": "markdown",
   "metadata": {},
   "source": [
    "Let's create a new asset classifier instance and load saved model."
   ]
  },
  {
   "cell_type": "code",
   "execution_count": 7,
   "metadata": {},
   "outputs": [],
   "source": [
    "asset_classifier = AssetClassification()\n",
    "asset_classifier.load_model('clx_asset_classifier.pth')"
   ]
  },
  {
   "cell_type": "markdown",
   "metadata": {},
   "source": [
    "## AC Inferencing\n",
    "\n",
    "Use your new model for prediction"
   ]
  },
  {
   "cell_type": "code",
   "execution_count": 8,
   "metadata": {},
   "outputs": [],
   "source": [
    "pred_results = ac.predict(X_test, cat_cols, cont_cols).to_array()\n",
    "true_results = Y_test.to_array()"
   ]
  }
 ],
 "metadata": {
  "kernelspec": {
   "display_name": "Python 3",
   "language": "python",
   "name": "python3"
  },
  "language_info": {
   "codemirror_mode": {
    "name": "ipython",
    "version": 3
   },
   "file_extension": ".py",
   "mimetype": "text/x-python",
   "name": "python",
   "nbconvert_exporter": "python",
   "pygments_lexer": "ipython3",
   "version": "3.7.9"
  }
 },
 "nbformat": 4,
 "nbformat_minor": 4
}
